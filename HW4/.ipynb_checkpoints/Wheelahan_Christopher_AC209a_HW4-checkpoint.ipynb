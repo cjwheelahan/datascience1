{
 "cells": [
  {
   "cell_type": "markdown",
   "metadata": {},
   "source": [
    "# CS 109A/AC 209A/STAT 121A Data Science: Homework 4\n",
    "**Harvard University**<br>\n",
    "**Fall 2016**<br>\n",
    "**Instructors: W. Pan, P. Protopapas, K. Rader**<br>\n",
    "**Due Date: ** Wednesday, October 5th, 2016 at 11:59pm"
   ]
  },
  {
   "cell_type": "markdown",
   "metadata": {},
   "source": [
    "Download the `IPython` notebook as well as the data file from Vocareum and complete locally.\n",
    "\n",
    "To submit your assignment, in Vocareum, upload (using the 'Upload' button on your Jupyter Dashboard) your solution to Vocareum as a single notebook with following file name format:\n",
    "\n",
    "`last_first_CourseNumber_HW4.ipynb`\n",
    "\n",
    "where `CourseNumber` is the course in which you're enrolled (CS 109a, Stats 121a, AC 209a). Submit your assignment in Vocareum using the 'Submit' button.\n",
    "\n",
    "**Avoid editing your file in Vocareum after uploading. If you need to make a change in a solution. Delete your old solution file from Vocareum and upload a new solution. Click submit only ONCE after verifying that you have uploaded the correct file. The assignment will CLOSE after you click the submit button.**\n",
    "\n",
    "Problems on homework assignments are equally weighted. The Challenge Question is required for AC 209A students and optional for all others. Student who complete the Challenge Problem as optional extra credit will receive +0.5% towards your final grade for each correct solution. "
   ]
  },
  {
   "cell_type": "markdown",
   "metadata": {},
   "source": [
    "Import libraries"
   ]
  },
  {
   "cell_type": "code",
   "execution_count": 90,
   "metadata": {
    "collapsed": false
   },
   "outputs": [],
   "source": [
    "import numpy as np\n",
    "import pandas as pd\n",
    "from sklearn.linear_model import LinearRegression as Lin_Reg\n",
    "from sklearn.linear_model import Ridge as Ridge_Reg\n",
    "from sklearn.linear_model import Lasso as Lasso_Reg\n",
    "from sklearn.metrics import r2_score\n",
    "import statsmodels.api as sm\n",
    "from statsmodels.regression.linear_model import OLS\n",
    "import sklearn.preprocessing as Preprocessing\n",
    "import itertools as it\n",
    "import matplotlib\n",
    "import matplotlib.pyplot as plt\n",
    "import matplotlib.cm as cmx\n",
    "import matplotlib.colors as colors\n",
    "import scipy as sp\n",
    "from itertools import combinations\n",
    "%matplotlib inline\n",
    "from sklearn.decomposition import PCA\n"
   ]
  },
  {
   "cell_type": "markdown",
   "metadata": {},
   "source": [
    "## Problem 0: Basic Information\n",
    "\n",
    "Fill in your basic information. \n",
    "\n",
    "### Part (a): Your name"
   ]
  },
  {
   "cell_type": "markdown",
   "metadata": {},
   "source": [
    "Wheelahan, Christopher"
   ]
  },
  {
   "cell_type": "markdown",
   "metadata": {},
   "source": [
    "### Part (b): Course Number"
   ]
  },
  {
   "cell_type": "markdown",
   "metadata": {},
   "source": [
    "AC209a"
   ]
  },
  {
   "cell_type": "markdown",
   "metadata": {},
   "source": [
    "### Part (c): Who did you work with?"
   ]
  },
  {
   "cell_type": "markdown",
   "metadata": {},
   "source": [
    "[First and Land names of students with whom you have collaborated]"
   ]
  },
  {
   "cell_type": "markdown",
   "metadata": {},
   "source": [
    "**All data sets can be found in the ``datasets`` folder and are in comma separated value (CSV) format**"
   ]
  },
  {
   "cell_type": "markdown",
   "metadata": {},
   "source": [
    "## Problem 1: Variable selection and regularization\n",
    "\n",
    "The data set for this problem is provided in ``dataset_1.txt`` and contains 10 predictors and a response variable.\n",
    "\n",
    "### Part (a): Analyze correlation among predictors\n",
    "- By visually inspecting the data set, do find that some of the predictors are correlated amongst themselves?\n",
    "\n",
    "\n",
    "- Compute the cofficient of correlation between each pair of predictors, and visualize the matrix of correlation coefficients using a heat map. Do the predictors fall naturally into groups based on the correlation values?\n",
    "\n",
    "\n",
    "- If you were asked to select a minimal subset of predictors based on the correlation information in order to build a good regression model, how many predictors will you pick, and which ones will you choose? "
   ]
  },
  {
   "cell_type": "markdown",
   "metadata": {},
   "source": [
    "Yes - looking at the data, it does appear that some of the data move together with one another (positively correlated) or move opposite one another (negatively correlated). We'll see if this is the case..."
   ]
  },
  {
   "cell_type": "code",
   "execution_count": 100,
   "metadata": {
    "collapsed": false
   },
   "outputs": [
    {
     "name": "stdout",
     "output_type": "stream",
     "text": [
      "         x1        x2        x3        x4        x5        x6        x7  \\\n",
      "0  0.959357  0.959357  0.959357  0.343727  0.524083  0.537768  0.435598   \n",
      "1  0.616969  0.616969  0.616969  0.287376  0.513844  0.497775  0.452732   \n",
      "2  0.995941  0.995941  0.995941  0.107294  0.097106  0.146751  0.136414   \n",
      "3  0.821732  0.821732  0.821732  0.202558  0.329504  0.359471  0.281453   \n",
      "4  0.302423  0.302423  0.302423  0.184564  0.270263  0.293385  0.263866   \n",
      "\n",
      "         x8        x9       x10  \n",
      "0  0.831999  0.153247  0.005016  \n",
      "1  0.914609  0.367390  0.444473  \n",
      "2  0.635926  0.535209  0.899457  \n",
      "3  0.106263  0.479327  0.256271  \n",
      "4  0.378630  0.740241  0.468589   (100, 10) (100, 1)\n"
     ]
    },
    {
     "data": {
      "text/plain": [
       "<function matplotlib.pyplot.show>"
      ]
     },
     "execution_count": 100,
     "metadata": {},
     "output_type": "execute_result"
    },
    {
     "data": {
      "image/png": "[encoded data removed]",
      "text/plain": [
       "<matplotlib.figure.Figure at 0x11a9b71d0>"
      ]
     },
     "metadata": {},
     "output_type": "display_data"
    }
   ],
   "source": [
    "data = pd.read_csv('datasets/dataset_1.txt')\n",
    "x = data.ix[:, :-1]\n",
    "y = data[[-1]]\n",
    "print x.head(), x.shape, y.shape\n",
    "corr = np.corrcoef(x.T)\n",
    "corr.shape\n",
    "\n",
    "fig, ax = plt.subplots(1, 1, figsize=(6, 6))\n",
    "ax.pcolor(corr)\n",
    "ax.set_title(\"Heatmap of correlation coefficients\")\n",
    "plt.show"
   ]
  },
  {
   "cell_type": "markdown",
   "metadata": {},
   "source": [
    "So obviously the diagonal is 1:1 correlation... in addition there is a lot of correlation in 4-7 (so we really only need one of those) to reduce collinearity, as well as 8, 9, and 10 which are not correlated."
   ]
  },
  {
   "cell_type": "markdown",
   "metadata": {},
   "source": [
    "### Part (b): Selecting minimal subset of predictors\n",
    "\n",
    "- Apply the variable selection methods discussed in class to choose a minimal subset of predictors that yield high prediction accuracy:\n",
    "    \n",
    "    - Exhaustive search\n",
    "    \n",
    "    - Step-wise forward selection **or** Step-wise backward selection  \n",
    "\n",
    "&emsp;&nbsp;&nbsp; In each method, use the Bayesian Information Criterion (BIC) to choose the subset size.\n",
    "\n",
    "- Do the chosen subsets match the ones you picked using the correlation matrix you had visualized in Part (a)?\n",
    "\n",
    "**Note**: You may use the `statsmodels`'s `OLS` module to fit a linear regression model and evaluate BIC. You may **not** use library functions that implement variable selection."
   ]
  },
  {
   "cell_type": "code",
   "execution_count": 107,
   "metadata": {
    "collapsed": false
   },
   "outputs": [
    {
     "name": "stdout",
     "output_type": "stream",
     "text": [
      "Best subset by exhaustive search:\n",
      "[0, 5, 7, 8, 9]\n"
     ]
    }
   ],
   "source": [
    "min_bic = 1e10 # set some initial large value for min BIC score\n",
    "best_subset = [] # best subset of predictors\n",
    "\n",
    "# Create all possible subsets of the set of 10 predictors\n",
    "predictor_set = set(range(10)) # predictor set = {0, 1, 2, 3, 4, 5, 6, 7, 8, 9}\n",
    "\n",
    "# Repeat for every possible size of subset\n",
    "for size_k in range(10): \n",
    "    # Create all possible subsets of size 'size', \n",
    "    # using the 'combination' function from the 'itertools' library\n",
    "    subsets_of_size_k = it.combinations(predictor_set, size_k + 1) \n",
    "    \n",
    "    max_r_squared = -1e10 # set some initial small value for max R^2 score\n",
    "    best_k_subset = [] # best subset of predictors of size k\n",
    "    \n",
    "    # Iterate over all subsets of our predictor set\n",
    "    for predictor_subset in subsets_of_size_k:    \n",
    "        # Use only a subset of predictors in the training data\n",
    "        x_subset = x.ix[:, predictor_subset]\n",
    "\n",
    "        # Fit and evaluate R^2\n",
    "        model = OLS(y, x_subset)\n",
    "        results = model.fit()\n",
    "        r_squared = results.rsquared\n",
    "        \n",
    "        # Update max R^2 and best predictor subset of size k\n",
    "        # If current predictor subset has a higher R^2 score than that of the best subset \n",
    "        # we've found so far, remember the current predictor subset as the best!\n",
    "        if(r_squared > max_r_squared): \n",
    "            max_r_squared = r_squared\n",
    "            best_k_subset = predictor_subset[:]\n",
    "                \n",
    "\n",
    "    # Use only the best subset of size k for the predictors\n",
    "    x_subset = x.ix[:, best_k_subset]\n",
    "        \n",
    "    # Fit and evaluate BIC of the best subset of size k\n",
    "    model = OLS(y, x_subset)\n",
    "    results = model.fit()\n",
    "    bic = results.bic\n",
    "    \n",
    "    # Update minimum BIC and best predictor subset\n",
    "    # If current predictor has a lower BIC score than that of the best subset \n",
    "    # we've found so far, remember the current predictor as the best!\n",
    "    if(bic < min_bic): \n",
    "        min_bic = bic\n",
    "        best_subset = best_k_subset[:]\n",
    "    \n",
    "print('Best subset by exhaustive search:')\n",
    "print sorted(best_subset)"
   ]
  },
  {
   "cell_type": "code",
   "execution_count": 108,
   "metadata": {
    "collapsed": false
   },
   "outputs": [
    {
     "name": "stdout",
     "output_type": "stream",
     "text": [
      "Step-wise backward subset selection:\n",
      "[2, 5, 7, 8, 9]\n"
     ]
    }
   ],
   "source": [
    "###  Step-wise Backward Selection\n",
    "d = x.shape[1] # total no. of predictors\n",
    "\n",
    "# Keep track of current set of chosen predictors\n",
    "current_predictors = range(d)\n",
    "\n",
    "# First, fit and evaluate BIC using all 'd' number of predictors\n",
    "model = OLS(y, x)\n",
    "results = model.fit()\n",
    "bic_all = results.bic\n",
    "\n",
    "# Set the minimum BIC score, initially, to the BIC score using all 'd' predictors\n",
    "global_min_bic = bic_all\n",
    "# Keep track of the best subset of predictors\n",
    "best_subset = [] \n",
    "\n",
    "# Iterate over all possible subset sizes, d predictors to 1 predictor\n",
    "for size in range(d - 1, 1, -1): # stop before 0 to avoid choosing an empty set of predictors\n",
    "    max_r_squared = -1e10 # set some initial small value for max R^2\n",
    "    worst_predictor = -1 # set some throwaway initial number for the worst predictor to remove\n",
    "    bic_without_worst_predictor = 1e10 # set some initial large value for min BIC score  \n",
    "        \n",
    "    # Iterate over current set of predictors (for potential elimination)\n",
    "    for i in current_predictors:\n",
    "        # Create copy of current predictors, and remove predictor 'i'\n",
    "        temp = current_predictors[:]\n",
    "        temp.remove(i)\n",
    "                                    \n",
    "        # Use only a subset of predictors in the training data\n",
    "        x_subset = x.ix[:, temp]\n",
    "        \n",
    "        # Fit and evaluate R^2\n",
    "        model = OLS(y, x_subset)\n",
    "        results = model.fit()\n",
    "        r_squared = results.rsquared\n",
    "        \n",
    "        # Check if we get a higher R^2 value than than current max R^2, if so, update\n",
    "        if(r_squared > max_r_squared):\n",
    "            max_r_squared = r_squared\n",
    "            worst_predictor = i\n",
    "            bic_without_worst_predictor = results.bic\n",
    "          \n",
    "    # Remove worst predictor from current set of predictors\n",
    "    current_predictors.remove(worst_predictor)\n",
    "    \n",
    "    # Check if BIC for the predictor we just removed is lower than \n",
    "    # the global minimum across all subset of predictors\n",
    "    if(bic_without_worst_predictor < global_min_bic):\n",
    "        best_subset = current_predictors[:]\n",
    "        global_min_bic = bic_without_worst_predictor\n",
    "    \n",
    "print 'Step-wise backward subset selection:'\n",
    "print sorted(best_subset)"
   ]
  },
  {
   "cell_type": "markdown",
   "metadata": {},
   "source": [
    "### Part (c): Apply Lasso and Ridge regression\n",
    "\n",
    "- Apply Lasso regression with regularization parameter $\\lambda = 0.01$ and fit a regression model.\n",
    "\n",
    "    - Identify the predictors that are assigned non-zero coefficients. Do these correspond to  the correlation matrix in Part (a)?\n",
    "\n",
    "\n",
    "- Apply Ridge regression with regularization parameter $\\lambda = 0.01$ and fit a regression model.\n",
    "\n",
    "    - Is there a difference between the model parameters you obtain different and those obtained from Lasso regression? If so, explain why.\n",
    "\n",
    "    - Identify the predictors that are assigned non-zero coefficients. Do these correspond to  the correlation matrix in Part (a)?\n",
    "\n",
    "\n",
    "- Is there anything peculiar that you observe about the coefficients Ridge regression assigns to the first three predictors? Do you observe the same with Lasso regression? Give an explanation for your observation.\n",
    "\n",
    "**Note**: You may use the `statsmodels` or `sklearn` to perform Lasso and Ridge regression."
   ]
  },
  {
   "cell_type": "code",
   "execution_count": 109,
   "metadata": {
    "collapsed": false
   },
   "outputs": [
    {
     "name": "stdout",
     "output_type": "stream",
     "text": [
      "The coefficients for Lasso are: [ 0.  0.  0. -0. -0. -0. -0.  0. -0. -0.]\n",
      "The intercept for Lasso is: [-0.33652027]\n",
      "The coefficients for Lasso are: [ 0.13072565  0.          0.          0.47565795 -0.09171877 -0.60009329\n",
      "  0.21683739  0.18510204 -0.50196819 -0.35861113]\n",
      "The intercept for Lasso is: [ 0.01836613]\n"
     ]
    }
   ],
   "source": [
    "lasso = Lasso_Reg(alpha=0.1)\n",
    "lasso.fit(x, y) \n",
    "print \"The coefficients for Lasso are:\", lasso.coef_\n",
    "print \"The intercept for Lasso is:\", lasso.intercept_\n",
    "\n",
    "lasso = Lasso_Reg(alpha=0.0001)\n",
    "lasso.fit(x, y) \n",
    "print \"The coefficients for Lasso are:\", lasso.coef_\n",
    "print \"The intercept for Lasso is:\", lasso.intercept_\n"
   ]
  },
  {
   "cell_type": "markdown",
   "metadata": {},
   "source": [
    "Interesting... lasso yields all 0's, which indicates that the regularization parameter is too high (which is to say, the minimized loss function is over-correcting). Testing with smaller lambda, we get some more meaningful coefficients, but still I worry about the downward bias of the model."
   ]
  },
  {
   "cell_type": "code",
   "execution_count": 110,
   "metadata": {
    "collapsed": false
   },
   "outputs": [
    {
     "name": "stdout",
     "output_type": "stream",
     "text": [
      "The coefficients for Ridge are: [[ 0.0443333   0.0443333   0.0443333   0.25801922 -0.11492372 -0.37754574\n",
      "   0.15142447  0.18199105 -0.49854958 -0.3543336 ]]\n",
      "The intercept for Ridge is: [ 0.01937298]\n"
     ]
    }
   ],
   "source": [
    "ridge = Ridge_Reg(alpha=0.1)\n",
    "ridge.fit(x, y) \n",
    "print \"The coefficients for Ridge are:\", ridge.coef_\n",
    "print \"The intercept for Ridge is:\", ridge.intercept_"
   ]
  },
  {
   "cell_type": "markdown",
   "metadata": {},
   "source": [
    "The Ridge model yielded 3 coefficients that are all the same... Because we are looking at a different loss function from OLS (one which includes a penalty sum), it appears that the first three coefficients being the same minimizes the interaction between the $\\beta$ vector and the $ \\sum(y_i - X\\beta)^2 $ vector"
   ]
  },
  {
   "cell_type": "markdown",
   "metadata": {},
   "source": [
    "## Problem 2: Cross-validation and Bootstrapping\n",
    "In this problem, you will work with an expanded version of the automobile pricing data set you analyzed in Homework 3. The data set is contained ``dataset_2.txt``, with 26 attribues (i.e. predictors) for each automobile and corresponding prices. \n",
    "\n",
    "### Part(a): Encode categorical attributes and fill missing values\n",
    "Identify the categorical attributes in the data. Replace their values with the one-hot binary encoding. You may do this using the `get_dummies()` function in `pandas`. If you do this task correctly, you should get a total of 69 predictors after the encoding.\n"
   ]
  },
  {
   "cell_type": "code",
   "execution_count": 111,
   "metadata": {
    "collapsed": false,
    "scrolled": false
   },
   "outputs": [
    {
     "name": "stdout",
     "output_type": "stream",
     "text": [
      "(205, 70)\n",
      "   horsepower  highway-mpg  symboling  normalized-losses    make fuel-type  \\\n",
      "0        95.0         24.0        0.0         120.232558  peugot       gas   \n",
      "1       116.0         30.0        2.0         134.000000  toyota       gas   \n",
      "2       121.0         28.0        0.0         188.000000     bmw       gas   \n",
      "\n",
      "  aspiration num-of-doors body-style drive-wheels   ...    engine-type  \\\n",
      "0        std         four      wagon          rwd   ...              l   \n",
      "1        std          two    hardtop          rwd   ...            ohc   \n",
      "2        std          two      sedan          rwd   ...            ohc   \n",
      "\n",
      "   num-of-cylinders  engine-size  fuel-system  bore  stroke compression-ratio  \\\n",
      "0              four        120.0         mpfi  3.46    2.19               8.4   \n",
      "1              four        146.0         mpfi  3.62    3.50               9.3   \n",
      "2               six        164.0         mpfi  3.31    3.19               9.0   \n",
      "\n",
      "  peak-rpm  city-mpg    price  \n",
      "0   5000.0      19.0  16695.0  \n",
      "1   4800.0      24.0  11199.0  \n",
      "2   4250.0      21.0  20970.0  \n",
      "\n",
      "[3 rows x 26 columns]\n",
      "   horsepower  highway-mpg  -2.0  0.0  1.0  1.09604519774  2.0  3.0  \\\n",
      "0        95.0         24.0   0.0  1.0  0.0            0.0  0.0  0.0   \n",
      "1       116.0         30.0   0.0  0.0  0.0            0.0  1.0  0.0   \n",
      "2       121.0         28.0   0.0  1.0  0.0            0.0  0.0  0.0   \n",
      "\n",
      "   normalized-losses  audi   ...     2bbl  idi  mpfi  spdi  bore  stroke  \\\n",
      "0         120.232558   0.0   ...      0.0  0.0   1.0   0.0  3.46    2.19   \n",
      "1         134.000000   0.0   ...      0.0  0.0   1.0   0.0  3.62    3.50   \n",
      "2         188.000000   0.0   ...      0.0  0.0   1.0   0.0  3.31    3.19   \n",
      "\n",
      "   compression-ratio  peak-rpm  city-mpg    price  \n",
      "0                8.4    5000.0      19.0  16695.0  \n",
      "1                9.3    4800.0      24.0  11199.0  \n",
      "2                9.0    4250.0      21.0  20970.0  \n",
      "\n",
      "[3 rows x 70 columns]\n"
     ]
    }
   ],
   "source": [
    "data = pd.read_csv('datasets/dataset_2.txt')\n",
    "#data = np.loadtxt(open(\"datasets/dataset_2.txt\"),delimiter=\",\",skiprows=1)\n",
    "\n",
    "start_index = np.zeros(d + 1)\n",
    "\n",
    "x_df_expanded = pd.DataFrame({})\n",
    "\n",
    "# split if fewer than 8 categories and append to x_df_expanded\n",
    "for column in data.columns:\n",
    "    if len(data[column].unique()) < 8 or data[column].dtype == np.dtype('object'):\n",
    "        encoding = pd.get_dummies(data[column])\n",
    "        x_df_expanded = pd.concat([x_df_expanded, encoding], axis=1)\n",
    "    else:\n",
    "        x_df_expanded = pd.concat([x_df_expanded, data[[column]]], axis = 1)\n",
    "        \n",
    "print x_df_expanded.shape\n",
    "print data.head(n=3)\n",
    "print x_df_expanded.head(n=3)\n"
   ]
  },
  {
   "cell_type": "markdown",
   "metadata": {},
   "source": [
    "### Part (b): Apply regular linear regression\n",
    "- Split the data set into train and test sets, with the first 25% of the data for training and the remaining for testing.  \n",
    "\n",
    "\n",
    "- Use regular linear regression to fit a model to the training set and evaluate the R^2 score of the fitted model on both the training and test sets. What do you observe about these values?\n",
    "\n",
    "\n",
    "- You had seen in class that the R^2 value of a least-squares fit to a data set would lie between 0 and 1. Is this true for the test R^2 values reported above? If not, give a reason for why this is the case.\n",
    "\n",
    "\n",
    "- Is there a need for regularization while fitting a linear model to this data set?\n",
    "\n",
    "**Note**: You may use the `statsmodels` or `sklearn` to fit a linear regression model and evaluate the fits."
   ]
  },
  {
   "cell_type": "code",
   "execution_count": 115,
   "metadata": {
    "collapsed": false,
    "scrolled": false
   },
   "outputs": [
    {
     "name": "stdout",
     "output_type": "stream",
     "text": [
      "(205, 70)\n",
      "                            OLS Regression Results                            \n",
      "==============================================================================\n",
      "Dep. Variable:                  price   R-squared:                       1.000\n",
      "Model:                            OLS   Adj. R-squared:                  1.000\n",
      "Method:                 Least Squares   F-statistic:                 3.277e+20\n",
      "Date:                Thu, 06 Oct 2016   Prob (F-statistic):           1.94e-41\n",
      "Time:                        16:27:44   Log-Likelihood:                 758.98\n",
      "No. Observations:                  52   AIC:                            -1422.\n",
      "Df Residuals:                       4   BIC:                            -1328.\n",
      "Df Model:                          47                                         \n",
      "Covariance Type:            nonrobust                                         \n",
      "=====================================================================================\n",
      "                        coef    std err          t      P>|t|      [95.0% Conf. Int.]\n",
      "-------------------------------------------------------------------------------------\n",
      "horsepower          464.2796   3.59e-07   1.29e+09      0.000       464.280   464.280\n",
      "highway-mpg         301.6141   3.15e-06   9.57e+07      0.000       301.614   301.614\n",
      "-2.0              -1.199e-05   6.46e-14  -1.86e+08      0.000      -1.2e-05  -1.2e-05\n",
      "0.0                6.662e+04   2.82e-05   2.36e+09      0.000      6.66e+04  6.66e+04\n",
      "1.0                5.169e+04    2.3e-05   2.25e+09      0.000      5.17e+04  5.17e+04\n",
      "1.09604519774      3.973e+04   3.19e-05   1.25e+09      0.000      3.97e+04  3.97e+04\n",
      "2.0                6.092e+04   3.07e-05   1.98e+09      0.000      6.09e+04  6.09e+04\n",
      "3.0                 3.26e+04    4.2e-05   7.77e+08      0.000      3.26e+04  3.26e+04\n",
      "normalized-losses   331.1565   2.15e-07   1.54e+09      0.000       331.157   331.157\n",
      "audi               7.707e+04   3.09e-05   2.49e+09      0.000      7.71e+04  7.71e+04\n",
      "bmw               -9.402e+04   4.95e-05   -1.9e+09      0.000      -9.4e+04  -9.4e+04\n",
      "chevrolet         -6534.7409   1.17e-05  -5.59e+08      0.000     -6534.741 -6534.741\n",
      "dodge             -4928.2287   2.09e-06  -2.36e+09      0.000     -4928.229 -4928.229\n",
      "honda              3.872e+04   1.85e-05   2.09e+09      0.000      3.87e+04  3.87e+04\n",
      "mazda               2.65e+04   1.04e-05   2.54e+09      0.000      2.65e+04  2.65e+04\n",
      "mercedes-benz      7.235e+04   5.06e-05   1.43e+09      0.000      7.23e+04  7.23e+04\n",
      "mercury            2.908e-08   1.73e-17   1.68e+09      0.000      2.91e-08  2.91e-08\n",
      "mitsubishi         4582.1401   2.17e-05   2.11e+08      0.000      4582.140  4582.140\n",
      "nissan              238.7265      2e-06   1.19e+08      0.000       238.727   238.727\n",
      "peugot             1.808e+04   2.04e-05   8.86e+08      0.000      1.81e+04  1.81e+04\n",
      "plymouth           1.108e+04   1.23e-05   8.98e+08      0.000      1.11e+04  1.11e+04\n",
      "porsche            1.049e+05   6.12e-05   1.71e+09      0.000      1.05e+05  1.05e+05\n",
      "renault           -4.345e-09   5.32e-18  -8.16e+08      0.000     -4.34e-09 -4.34e-09\n",
      "saab               9963.5467   4.97e-06      2e+09      0.000      9963.547  9963.547\n",
      "subaru            -5.256e+04   1.92e-05  -2.73e+09      0.000     -5.26e+04 -5.26e+04\n",
      "toyota            -1.332e+04   7.89e-06  -1.69e+09      0.000     -1.33e+04 -1.33e+04\n",
      "volkswagen         4.415e+04   1.88e-05   2.35e+09      0.000      4.42e+04  4.42e+04\n",
      "volvo              1.534e+04   7.19e-06   2.13e+09      0.000      1.53e+04  1.53e+04\n",
      "diesel              6.76e+04   5.02e-05   1.35e+09      0.000      6.76e+04  6.76e+04\n",
      "gas                 1.84e+05   9.55e-05   1.93e+09      0.000      1.84e+05  1.84e+05\n",
      "std                1.277e+05   7.51e-05    1.7e+09      0.000      1.28e+05  1.28e+05\n",
      "turbo              1.239e+05   6.95e-05   1.78e+09      0.000      1.24e+05  1.24e+05\n",
      "four               1.273e+05   7.58e-05   1.68e+09      0.000      1.27e+05  1.27e+05\n",
      "two                1.243e+05   6.88e-05   1.81e+09      0.000      1.24e+05  1.24e+05\n",
      "convertible         4.13e-08   2.31e-17   1.79e+09      0.000      4.13e-08  4.13e-08\n",
      "hardtop            3.584e+04   2.12e-05   1.69e+09      0.000      3.58e+04  3.58e+04\n",
      "hatchback          6.971e+04   4.15e-05   1.68e+09      0.000      6.97e+04  6.97e+04\n",
      "sedan              6.993e+04   4.17e-05   1.68e+09      0.000      6.99e+04  6.99e+04\n",
      "wagon              7.607e+04   4.05e-05   1.88e+09      0.000      7.61e+04  7.61e+04\n",
      "4wd                9.473e+04   4.93e-05   1.92e+09      0.000      9.47e+04  9.47e+04\n",
      "fwd                8.215e+04   5.26e-05   1.56e+09      0.000      8.21e+04  8.21e+04\n",
      "rwd                7.467e+04    4.3e-05   1.74e+09      0.000      7.47e+04  7.47e+04\n",
      "front              1.467e+05   8.36e-05   1.75e+09      0.000      1.47e+05  1.47e+05\n",
      "rear               1.049e+05   6.12e-05   1.71e+09      0.000      1.05e+05  1.05e+05\n",
      "wheel-base         7413.5264   4.18e-06   1.77e+09      0.000      7413.526  7413.526\n",
      "length             -984.3680   6.28e-07  -1.57e+09      0.000      -984.368  -984.368\n",
      "width             -2.452e+04    1.5e-05  -1.63e+09      0.000     -2.45e+04 -2.45e+04\n",
      "height            -4803.2014    9.6e-07     -5e+09      0.000     -4803.201 -4803.201\n",
      "curb-weight          10.9091   3.42e-09   3.19e+09      0.000        10.909    10.909\n",
      "dohc               6.363e+04    3.5e-05   1.82e+09      0.000      6.36e+04  6.36e+04\n",
      "l                  1.808e+04   2.04e-05   8.86e+08      0.000      1.81e+04  1.81e+04\n",
      "ohc                5.424e+04   3.84e-05   1.41e+09      0.000      5.42e+04  5.42e+04\n",
      "ohcf                5.23e+04      5e-05   1.04e+09      0.000      5.23e+04  5.23e+04\n",
      "ohcv               6.331e+04   2.36e-05   2.68e+09      0.000      6.33e+04  6.33e+04\n",
      "eight              6.331e+04   2.36e-05   2.68e+09      0.000      6.33e+04  6.33e+04\n",
      "five                8.61e+04   6.81e-05   1.26e+09      0.000      8.61e+04  8.61e+04\n",
      "four               2.403e+04    5.6e-05   4.29e+08      0.000       2.4e+04   2.4e+04\n",
      "six                7.812e+04   3.22e-05   2.42e+09      0.000      7.81e+04  7.81e+04\n",
      "engine-size       -1059.2448   5.29e-07     -2e+09      0.000     -1059.245 -1059.245\n",
      "1bbl               3.872e+04   1.85e-05   2.09e+09      0.000      3.87e+04  3.87e+04\n",
      "2bbl               3.887e+04   1.96e-05   1.98e+09      0.000      3.89e+04  3.89e+04\n",
      "idi                 6.76e+04   5.02e-05   1.35e+09      0.000      6.76e+04  6.76e+04\n",
      "mpfi               4.687e+04   3.15e-05   1.49e+09      0.000      4.69e+04  4.69e+04\n",
      "spdi                5.95e+04   2.75e-05   2.16e+09      0.000      5.95e+04  5.95e+04\n",
      "bore                1.28e+05   6.41e-05      2e+09      0.000      1.28e+05  1.28e+05\n",
      "stroke              2.45e+04   1.41e-05   1.73e+09      0.000      2.45e+04  2.45e+04\n",
      "compression-ratio  5960.1871   2.25e-06   2.65e+09      0.000      5960.187  5960.187\n",
      "peak-rpm            -26.0694   1.46e-08  -1.79e+09      0.000       -26.069   -26.069\n",
      "city-mpg           -569.9646   4.64e-06  -1.23e+08      0.000      -569.965  -569.965\n",
      "==============================================================================\n",
      "Omnibus:                        1.169   Durbin-Watson:                   1.004\n",
      "Prob(Omnibus):                  0.557   Jarque-Bera (JB):                0.470\n",
      "Skew:                           0.081   Prob(JB):                        0.790\n",
      "Kurtosis:                       3.437   Cond. No.                     1.01e+16\n",
      "==============================================================================\n",
      "\n",
      "Warnings:\n",
      "[1] Standard Errors assume that the covariance matrix of the errors is correctly specified.\n",
      "[2] The input rank is higher than the number of observations.\n",
      "[3] The smallest eigenvalue is 1.68e-23. This might indicate that there are\n",
      "strong multicollinearity problems or that the design matrix is singular.\n",
      "154 154\n",
      "The Score for an OLS model of the trained model on the test set is: -7.48993215418\n"
     ]
    }
   ],
   "source": [
    "# split to train/test\n",
    "n = len(x_df_expanded)/4\n",
    "train = x_df_expanded.ix[:n]\n",
    "x_train = train.ix[:, :-1]\n",
    "y_train = train[[-1]]\n",
    "test = x_df_expanded.ix[n:]\n",
    "x_test = test.ix[:, :-1]\n",
    "y_test = test[[-1]]\n",
    "print x_df_expanded.shape\n",
    "\n",
    "#print train.shape, test.shape\n",
    "#print x_train.shape, y_train.shape\n",
    "#print x_test.shape, y_test.shape\n",
    "\n",
    "#OLS\n",
    "fit = sm.OLS(y_train, x_train)\n",
    "model_results = fit.fit()\n",
    "print model_results.summary()\n",
    "#print model_results.predict()\n",
    "\n",
    "predictions = model_results.predict(x_test)\n",
    "#print predictions\n",
    "print len(y_test), len(predictions)\n",
    "print \"The Score for an OLS model of the trained model on the test set is:\", r2_score(y_test, predictions)"
   ]
  },
  {
   "cell_type": "markdown",
   "metadata": {},
   "source": [
    "The issue here is that since we split the categorical data, we have a huge number of predictors and relatively few observations of the data. As such, we have a drastically overfitted model. We need to do some kind of regularization."
   ]
  },
  {
   "cell_type": "markdown",
   "metadata": {},
   "source": [
    "### Part (c): Apply Ridge regression\n",
    "\n",
    "- Apply Ridge regression on the training set for different values of the regularization parameter $\\lambda$ in the range $\\{10^{-7}, 10^{-6}, \\ldots, 10^7\\}$. Evaluate the R^2 score for the models you obtain on both the train and test sets. Plot both values as a function of $\\lambda$. \n",
    "\n",
    "\n",
    "- Explain the relationship between the regularization parameter and the training and test R^2 scores.\n",
    "\n",
    "\n",
    "- How does the best test R^2 value obtained using Ridge regression compare with that of plain linear regression? Explain.\n",
    "\n",
    "**Note**: You may use the `statsmodels` or `sklearn` to fit a ridge regression model and evaluate the fits."
   ]
  },
  {
   "cell_type": "code",
   "execution_count": 113,
   "metadata": {
    "collapsed": false
   },
   "outputs": [
    {
     "name": "stdout",
     "output_type": "stream",
     "text": [
      "[-6.7970768850315189, -6.1598003520688218, -2.6872746734353359, 0.43656563094295076, 0.65598745484370391, 0.83320948917182625, 0.90517617946906082, 0.9141227213055787, 0.90766708180231581, 0.87889168837105358, 0.85863352882915467, 0.83387743915308588, 0.73561302786480498, 0.64493201641379505, 0.45368803132424917]\n",
      "[0.99999998913940935, 0.99999902510789329, 0.99995717963704445, 0.99975797264951882, 0.99959227079171564, 0.99883032387327875, 0.99509426489249364, 0.98410217885053819, 0.93500058198143432, 0.87099251613710194, 0.83173406577630671, 0.80784443091097469, 0.73032327700444322, 0.65752191783778624, 0.50523345321751778]\n"
     ]
    },
    {
     "data": {
      "image/png": "[encoded data removed]",
      "text/plain": [
       "<matplotlib.figure.Figure at 0x11ac3fbd0>"
      ]
     },
     "metadata": {},
     "output_type": "display_data"
    }
   ],
   "source": [
    "#print len(x_train)\n",
    "r2_train_list = []\n",
    "r2_test_list = []\n",
    "exp_list = []\n",
    "#print list_of_fits.shape\n",
    "\n",
    "# Loop through values of reg parameters between 10^-7 to 10^7\n",
    "for i in range(-7, 8):\n",
    "    exp = 10**i\n",
    "    exp_list.append(exp)\n",
    "    ridge = Ridge_Reg(alpha=exp)\n",
    "    ridge.fit(x_train, y_train) \n",
    "    train_predictions = ridge.predict(x_train)\n",
    "    test_predictions = ridge.predict(x_test)\n",
    "    \n",
    "    r2_train_list.append(r2_score(y_train, train_predictions))\n",
    "    r2_test_list.append(r2_score(y_test, test_predictions))\n",
    "    \n",
    "print r2_test_list\n",
    "print r2_train_list\n",
    "\n",
    "#graph r-squared versus values of lambda\n",
    "r2plot = plt.figure(figsize=(20, 20))\n",
    "plot_rsq = r2plot.add_subplot(221)\n",
    "plt.plot(exp_list, r2_test_list, c='green', label='Test R-squared')\n",
    "plt.plot(exp_list, r2_train_list, c='red', label='Train R-squared')\n",
    "plt.title('Ridge Reg R-squared for values of lambda 10^-7 to 10^7')\n",
    "plt.xlabel('Lambda')\n",
    "plt.ylabel('Ridge R-squared')\n",
    "plt.legend(loc=3)\n",
    "\n",
    "\n",
    "r2_test2 = r2_test_list[3:]\n",
    "r2_train2 = r2_train_list[3:]\n",
    "exp_list = exp_list[3:]\n",
    "\n",
    "#kind of hard to see/interpret anything... let's limit the x-values in the graph\n",
    "plot_rsq2 = r2plot.add_subplot(222)\n",
    "plt.plot(exp_list, r2_test2, c='green', label='Test R-squared')\n",
    "plt.plot(exp_list, r2_train2, c='red', label='Train R-squared')\n",
    "plt.title('Ridge Reg R-squared for values of lambda 10^-4 to 10^7')\n",
    "plt.xlabel('Lambda')\n",
    "plt.ylabel('Ridge R-squared')\n",
    "plt.legend(loc=3)\n",
    "\n",
    "\n",
    "\n",
    "plt.show()"
   ]
  },
  {
   "cell_type": "markdown",
   "metadata": {},
   "source": [
    "At extremely small values of $\\lambda$, we get a very bad R-squared because the regularization parameter that minimizes the loss function results in a penalty function which ruins our data. As we increase the regularization parameter, the r-squared goes up - maximized at $\\lambda$ = 1 with over 91% of the variance explained by the model.\n",
    "\n",
    "The R-squared of this is actually less than that of an OLS model, but this is because the OLS model is overfitted with no penalty function. With more variables, you necessarily get higher and higher R-squareds. While the Ridge model may be a bit biased towards the null hypothesis, it is ultimately better because it penalizes some of the high dimensionality. This is reflected in the score of the OLS model."
   ]
  },
  {
   "cell_type": "markdown",
   "metadata": {},
   "source": [
    "### Part (d): Tune regularization parameter using cross-validation and bootstrapping\n",
    "-  Evaluate the performance of the Ridge regression for different regularization parameters $\\lambda$ using 5-fold cross validation **or** bootstrapping on the training set. \n",
    "\n",
    "    - Plot the cross-validation (CV) or bootstrapping R^2 score as a function of $\\lambda$. \n",
    "    \n",
    "    - How closely does the CV score or bootstrapping score match the R^2 score on the test set? Does the model with lowest CV score or bootstrapping score correspond to the one with maximum R^2 on the test set?\n",
    "    \n",
    "    - Does the model chosen by CV or bootstrapping perform better than plain linear regression?\n",
    "\n",
    "**Note**: You may use the `statsmodels` or `sklearn` to fit a linear regression model and evaluate the fits. You may also use `kFold` from `sklearn.cross_validation`. "
   ]
  },
  {
   "cell_type": "code",
   "execution_count": 114,
   "metadata": {
    "collapsed": false
   },
   "outputs": [
    {
     "name": "stdout",
     "output_type": "stream",
     "text": [
      "[0.99134318412371236, 0.99247065911154575, 0.99516481145362012, 0.99401507720366278, 0.99198797221704926, 0.98955045734502878, 0.99157195937256182, 0.98808728914359556, 0.94975328186650843, 0.90352529238956825, 0.89356328560555609, 0.87489082182800759, 0.82862290845625797, 0.70812825925687073, 0.59137788244994249]\n"
     ]
    },
    {
     "data": {
      "image/png": "[encoded data removed]",
      "text/plain": [
       "<matplotlib.figure.Figure at 0x11e8b24d0>"
      ]
     },
     "metadata": {},
     "output_type": "display_data"
    }
   ],
   "source": [
    "index_r2 = []\n",
    "n = len(x_df_expanded)/4\n",
    "exp_list = []\n",
    "\n",
    "for i in range(-7, 8):\n",
    "    exp = 10**i\n",
    "    exp_list.append(exp)\n",
    "    \n",
    "    for n in range(1, 100):\n",
    "        bs_r2 = []\n",
    "        length = data.shape[0]\n",
    "        perm = np.random.permutation(length)\n",
    "        new_data = x_df_expanded.iloc[perm[:n]]\n",
    "        x = new_data.ix[:, :-1]\n",
    "        y = new_data[[-1]]\n",
    "\n",
    "#        print x_df_expanded.shape\n",
    "#        print new_data.shape\n",
    "#        print x.shape, y.shape\n",
    "        \n",
    "        ridge = Ridge_Reg(alpha=exp)\n",
    "        ridge.fit(x, y) \n",
    "        predictions = ridge.predict(x)\n",
    "        bs_r2.append(r2_score(y, predictions))\n",
    "    \n",
    "    index_r2.append(np.mean(bs_r2))\n",
    "\n",
    "print index_r2\n",
    "\n",
    "\n",
    "#graph each column in list of fits vs. i\n",
    "r2plot2 = plt.figure(figsize=(20, 20))\n",
    "plot_rsq = r2plot2.add_subplot(221)\n",
    "plt.plot(exp_list, r2_test_list, c='green', label='Test R-squared')\n",
    "plt.plot(exp_list, r2_train_list, c='red', label='Train R-squared')\n",
    "plt.plot(exp_list, index_r2, c='blue', label='Bootstrap R-squared')\n",
    "plt.title('Ridge Reg R-squared for values of lambda 10^-7 to 10^7')\n",
    "plt.xlabel('Lambda')\n",
    "plt.ylabel('Ridge R-squared')\n",
    "plt.legend(loc=3)\n",
    "\n",
    "\n",
    "r2_test2 = r2_test_list[3:]\n",
    "r2_train2 = r2_train_list[3:]\n",
    "exp_list = exp_list[3:]\n",
    "index_r2 = index_r2[3:]\n",
    "\n",
    "plot_rsq2 = r2plot2.add_subplot(222)\n",
    "plt.plot(exp_list, r2_test2, c='green', label='Test R-squared')\n",
    "plt.plot(exp_list, r2_train2, c='red', label='Train R-squared')\n",
    "plt.plot(exp_list, index_r2, c='blue', label='Bootstrap R-squared')\n",
    "plt.title('Ridge Reg R-squared for values of lambda 10^-4 to 10^7')\n",
    "plt.xlabel('Lambda')\n",
    "plt.ylabel('Ridge R-squared')\n",
    "plt.legend(loc=3)\n",
    "\n",
    "plt.show()"
   ]
  },
  {
   "cell_type": "markdown",
   "metadata": {},
   "source": [
    "Doing the ridge methodology with bootstrapping results in the same shape of the R-squared curve, but a generally higher R-squared. It's a better score than OLS and a better score than just the single Ridge model."
   ]
  },
  {
   "cell_type": "markdown",
   "metadata": {},
   "source": [
    "## Problem 3: Ridge regression *via* ordinary least-squares regression\n",
    "\n",
    "We present an approach to implement Ridge regression using oridinary least-squares regression. Given a matrix of responses $\\mathbf{X} \\in \\mathbb{R}^{n\\times p}$ and response vector $\\mathbf{y} \\in \\mathbb{R}^{n}$, one can implement Ridge regression with regularization parameter $\\lambda$ as follows:\n",
    "\n",
    "- Augment the matrix of predictors $\\mathbf{X}$ with $p$ new rows containing the scaled identity matrix $\\sqrt{\\lambda}\\mathbf{I} \\in \\mathbb{R}^{p \\times p}$, i.e.\n",
    "$$\\overline{\\mathbf{X}} \\,=\\, \n",
    "\\begin{bmatrix}\n",
    "X_{11} & \\ldots & X_{1p}\\\\\n",
    "\\vdots & \\ddots & \\vdots\\\\\n",
    "X_{n1} & \\ldots & X_{np}\\\\\n",
    "\\sqrt{\\lambda} & \\ldots & 0\\\\\n",
    "\\vdots & \\ddots & \\vdots\\\\\n",
    "0 & \\ldots & \\sqrt{\\lambda}\n",
    "\\end{bmatrix}\n",
    "\\,\\in\\,\n",
    "\\mathbb{R}^{(n+p)\\times p}\n",
    ".\n",
    "$$\n",
    "\n",
    "\n",
    "- Augment the response vector $\\mathbf{y}$ with a column of $p$ zeros, i.e.\n",
    "$$\n",
    "\\overline{\\mathbf{y}} \\,=\\, \n",
    "\\begin{bmatrix}\n",
    "y_{1}\\\\\n",
    "\\vdots\\\\\n",
    "y_{n}\\\\\n",
    "0\\\\\n",
    "\\vdots\\\\\n",
    "0\n",
    "\\end{bmatrix}\n",
    "\\,\\in\\,\n",
    "\\mathbb{R}^{n+p}\n",
    "$$\n",
    "\n",
    "\n",
    "- Apply ordinary least-squares regression on the augmented data set $(\\overline{\\mathbf{X}}, \\overline{\\mathbf{y}})$.\n",
    "\n",
    "### Part (a): Show the proposed approach implements Ridge regression\n",
    "Show that the approach proposed above implements Ridge regression with parameter $\\lambda$."
   ]
  },
  {
   "cell_type": "markdown",
   "metadata": {},
   "source": [
    "We look at the OLS solution function $(y_i - \\beta_ix_i)^T(y_i - \\beta_ix_i)$\n",
    "as components replaced with the augmented vectors below:\n",
    "\n",
    "$$(y_i - \\beta_ix_i) \\,=\\,\n",
    "\\begin{bmatrix}\n",
    "y_{1}\\\\\n",
    "\\vdots\\\\\n",
    "y_{n}\\\\\n",
    "0\\\\\n",
    "\\vdots\\\\\n",
    "0\n",
    "\\end{bmatrix}\n",
    "\\,-\\,\n",
    "\\begin{bmatrix}\n",
    "\\beta_{1}\\\\\n",
    "\\vdots\\\\\n",
    "\\beta_{n}\\\\\n",
    "\\end{bmatrix}\n",
    "\\begin{bmatrix}\n",
    "X_{11} & \\ldots & X_{1p}\\\\\n",
    "\\vdots & \\ddots & \\vdots\\\\\n",
    "X_{n1} & \\ldots & X_{np}\\\\\n",
    "\\sqrt{\\lambda} & \\ldots & 0\\\\\n",
    "\\vdots & \\ddots & \\vdots\\\\\n",
    "0 & \\ldots & \\sqrt{\\lambda}\n",
    "\\end{bmatrix}\n",
    "$$\n",
    "\n",
    "Multiplying the beta matrix by the observations matrix, we get:\n",
    "$$(y_i - \\beta_ix_i) \\,=\\,\n",
    "\\begin{bmatrix}\n",
    "y_{1}\\\\\n",
    "\\vdots\\\\\n",
    "y_{n}\\\\\n",
    "0\\\\\n",
    "\\vdots\\\\\n",
    "0\n",
    "\\end{bmatrix}\n",
    "\\,-\\,\n",
    "\\begin{bmatrix}\n",
    "(\\beta_1X_{11} & \\,+\\, & \\beta_1X_{12} & \\,+\\, \\ldots & \\beta_1X_{1p})\\\\\n",
    "\\vdots & \\ddots & \\vdots\\\\\n",
    "(\\beta_nX_{n1} & \\,+\\, & \\beta_nX_{n2} & \\,+\\, \\ldots & \\beta_nX_{np})\\\\\n",
    "(\\beta_1\\sqrt{\\lambda} & \\,+\\,& 0 & \\,+\\, \\ldots & 0)\\\\\n",
    "(0 & \\,+\\,& \\beta_2\\sqrt{\\lambda} & \\,+\\, \\ldots & 0)\\\\\n",
    "\\vdots & \\ddots & \\vdots & \\ddots & \\vdots\\\\\n",
    "(0 & \\,+\\,& 0 & \\,+\\, \\ldots & \\beta_n\\sqrt{\\lambda})\\\\\n",
    "\\end{bmatrix}\n",
    "$$\n",
    "\n",
    "Subtracting the Y vector, we get:\n",
    "\n",
    "\\begin{bmatrix}\n",
    "y_{1} & \\,-\\, & (\\beta_1X_{11} & \\,+\\, & \\beta_1X_{12} & \\ldots & \\beta_1X_{1p})\\\\\n",
    "\\vdots & \\ddots & \\vdots\\\\\n",
    "y_{1} & \\,-\\, & (\\beta_nX_{n1} & \\,+\\, & \\beta_nX_{n2} & \\ldots & \\beta_nX_{np})\\\\\n",
    "\\,-\\,(\\beta_1\\sqrt{\\lambda} & \\,+\\,& 0 & \\,+\\, & 0 & \\ldots & 0)\\\\\n",
    "\\,-\\,(0 & \\,+\\,& \\beta_2\\sqrt{\\lambda} & \\,+\\, & 0 & \\ldots & 0)\\\\\n",
    "\\vdots & \\ddots & \\vdots & \\ddots & \\vdots & \\ddots & \\vdots\\\\\n",
    "\\,-\\,(0 & \\,+\\,& 0 & \\,+\\, & 0 & \\ldots & \\beta_n\\sqrt{\\lambda})\\\\\n",
    "\\end{bmatrix}\n",
    "\n",
    "... which is all just a vector, when simplified. \n",
    "\n",
    "\\begin{bmatrix}\n",
    "y_{1} \\,-\\, \\beta_1X\\\\\n",
    "\\vdots\\\\\n",
    "y_{n} \\,-\\, \\beta_nX\\\\\n",
    "\\,-\\,\\beta_1\\sqrt{\\lambda}\\\\\n",
    "\\,-\\,\\beta_2\\sqrt{\\lambda}\\\\\n",
    "\\vdots\\\\\n",
    "\\,-\\,\\beta_n\\sqrt{\\lambda}\\\\\n",
    "\\end{bmatrix}\n",
    "\n",
    "When multiplying by the transpose, we essentially square everything... resulting in the sum:\n",
    "\n",
    "$$\\sum_{i=1}^n ( y_i - \\beta_iX_i )^2 \\,+\\, \\sum_{j=0}^{p-1} \\lambda \\beta_j^2$$\n",
    "\n",
    "... which is the proper sum for the loss function in Ridge regression."
   ]
  },
  {
   "cell_type": "markdown",
   "metadata": {},
   "source": [
    "### Part (b): Debug our implementation of ridge regression\n",
    "You're a grader for CS109A, the following is an implemention of Ridge regression (via the above approach) submitted by a student. The dataset is ``dataset_3.txt``. The regression model is fitted to a training set, and the R^2 scores of the fitted model on the training and test sets are plotted as a function of the regularization parameter. Grade this solution according to the following rubric (each category is equally weighted): \n",
    "\n",
    "- correctness\n",
    "\n",
    "- interpretation (if applicable)\n",
    "\n",
    "- code/algorithm design\n",
    "\n",
    "- presentation\n",
    "\n",
    "In addition to providing an holistic grade (between 0 to 5), provide a corrected version of this code that is submission quality."
   ]
  },
  {
   "cell_type": "markdown",
   "metadata": {},
   "source": [
    " - Correctness: 3 - it is apparent that the student understands some of the logic for what must be done, but the implementation needs more time/effort.\n",
    " \n",
    " - Interpretation: N/A - no interpretation requested.\n",
    " \n",
    " - Code/Algorithm design: 2 - Algorithmic thinking is mostly okay, although a number of efficiencies were missed. Code has careless mistakes.\n",
    " \n",
    " - Presentation: 3 - code could use more commenting.\n",
    " \n",
    " Total Score: 2-3. Careless effort in general, although the student has a fair understanding of the algorithmic thinking and material."
   ]
  },
  {
   "cell_type": "code",
   "execution_count": 51,
   "metadata": {
    "collapsed": false
   },
   "outputs": [
    {
     "name": "stdout",
     "output_type": "stream",
     "text": [
      "(50, 101)\n",
      "(50, 100) (50, 1)\n"
     ]
    }
   ],
   "source": [
    "#First need to do some importing of the data for testing, including splitting and checking shapes\n",
    "data = pd.read_csv('datasets/dataset_3.txt')\n",
    "n = len(data)/4\n",
    "train = data.ix[:n]\n",
    "x_train = train.ix[:, :-1]\n",
    "y_train = train[[-1]]\n",
    "test = data.ix[:n]\n",
    "x_test = test.ix[:, :-1]\n",
    "y_test = test[[-1]]\n",
    "\n",
    "print train.shape\n",
    "\n",
    "print x_train.shape, y_train.shape\n"
   ]
  },
  {
   "cell_type": "code",
   "execution_count": 52,
   "metadata": {
    "collapsed": false
   },
   "outputs": [],
   "source": [
    "# Fit\n",
    "def ridge(x_train, y_train, reg_param):\n",
    "    n=np.shape(x_train)[1] # should be 1\n",
    "#    print n\n",
    "#    iden = reg_param*np.identity(n)\n",
    "#    print iden.shape\n",
    "\n",
    "    x_train=np.concatenate((x_train,reg_param*np.identity(n)),axis=0) #axis should be 0\n",
    "#    print x_train.shape\n",
    "\n",
    "    y_train_=np.zeros((np.shape(x_train)[1],1)) #don't need n+\n",
    "#    print y_train_.shape\n",
    "\n",
    "#####\n",
    "## This is a silly way to concatenate. Just do it the same way as above.\n",
    "#    for c in range(n):\n",
    "#        y_train_[c]= y_train[c]\n",
    "#####\n",
    "    y_train = np.concatenate((y_train, y_train_), axis = 0)\n",
    "#    print y_train.shape\n",
    "\n",
    "\n",
    "    import sklearn\n",
    "    model = sklearn.linear_model.LinearRegression()\n",
    "#    model.fit((x_train,y_train.reshape(-1,1))) #what's with all the extra stuff?\n",
    "    model.fit(x_train,y_train)\n",
    "    return model\n",
    "\n",
    "#print x_train.shape, y_train.shape\n",
    "#model_res = ridge(x_train, y_train, 3)\n",
    "#print model_res.coef_, model_res.intercept_"
   ]
  },
  {
   "cell_type": "code",
   "execution_count": 60,
   "metadata": {
    "collapsed": false
   },
   "outputs": [],
   "source": [
    "# Score\n",
    "def score(m,x_test,y_test, reg_param):\n",
    "#    n=np.shape(x_test)[0] #needs to be x_test shape\n",
    "#    print x_test.shape, n\n",
    "#    x_test=np.concatenate((x_test,(reg_param**.5)*np.identity(n)),axis=0) Can't get this to work, so do below\n",
    "\n",
    "    id_matrix = np.zeros((x_test.shape[1],x_test.shape[1]))\n",
    "    for i in range(len(id_matrix)):\n",
    "        id_matrix[i, i] = reg_param ** .5\n",
    "    x_test = np.concatenate((x_test, id_matrix), axis = 0)\n",
    "    \n",
    "    y_test_=np.zeros((np.shape(x_test)[1],1))\n",
    "    \n",
    "#####\n",
    "#    for c in range(n):\n",
    "#        y_test_[c]= y_test[c]\n",
    "#####\n",
    "\n",
    "# repeat bits from before\n",
    "    import sklearn\n",
    "    y_test = np.concatenate((y_test, y_test_), axis = 0)\n",
    "    m = sklearn.linear_model.LinearRegression()\n",
    "    m2 = m.fit(x_test, y_test) # need fit statement\n",
    "    return m2.score(x_test,y_test)\n",
    "\n",
    "### TEST ###\n",
    "#x_test.shape\n",
    "#y_test.shape\n",
    "#print score(model_res, x_test, y_test, 3)"
   ]
  },
  {
   "cell_type": "code",
   "execution_count": 85,
   "metadata": {
    "collapsed": false
   },
   "outputs": [
    {
     "name": "stdout",
     "output_type": "stream",
     "text": [
      "(200, 101)\n"
     ]
    },
    {
     "data": {
      "text/plain": [
       "<matplotlib.legend.Legend at 0x11a72d290>"
      ]
     },
     "execution_count": 85,
     "metadata": {},
     "output_type": "execute_result"
    },
    {
     "data": {
      "image/png": "[encoded data removed]",
      "text/plain": [
       "<matplotlib.figure.Figure at 0x11fe38b10>"
      ]
     },
     "metadata": {},
     "output_type": "display_data"
    }
   ],
   "source": [
    "# Load\n",
    "data = np.loadtxt('datasets/dataset_3.txt', delimiter=',')\n",
    "print data.shape\n",
    "\n",
    "n = data.shape[0]\n",
    "n = int(np.round(n*0.5)) #okay so 50/50 train/test split. That's fine.\n",
    "#print n\n",
    "\n",
    "x_train = data[0:n,0:100]\n",
    "#print x_train.shape\n",
    "\n",
    "# y_train = data[0:n,100] #this doesn't work, try...\n",
    "y_train = data[0:n, -1:]\n",
    "#print y_train.shape\n",
    "\n",
    "x_test = data[n:2*n,0:100]\n",
    "#print x_test.shape\n",
    "\n",
    "#y_test = data[n:2*n,100]\n",
    "y_test = data[n:2*n, -1:]\n",
    "#print y_test.shape\n",
    "\n",
    "\n",
    "# Params\n",
    "a=np.zeros(5)\n",
    "for i in range(-2,3): #need to change this to 3... outer paren is exclusive\n",
    "    a[i+2]=10**i\n",
    "\n",
    "# Iterate\n",
    "rstr =np.zeros(5)\n",
    "rsts =np.zeros(5)\n",
    "for j in range(0,5):     \n",
    "# I had to change the Ridge call for mine... also these are not the right paramaters for this method\n",
    "    m = Ridge_Reg(alpha = a[j])\n",
    "    rstr[j]=score(m,x_train,y_train,a[j])\n",
    "    rsts[j]=score(m,x_test,y_test,a[j])\n",
    "\n",
    "# Plot\n",
    "plt.plot(a,rstr, label=\"Train\") #labels please\n",
    "plt.plot(a,rsts, label = \"Test\") #labels please\n",
    "# need to add scales, legends, etc.\n",
    "plt.title('Ridge Reg R-squared for values of lambda 10^-2 to 10^2')\n",
    "plt.xlabel('Lambda')\n",
    "plt.ylabel('Ridge R-squared')\n",
    "plt.legend()"
   ]
  },
  {
   "cell_type": "markdown",
   "metadata": {},
   "source": [
    "## Challenge Problem: Predicting Outcome of a Fund-raising Campaign\n",
    "You are provided a data set containing details of mail sent to 95,412 potential donors for a fund-raising campaign of a not-for-profit organization. This data set also contains the amount donated by each donor. The task is to build a model that can estimate the amount that a donor would donate using his/her attributes. The data is contained in the file `dataset_4.txt`. Each row contains 376 attributes for a donor, followed by the donation amount.\n",
    "\n",
    "**Note**: For additional information about the attributes used, please look up the file `dataset_4_description.txt`. This files also contains details of attributes that have been omitted from the data set.\n",
    "\n",
    "### Part (a): Fit regression model\n",
    "Build a suitable model to predict the donation amount. How good is your model? \n",
    "\n",
    "\n",
    "### Part (b): Evaluate the total profit of the fitted model\n",
    "Suppose you are told that the cost of mailing the donor is \\$7. Use your model to maximize profit. Implement, explain and rigorously justify your strategy. How does your strategry compare with blanket mailing everyone.\n",
    "\n",
    "### Part (c): Further Discussion\n",
    "In hindsight, thoroughly discuss the appropriatenes of using a regression model for this dataset (you must at least address the suitability with respect to profit maximization and model assumptions). Rigorously justify your reasoning. "
   ]
  },
  {
   "cell_type": "markdown",
   "metadata": {},
   "source": [
    "So we'll need to do some data cleaning. Unfortunately, we have some categorical variables we'll want to clean up."
   ]
  },
  {
   "cell_type": "code",
   "execution_count": 127,
   "metadata": {
    "collapsed": false
   },
   "outputs": [
    {
     "name": "stdout",
     "output_type": "stream",
     "text": [
      "(8928, 2901)\n",
      "(8928, 2900) (8928, 1)\n"
     ]
    }
   ],
   "source": [
    "#load\n",
    "data = pd.read_csv('datasets/dataset_4.txt')\n",
    "x_df_expanded = pd.DataFrame({})\n",
    "\n",
    "#expand categoricals\n",
    "for column in data.columns:\n",
    "    if len(data[column].unique()) < 8 or data[column].dtype == np.dtype('object'):\n",
    "        encoding = pd.get_dummies(data[column])\n",
    "        x_df_expanded = pd.concat([x_df_expanded, encoding], axis=1)\n",
    "    else:\n",
    "        x_df_expanded = pd.concat([x_df_expanded, data[[column]]], axis = 1)\n",
    "        \n",
    "print \"The expanded matrix shape is:\", x_df_expanded.shape\n",
    "\n",
    "#break into x and y\n",
    "x = x_df_expanded.ix[:, :-1]\n",
    "y = x_df_expanded.ix[:, -1:]\n",
    "print \"Checking x and y shapes...\", x.shape, y.shape"
   ]
  },
  {
   "cell_type": "code",
   "execution_count": 155,
   "metadata": {
    "collapsed": false
   },
   "outputs": [],
   "source": [
    "# We'll use 1/4th of the data (randomly) as a training set\n",
    "n = x.shape[0]\n",
    "sub_size = n/4\n",
    "\n",
    "#initializing\n",
    "adj_r2 = []\n",
    "aic = []\n",
    "bic = []\n",
    "proj = []\n",
    "\n",
    "#bootstrap for 30 samples of 25% of the full list size\n",
    "for i in range(30):\n",
    "    start = time.clock()\n",
    "    perm = np.random.permutation(n) # Generate a list of indices 0 to n and permute it\n",
    "\n",
    "    x_train = x.iloc[perm[:sub_size]] # Get x-vals for the first n/4 indices in permuted list\n",
    "    y_train = y.iloc[perm[:sub_size]]\n",
    "    x_test = x.iloc[perm[sub_size:]]\n",
    "    y_test = y.iloc[perm[sub_size:]] \n",
    "    \n",
    "    #fit model\n",
    "    model = OLS(y_train, x_train)\n",
    "    results = model.fit()\n",
    "    \n",
    "    #save results\n",
    "    adj_r2.append(results.rsquared_adj)\n",
    "    aic.append(results.aic)\n",
    "    bic.append(results.bic)\n",
    "\n",
    "    #here, we're predicting how our model will do against the full dataset\n",
    "    predictions = results.predict(x)\n",
    "    #print predictions[:25]\n",
    "\n",
    "    #for each value, assume we won't mail if the projected donation is <$7 (net $0) and we will\n",
    "    #if above $7 (net projected value -$7)\n",
    "    for j in range(len(predictions)):\n",
    "        if predictions[j-1] <= 7:\n",
    "            predictions[j-1] = 0\n",
    "    #        print predictions[j-1]\n",
    "        else:\n",
    "            predictions[j-1] = (predictions[j-1] - 7)\n",
    "    #        print predictions[j-1]\n",
    "\n",
    "    #print predictions[:25]\n",
    "    \n",
    "    #save projected profit\n",
    "    proj.append(sum(predictions))\n"
   ]
  },
  {
   "cell_type": "code",
   "execution_count": 167,
   "metadata": {
    "collapsed": false
   },
   "outputs": [
    {
     "name": "stdout",
     "output_type": "stream",
     "text": [
      "Average AIC for 30 OLS Models is: 15258.9782694\n",
      "Average BIC for 30 OLS Models is: 26738.5335803\n",
      "Average Adjusted R-squared for 30 OLS Models is: 0.380549144986\n",
      "Average Sum of the funding campaign for 30 OLS Models is: 136901.687383\n",
      "The profit for mailing every potential donor is: TARGET_D    13112.7\n",
      "dtype: float64\n"
     ]
    }
   ],
   "source": [
    "print \"Average AIC for 30 OLS Models is:\", np.mean(aic)\n",
    "print \"Average BIC for 30 OLS Models is:\", np.mean(bic)\n",
    "print \"Average Adjusted R-squared for 30 OLS Models is:\", np.mean(adj_r2)\n",
    "print \"Average Sum of the funding campaign for 30 OLS Models is:\", np.mean(proj)\n",
    "print \"The profit for mailing every potential donor is:\", np.sum(y) - 7*len(y)"
   ]
  },
  {
   "cell_type": "markdown",
   "metadata": {},
   "source": [
    "So what we have now is a model where we have predicted the output of the donors based on all of their features. We then mail ONLY the ones who will give 7.01 or more, thereby eeking every penny out of the donors and maximizing profit. Anyone who we project will donate less than 7.00, we don't bother with so we can save on the postage/administration. This result from emailing only those who are projected to donate >7 over 30 trials is a campaign worth almost 137,000 in profit, whereas mailing everyone results in net profit of only 13,113.\n",
    "\n",
    "The OLS model we have above though, is far from parsimonious. With so many features, we're likely to have drastically overfit the model. Let's try to do a step-wise selection of components..."
   ]
  },
  {
   "cell_type": "code",
   "execution_count": 131,
   "metadata": {
    "collapsed": false
   },
   "outputs": [
    {
     "ename": "KeyboardInterrupt",
     "evalue": "",
     "output_type": "error",
     "traceback": [
      "\u001b[0;31m---------------------------------------------------------------------------\u001b[0m",
      "\u001b[0;31mKeyboardInterrupt\u001b[0m                         Traceback (most recent call last)",
      "\u001b[0;32m<ipython-input-131-d0effb7e82ae>\u001b[0m in \u001b[0;36m<module>\u001b[0;34m()\u001b[0m\n\u001b[1;32m      7\u001b[0m \u001b[0;31m# First, fit and evaluate BIC using all 'd' number of predictors\u001b[0m\u001b[0;34m\u001b[0m\u001b[0;34m\u001b[0m\u001b[0m\n\u001b[1;32m      8\u001b[0m \u001b[0mmodel\u001b[0m \u001b[0;34m=\u001b[0m \u001b[0mOLS\u001b[0m\u001b[0;34m(\u001b[0m\u001b[0my\u001b[0m\u001b[0;34m,\u001b[0m \u001b[0mx\u001b[0m\u001b[0;34m)\u001b[0m\u001b[0;34m\u001b[0m\u001b[0m\n\u001b[0;32m----> 9\u001b[0;31m \u001b[0mresults\u001b[0m \u001b[0;34m=\u001b[0m \u001b[0mmodel\u001b[0m\u001b[0;34m.\u001b[0m\u001b[0mfit\u001b[0m\u001b[0;34m(\u001b[0m\u001b[0;34m)\u001b[0m\u001b[0;34m\u001b[0m\u001b[0m\n\u001b[0m\u001b[1;32m     10\u001b[0m \u001b[0mbic_all\u001b[0m \u001b[0;34m=\u001b[0m \u001b[0mresults\u001b[0m\u001b[0;34m.\u001b[0m\u001b[0mbic\u001b[0m\u001b[0;34m\u001b[0m\u001b[0m\n\u001b[1;32m     11\u001b[0m \u001b[0;34m\u001b[0m\u001b[0m\n",
      "\u001b[0;32m//anaconda/lib/python2.7/site-packages/statsmodels/regression/linear_model.pyc\u001b[0m in \u001b[0;36mfit\u001b[0;34m(self, method, cov_type, cov_kwds, use_t, **kwargs)\u001b[0m\n\u001b[1;32m    172\u001b[0m                 (not hasattr(self, 'rank'))):\n\u001b[1;32m    173\u001b[0m \u001b[0;34m\u001b[0m\u001b[0m\n\u001b[0;32m--> 174\u001b[0;31m                 \u001b[0mself\u001b[0m\u001b[0;34m.\u001b[0m\u001b[0mpinv_wexog\u001b[0m\u001b[0;34m,\u001b[0m \u001b[0msingular_values\u001b[0m \u001b[0;34m=\u001b[0m \u001b[0mpinv_extended\u001b[0m\u001b[0;34m(\u001b[0m\u001b[0mself\u001b[0m\u001b[0;34m.\u001b[0m\u001b[0mwexog\u001b[0m\u001b[0;34m)\u001b[0m\u001b[0;34m\u001b[0m\u001b[0m\n\u001b[0m\u001b[1;32m    175\u001b[0m                 self.normalized_cov_params = np.dot(self.pinv_wexog,\n\u001b[1;32m    176\u001b[0m                                         np.transpose(self.pinv_wexog))\n",
      "\u001b[0;32m//anaconda/lib/python2.7/site-packages/statsmodels/tools/tools.pyc\u001b[0m in \u001b[0;36mpinv_extended\u001b[0;34m(X, rcond)\u001b[0m\n\u001b[1;32m    390\u001b[0m     \u001b[0mX\u001b[0m \u001b[0;34m=\u001b[0m \u001b[0mnp\u001b[0m\u001b[0;34m.\u001b[0m\u001b[0masarray\u001b[0m\u001b[0;34m(\u001b[0m\u001b[0mX\u001b[0m\u001b[0;34m)\u001b[0m\u001b[0;34m\u001b[0m\u001b[0m\n\u001b[1;32m    391\u001b[0m     \u001b[0mX\u001b[0m \u001b[0;34m=\u001b[0m \u001b[0mX\u001b[0m\u001b[0;34m.\u001b[0m\u001b[0mconjugate\u001b[0m\u001b[0;34m(\u001b[0m\u001b[0;34m)\u001b[0m\u001b[0;34m\u001b[0m\u001b[0m\n\u001b[0;32m--> 392\u001b[0;31m     \u001b[0mu\u001b[0m\u001b[0;34m,\u001b[0m \u001b[0ms\u001b[0m\u001b[0;34m,\u001b[0m \u001b[0mvt\u001b[0m \u001b[0;34m=\u001b[0m \u001b[0mnp\u001b[0m\u001b[0;34m.\u001b[0m\u001b[0mlinalg\u001b[0m\u001b[0;34m.\u001b[0m\u001b[0msvd\u001b[0m\u001b[0;34m(\u001b[0m\u001b[0mX\u001b[0m\u001b[0;34m,\u001b[0m \u001b[0;36m0\u001b[0m\u001b[0;34m)\u001b[0m\u001b[0;34m\u001b[0m\u001b[0m\n\u001b[0m\u001b[1;32m    393\u001b[0m     \u001b[0ms_orig\u001b[0m \u001b[0;34m=\u001b[0m \u001b[0mnp\u001b[0m\u001b[0;34m.\u001b[0m\u001b[0mcopy\u001b[0m\u001b[0;34m(\u001b[0m\u001b[0ms\u001b[0m\u001b[0;34m)\u001b[0m\u001b[0;34m\u001b[0m\u001b[0m\n\u001b[1;32m    394\u001b[0m     \u001b[0mm\u001b[0m \u001b[0;34m=\u001b[0m \u001b[0mu\u001b[0m\u001b[0;34m.\u001b[0m\u001b[0mshape\u001b[0m\u001b[0;34m[\u001b[0m\u001b[0;36m0\u001b[0m\u001b[0;34m]\u001b[0m\u001b[0;34m\u001b[0m\u001b[0m\n",
      "\u001b[0;32m//anaconda/lib/python2.7/site-packages/numpy/linalg/linalg.pyc\u001b[0m in \u001b[0;36msvd\u001b[0;34m(a, full_matrices, compute_uv)\u001b[0m\n\u001b[1;32m   1357\u001b[0m \u001b[0;34m\u001b[0m\u001b[0m\n\u001b[1;32m   1358\u001b[0m         \u001b[0msignature\u001b[0m \u001b[0;34m=\u001b[0m \u001b[0;34m'D->DdD'\u001b[0m \u001b[0;32mif\u001b[0m \u001b[0misComplexType\u001b[0m\u001b[0;34m(\u001b[0m\u001b[0mt\u001b[0m\u001b[0;34m)\u001b[0m \u001b[0;32melse\u001b[0m \u001b[0;34m'd->ddd'\u001b[0m\u001b[0;34m\u001b[0m\u001b[0m\n\u001b[0;32m-> 1359\u001b[0;31m         \u001b[0mu\u001b[0m\u001b[0;34m,\u001b[0m \u001b[0ms\u001b[0m\u001b[0;34m,\u001b[0m \u001b[0mvt\u001b[0m \u001b[0;34m=\u001b[0m \u001b[0mgufunc\u001b[0m\u001b[0;34m(\u001b[0m\u001b[0ma\u001b[0m\u001b[0;34m,\u001b[0m \u001b[0msignature\u001b[0m\u001b[0;34m=\u001b[0m\u001b[0msignature\u001b[0m\u001b[0;34m,\u001b[0m \u001b[0mextobj\u001b[0m\u001b[0;34m=\u001b[0m\u001b[0mextobj\u001b[0m\u001b[0;34m)\u001b[0m\u001b[0;34m\u001b[0m\u001b[0m\n\u001b[0m\u001b[1;32m   1360\u001b[0m         \u001b[0mu\u001b[0m \u001b[0;34m=\u001b[0m \u001b[0mu\u001b[0m\u001b[0;34m.\u001b[0m\u001b[0mastype\u001b[0m\u001b[0;34m(\u001b[0m\u001b[0mresult_t\u001b[0m\u001b[0;34m,\u001b[0m \u001b[0mcopy\u001b[0m\u001b[0;34m=\u001b[0m\u001b[0mFalse\u001b[0m\u001b[0;34m)\u001b[0m\u001b[0;34m\u001b[0m\u001b[0m\n\u001b[1;32m   1361\u001b[0m         \u001b[0ms\u001b[0m \u001b[0;34m=\u001b[0m \u001b[0ms\u001b[0m\u001b[0;34m.\u001b[0m\u001b[0mastype\u001b[0m\u001b[0;34m(\u001b[0m\u001b[0m_realType\u001b[0m\u001b[0;34m(\u001b[0m\u001b[0mresult_t\u001b[0m\u001b[0;34m)\u001b[0m\u001b[0;34m,\u001b[0m \u001b[0mcopy\u001b[0m\u001b[0;34m=\u001b[0m\u001b[0mFalse\u001b[0m\u001b[0;34m)\u001b[0m\u001b[0;34m\u001b[0m\u001b[0m\n",
      "\u001b[0;31mKeyboardInterrupt\u001b[0m: "
     ]
    }
   ],
   "source": [
    "###  Step-wise Backward Selection\n",
    "d = x.shape[1] # total no. of predictors\n",
    "\n",
    "# Keep track of current set of chosen predictors\n",
    "current_predictors = range(d)\n",
    "\n",
    "# First, fit and evaluate BIC using all 'd' number of predictors\n",
    "model = OLS(y, x)\n",
    "results = model.fit()\n",
    "bic_all = results.bic\n",
    "\n",
    "# Set the minimum BIC score, initially, to the BIC score using all 'd' predictors\n",
    "global_min_bic = bic_all\n",
    "# Keep track of the best subset of predictors\n",
    "best_subset = [] \n",
    "\n",
    "# Iterate over all possible subset sizes, d predictors to 1 predictor\n",
    "for size in range(d - 1, 1, -1): # stop before 0 to avoid choosing an empty set of predictors\n",
    "    max_r_squared = -1e10 # set some initial small value for max R^2\n",
    "    worst_predictor = -1 # set some throwaway initial number for the worst predictor to remove\n",
    "    bic_without_worst_predictor = 1e10 # set some initial large value for min BIC score  \n",
    "        \n",
    "    # Iterate over current set of predictors (for potential elimination)\n",
    "    for i in current_predictors:\n",
    "        # Create copy of current predictors, and remove predictor 'i'\n",
    "        temp = current_predictors[:]\n",
    "        temp.remove(i)\n",
    "                                    \n",
    "        # Use only a subset of predictors in the training data\n",
    "        x_subset = x.ix[:, temp]\n",
    "        \n",
    "        # Fit and evaluate R^2\n",
    "        model = OLS(y, x_subset)\n",
    "        results = model.fit()\n",
    "        r_squared = results.rsquared\n",
    "        \n",
    "        # Check if we get a higher R^2 value than than current max R^2, if so, update\n",
    "        if(r_squared > max_r_squared):\n",
    "            max_r_squared = r_squared\n",
    "            worst_predictor = i\n",
    "            bic_without_worst_predictor = results.bic\n",
    "          \n",
    "    # Remove worst predictor from current set of predictors\n",
    "    current_predictors.remove(worst_predictor)\n",
    "    \n",
    "    # Check if BIC for the predictor we just removed is lower than \n",
    "    # the global minimum across all subset of predictors\n",
    "    if(bic_without_worst_predictor < global_min_bic):\n",
    "        best_subset = current_predictors[:]\n",
    "        global_min_bic = bic_without_worst_predictor\n",
    "    \n",
    "print 'Step-wise backward subset selection:'\n",
    "print sorted(best_subset)"
   ]
  },
  {
   "cell_type": "markdown",
   "metadata": {},
   "source": [
    "Okay... with nearly 9000 features, clearly step-wise is just not going to work. I left this running for almost an hour, to no avail. There are simply too many features for this to be a reasonable course of action. Perhaps the right answer is to do a PCA to find the right components."
   ]
  },
  {
   "cell_type": "code",
   "execution_count": 132,
   "metadata": {
    "collapsed": false,
    "scrolled": true
   },
   "outputs": [
    {
     "name": "stdout",
     "output_type": "stream",
     "text": [
      "[ 71.501]\n",
      "[ 71.501  97.263]\n",
      "[ 71.501  97.263  99.044]\n",
      "[ 71.501  97.263  99.044  99.777]\n",
      "[ 71.501  97.263  99.044  99.777  99.901]\n",
      "[ 71.501  97.263  99.044  99.777  99.901  99.933]\n",
      "[ 71.501  97.263  99.044  99.777  99.901  99.933  99.95 ]\n",
      "[ 71.501  97.263  99.044  99.777  99.901  99.933  99.95   99.96 ]\n",
      "[ 71.501  97.263  99.044  99.777  99.901  99.933  99.95   99.96   99.966]\n",
      "[ 71.501  97.263  99.044  99.777  99.901  99.933  99.95   99.96   99.966\n",
      "  99.971]\n",
      "[ 71.501  97.263  99.044  99.777  99.901  99.933  99.95   99.96   99.966\n",
      "  99.971  99.975]\n",
      "[ 71.501  97.263  99.044  99.777  99.901  99.933  99.95   99.96   99.966\n",
      "  99.971  99.975  99.978]\n",
      "[ 71.501  97.263  99.044  99.777  99.901  99.933  99.95   99.96   99.966\n",
      "  99.971  99.975  99.978  99.98 ]\n",
      "[ 71.501  97.263  99.044  99.777  99.901  99.933  99.95   99.96   99.966\n",
      "  99.971  99.975  99.978  99.98   99.982]\n"
     ]
    }
   ],
   "source": [
    "n = x.shape[0]\n",
    "sub_size = n/4\n",
    "perm = np.random.permutation(n) # Generate a list of indices 0 to n and permute it\n",
    "\n",
    "x_train = x.iloc[perm[:sub_size]] # Get x-vals for the first n/4 indices in permuted list\n",
    "y_train = y.iloc[perm[:sub_size]]\n",
    "x_test = x.iloc[perm[sub_size:]]\n",
    "y_test = y.iloc[perm[sub_size:]] \n",
    "\n",
    "for i in range(1, 15):\n",
    "    pca = PCA(n_components=i)\n",
    "    pca.fit(x_train)\n",
    "    #print(pca.explained_variance_ratio_)\n",
    "    #print(pca.components_)\n",
    "    print np.cumsum(np.round(pca.explained_variance_ratio_, decimals=5)*100)"
   ]
  },
  {
   "cell_type": "markdown",
   "metadata": {},
   "source": [
    "Doing PCA, the most parsimonious model accounting for 99.9% of the variance is one with 5 components. We don't know how to fit a PCA model yet, but hopefully we'll find out soon..."
   ]
  }
 ],
 "metadata": {
  "anaconda-cloud": {},
  "kernelspec": {
   "display_name": "Python [Root]",
   "language": "python",
   "name": "Python [Root]"
  },
  "language_info": {
   "codemirror_mode": {
    "name": "ipython",
    "version": 2
   },
   "file_extension": ".py",
   "mimetype": "text/x-python",
   "name": "python",
   "nbconvert_exporter": "python",
   "pygments_lexer": "ipython2",
   "version": "2.7.12"
  }
 },
 "nbformat": 4,
 "nbformat_minor": 0
}
