{
 "cells": [
  {
   "cell_type": "markdown",
   "metadata": {},
   "source": [
    "# CS 109A/AC 209A/STAT 121A Data Science: Midterm 2\n",
    "**Harvard University**<br>\n",
    "**Fall 2016**<br>\n",
    "**Instructors: W. Pan, P. Protopapas, K. Rader**<br>\n",
    "**Due Date: ** Tuesday, November 22nd, 2016 at 12:00pm"
   ]
  },
  {
   "cell_type": "code",
   "execution_count": 785,
   "metadata": {
    "collapsed": true
   },
   "outputs": [],
   "source": [
    "import numpy as np\n",
    "import pandas as pd\n",
    "import scipy as sp\n",
    "import math\n",
    "from sklearn import preprocessing\n",
    "from sklearn.cross_validation import KFold\n",
    "from sklearn.linear_model import LogisticRegression\n",
    "from sklearn.discriminant_analysis import LinearDiscriminantAnalysis as LDA\n",
    "from sklearn.discriminant_analysis import QuadraticDiscriminantAnalysis as QDA\n",
    "from sklearn.neighbors import KNeighborsClassifier as KNN\n",
    "from sklearn.tree import DecisionTreeClassifier as DecisionTree\n",
    "from sklearn.ensemble import RandomForestClassifier as RandomForest\n",
    "from sklearn.ensemble import AdaBoostClassifier as AdaBoost\n",
    "from sklearn.svm import SVC\n",
    "from sklearn.cross_validation import train_test_split\n",
    "import matplotlib\n",
    "import matplotlib.pyplot as plt\n",
    "import io\n",
    "\n",
    "%matplotlib inline"
   ]
  },
  {
   "cell_type": "markdown",
   "metadata": {},
   "source": [
    "# Part I: Diagnosing the Semian Flu 2016\n",
    "\n",
    "You are given the early data for an outbreak of a dangerous virus originating from a group of primates being keeped in a Massechussetts biomedical research lab, this virus is dubbed the \"Semian Flu\".\n",
    "\n",
    "You have the medical records of $n$ number of patients in `'flu_train.csv`. There are two general types of patients in the data, flu patients and healthy (this is recorded in the column labeled `flu`, a 0 indicates the absences of the virus and a 1 indicates presence). Furthermore, scientists have found that there are two strains of the virus, each requiring a different type of treatment (this is recorded in the column labeled `flutype`, a 1 indicates the absences of the virus, a 2 indicates presence of strain 1 and a 3 indicates the presence of strain 2).\n",
    "\n",
    "**Your task:** build a model to predict if a given patient has the flu. Your goal is to catch as many flu patients as possible without misdiagnosing too many healthy patients.\n",
    "\n",
    "**The deliverable:** a function called `flu_predict` which satisfies:\n",
    "\n",
    "- input: `x_test`, a set of medical predictors for a group of patients\n",
    "- output: `y_pred`, a set of labels, one for each patient; 0 for healthy and 1 for infected with the flu virus\n",
    "\n",
    "The MA state government will use your model to diagnose sets of future patients (held by us). You can expect that there will be an increase in the number of flu patients in any groups of patients in the future.\n",
    "\n",
    "We provide you with some benchmarks for comparison.\n",
    "\n",
    "**Baseline Model:** \n",
    "- ~50% expected accuracy on healthy patients in observed data\n",
    "- ~50% expected accuracy on flu patients in observed data\n",
    "- ~50% expected accuracy on healthy patients in future data \n",
    "- ~50% expected accuracy on flu patients in future data\n",
    "- time to build: 5 min\n",
    "\n",
    "**Reasonable Model:** \n",
    "- ~69% expected accuracy on healthy patients in observed data\n",
    "- ~55% expected accuracy on flu patients, in observed data\n",
    "- ~69% expected accuracy on healthy patients in future data\n",
    "- ~60% expected accuracy on flu patients, in future data\n",
    "- time to build: 20 min\n",
    "\n",
    "**Grading:**\n",
    "Your grade will be based on:\n",
    "1. your model's ability to out-perform our benchmarks\n",
    "2. your ability to carefully and thoroughly follow the data science pipeline (see lecture slides for definition)\n",
    "3. the extend to which all choices are reasonable and defensible by methods you have learned in this class"
   ]
  },
  {
   "cell_type": "markdown",
   "metadata": {},
   "source": [
    "## Step 1 - Import and explore data"
   ]
  },
  {
   "cell_type": "code",
   "execution_count": 808,
   "metadata": {
    "collapsed": false
   },
   "outputs": [
    {
     "name": "stdout",
     "output_type": "stream",
     "text": [
      "In the dataset, there are 5246 entries, with 76 datapoints each.\n",
      "Potential covariates are:\n",
      "-------------------------\n",
      "ID\n",
      "Gender\n",
      "Age\n",
      "AgeDecade\n",
      "AgeMonths\n",
      "Race1\n",
      "Race3\n",
      "Education\n",
      "MaritalStatus\n",
      "HHIncome\n",
      "HHIncomeMid\n",
      "Poverty\n",
      "HomeRooms\n",
      "HomeOwn\n",
      "Work\n",
      "Weight\n",
      "Length\n",
      "HeadCirc\n",
      "Height\n",
      "BMI\n",
      "BMICatUnder20yrs\n",
      "BMI_WHO\n",
      "Pulse\n",
      "BPSysAve\n",
      "BPDiaAve\n",
      "BPSys1\n",
      "BPDia1\n",
      "BPSys2\n",
      "BPDia2\n",
      "BPSys3\n",
      "BPDia3\n",
      "Testosterone\n",
      "DirectChol\n",
      "TotChol\n",
      "UrineVol1\n",
      "UrineFlow1\n",
      "UrineVol2\n",
      "UrineFlow2\n",
      "Diabetes\n",
      "DiabetesAge\n",
      "HealthGen\n",
      "DaysMentHlthBad\n",
      "LittleInterest\n",
      "Depressed\n",
      "nPregnancies\n",
      "nBabies\n",
      "Age1stBaby\n",
      "SleepHrsNight\n",
      "SleepTrouble\n",
      "PhysActive\n",
      "PhysActiveDays\n",
      "TVHrsDay\n",
      "CompHrsDay\n",
      "TVHrsDayChild\n",
      "CompHrsDayChild\n",
      "Alcohol12PlusYr\n",
      "AlcoholDay\n",
      "AlcoholYear\n",
      "SmokeNow\n",
      "Smoke100\n",
      "Smoke100n\n",
      "SmokeAge\n",
      "Marijuana\n",
      "AgeFirstMarij\n",
      "RegularMarij\n",
      "AgeRegMarij\n",
      "HardDrugs\n",
      "SexEver\n",
      "SexAge\n",
      "SexNumPartnLife\n",
      "SexNumPartYear\n",
      "SameSex\n",
      "SexOrientation\n",
      "PregnantNow\n",
      "flu\n",
      "flutype\n",
      "-------------------------\n",
      "The flu has an overall prevalence of 0.059\n"
     ]
    }
   ],
   "source": [
    "flu_data = pd.read_csv('flu_train.csv', delimiter=',', header=0)\n",
    "\n",
    "print \"In the dataset, there are\", flu_data.shape[0], \"entries, with\", flu_data.shape[1], \"datapoints each.\"\n",
    "print \"Potential covariates are:\"\n",
    "print \"-------------------------\"\n",
    "for each in range(len(flu_data.columns)):\n",
    "    print flu_data.columns[each]\n",
    "print \"-------------------------\"\n",
    "print \"The flu has an overall prevalence of\", round((np.sum(flu_data['flu'])/float(len(flu_data))), 3)"
   ]
  },
  {
   "cell_type": "markdown",
   "metadata": {},
   "source": [
    "## Step 2 - Clean and Split data\n",
    "We need to create our own training and test set from the data we have. Since there are so many covariates, we will also probably have to do some tuning, so a validation set would be good to have as well. I'm assuming the data is not grouped in any particular way, but will check the overall prevalences of the flu to be sure."
   ]
  },
  {
   "cell_type": "markdown",
   "metadata": {},
   "source": [
    "#### Dropping Columns\n",
    "There are a number of columns that are duplicative or do not hold any useful information. We'll drop those. For a complete list of dropped columns, please see Appendix A.\n",
    "\n",
    "#### Missing Data\n",
    "We have a lot of missing data here. If this was a full research study, we could go through the data and really make a decision as to whether the columns were needed (e.g., Age, Age Decade and Age Months are not all necessary), then either impute or ignore missing data after that point. Since this is an exam with limited time and I don't have the expertise to do that, I'm going to fill missing values with a 0. We'll keep this in mind as we move forward (as it could definitely introduce some bias) but it shouldn't be a major problem.\n",
    "\n",
    "#### Dummies\n",
    "There are many categorical variables in this dataset. We'll hot-encode new columns for each category."
   ]
  },
  {
   "cell_type": "code",
   "execution_count": 827,
   "metadata": {
    "collapsed": false
   },
   "outputs": [],
   "source": [
    "#split data\n",
    "x = flu_data.iloc[:, :-2]\n",
    "y = flu_data.iloc[:, -2]\n",
    "\n",
    "#drop duplicative/unnecessary columns\n",
    "cols = [2,3,9,11,16,17,20,21,25,26,27,28,29,30,36,37,42,43,48,49,57,59]\n",
    "x.drop(x.columns[cols],axis=1,inplace=True)\n",
    "\n",
    "#fill missing data\n",
    "x.fillna(0, inplace=True)\n",
    "\n",
    "# Create a new data frame to store one-hot encoding of attributes\n",
    "flu_data_expanded = pd.DataFrame({}) \n",
    "\n",
    "# Iterate over all attributes\n",
    "for column in x.columns:\n",
    "    # Check if attribute is categorical: has less than 8 unique values,\n",
    "    # or is string values (column has type 'object')\n",
    "    if len(x[column].unique()) < 8 or x[column].dtype == np.dtype('object'):\n",
    "        # use one-hot encoding for this column\n",
    "        encoding = pd.get_dummies(x[column])\n",
    "        # append expanded attribute to data frame\n",
    "        flu_data_expanded = pd.concat([flu_data_expanded, encoding], axis=1)\n",
    "    else:\n",
    "        flu_data_expanded = pd.concat([flu_data_expanded, x[[column]]], axis=1)"
   ]
  },
  {
   "cell_type": "code",
   "execution_count": 828,
   "metadata": {
    "collapsed": false
   },
   "outputs": [
    {
     "name": "stdout",
     "output_type": "stream",
     "text": [
      "Prevalence in train: 0.059\n",
      "Prevalence in validation: 0.067\n",
      "Prevalence in test: 0.058\n"
     ]
    }
   ],
   "source": [
    "#split data\n",
    "x_train = flu_data_expanded.iloc[:525, :]\n",
    "y_train = y.iloc[:525]\n",
    "x_val = flu_data_expanded.iloc[525:1050, :]\n",
    "y_val = y.iloc[525:1050]\n",
    "x_test = flu_data_expanded.iloc[1050:, :]\n",
    "y_test = y.iloc[1050:]\n",
    "\n",
    "print \"Prevalence in train:\", round(np.sum(y_train)/float(len(y_train)), 3)\n",
    "print \"Prevalence in validation:\", round(np.sum(y_val)/float(len(y_val)), 3)\n",
    "print \"Prevalence in test:\", round(np.sum(y_test)/float(len(y_test)), 3)"
   ]
  },
  {
   "cell_type": "markdown",
   "metadata": {},
   "source": [
    "## Step 3 - Try something and tune our parameters\n",
    "I'm really not sure which technique would best classify our data. We tried some things that didn't work very well (found in Appendix E)."
   ]
  },
  {
   "cell_type": "code",
   "execution_count": 829,
   "metadata": {
    "collapsed": false
   },
   "outputs": [
    {
     "data": {
      "image/png": "[encoded data removed]",
      "text/plain": [
       "<matplotlib.figure.Figure at 0x1199adfd0>"
      ]
     },
     "metadata": {},
     "output_type": "display_data"
    }
   ],
   "source": [
    "#initialize some variables\n",
    "train_score = []\n",
    "val_score = []\n",
    "test_score = []\n",
    "Cs = []\n",
    "\n",
    "#tune regularization parameter\n",
    "for reg in range(-7, 7):\n",
    "    C = 10**reg\n",
    "    logreg = LogisticRegression(C=C)\n",
    "    logreg.fit(x_train, y_train)\n",
    "    Cs.append(reg)\n",
    "    train_score.append(logreg.score(x_train, y_train))\n",
    "    test_score.append(logreg.score(x_test, y_test))\n",
    "    val_score.append(logreg.score(x_val, y_val))\n",
    "\n",
    "#graph performance vs. reg parameters\n",
    "plt.plot(Cs, train_score, c='b', label='train')\n",
    "plt.plot(Cs, test_score, c='r', label='test')\n",
    "plt.plot(Cs, val_score, c='g', label='val')\n",
    "plt.xlabel('Regularization Parameter (10^C)')\n",
    "plt.ylabel('Performance')\n",
    "plt.title(\"Scores as a function of a Regularization parameter \\\"C\\\"\")\n",
    "plt.legend()\n",
    "plt.show()"
   ]
  },
  {
   "cell_type": "markdown",
   "metadata": {},
   "source": [
    "What we see here is that our predictor performs best when C = .001. This is place where the test performance begins to decline, and the training performance begins to climb. This divergence is indicative that we have met the value of the tuning parameter that performs best without overfitting the noise in the training set.\n",
    "\n",
    "Let's see how our model performs..."
   ]
  },
  {
   "cell_type": "code",
   "execution_count": 812,
   "metadata": {
    "collapsed": true
   },
   "outputs": [],
   "source": [
    "#this function will give us the specificity, sensitivity, false positive, and false negative\n",
    "#given predictions and actual datasets\n",
    "def get_stats(predict, actual):\n",
    "    sensitivity = []\n",
    "    specificity = []\n",
    "    false_pos = []\n",
    "    false_neg = []\n",
    "\n",
    "    for each in range(len(actual)):\n",
    "        if predict[each] == 1.0 and float(actual.iloc[each]) == 1.0:\n",
    "            specificity.append(0)\n",
    "            sensitivity.append(1)\n",
    "            false_pos.append(0)\n",
    "            false_neg.append(0)\n",
    "        if predict[each] == 1.0 and float(actual.iloc[each]) == 0.0:\n",
    "            specificity.append(0)\n",
    "            sensitivity.append(0)\n",
    "            false_pos.append(1)\n",
    "            false_neg.append(0)\n",
    "        if predict[each] == 0.0 and float(actual.iloc[each]) == 1.0:\n",
    "            specificity.append(0)\n",
    "            sensitivity.append(0)\n",
    "            false_pos.append(0)\n",
    "            false_neg.append(1)\n",
    "        if predict[each] == 0.0 and float(actual.iloc[each]) == 0.0:\n",
    "            specificity.append(1)\n",
    "            sensitivity.append(0)\n",
    "            false_pos.append(0)\n",
    "            false_neg.append(0)\n",
    "\n",
    "    sensitivity = round(np.sum(sensitivity)/float(np.sum(actual)), 3)\n",
    "    specificity = round(np.sum(specificity)/float((len(actual) - np.sum(actual))), 3)\n",
    "    false_pos = round((np.sum(false_pos)/float(len(actual) - np.sum(actual))), 3)\n",
    "    false_neg = round((np.sum(false_neg)/float(np.sum(actual))), 3)\n",
    "    \n",
    "    return sensitivity, specificity, false_pos, false_neg"
   ]
  },
  {
   "cell_type": "code",
   "execution_count": 830,
   "metadata": {
    "collapsed": false
   },
   "outputs": [
    {
     "name": "stdout",
     "output_type": "stream",
     "text": [
      "The sensitivity (True Positive) rate of the model is: 0.004\n",
      "The specificity (True Negative) rate of the model is: 0.999\n"
     ]
    }
   ],
   "source": [
    "#fit our best model\n",
    "best_logreg = LogisticRegression(C=(10**-3))\n",
    "best_logreg.fit(x_train, y_train)\n",
    "logreg_predict = best_logreg.predict(x_test)\n",
    "\n",
    "sensitivity, specificity, false_pos, false_neg = get_stats(logreg_predict, y_test)\n",
    "print \"The sensitivity (True Positive) rate of the model is:\", sensitivity\n",
    "print \"The specificity (True Negative) rate of the model is:\", specificity"
   ]
  },
  {
   "cell_type": "markdown",
   "metadata": {},
   "source": [
    "## Step 4 - Analysis and iteration\n",
    "As with most disease classification problems, we are trying to classify a pretty rare event (about 6% prevalence in our dataset). What happens in this instance is that our logistic regression is attempting to classify based on a 50/50 probability... as such it classifies EVERYTHING as a \"No Disease\". But what we have in actuality is about 94/6 probability. We'll need to build a custom classifier to do this. "
   ]
  },
  {
   "cell_type": "code",
   "execution_count": 771,
   "metadata": {
    "collapsed": false
   },
   "outputs": [],
   "source": [
    "#this is a function that does a logistic regression with a custom probability parameter\n",
    "def tune_specificity(x_test, y_test, prob):\n",
    "    cust_predict = []\n",
    "\n",
    "    for i in range(len(x_test)):\n",
    "        exp = np.sum((x_test.iloc[i].values * best_logreg.coef_)) + best_logreg.intercept_\n",
    "        pred = 1 / (1 + math.exp(-exp))\n",
    "        if pred <= prob:\n",
    "            cust_predict.append(0)\n",
    "        else:\n",
    "            cust_predict.append(1)\n",
    "\n",
    "    ###\n",
    "    sensitivity, specificity, fp, fn = get_stats(cust_predict, y_test)\n",
    "\n",
    "    return sensitivity, specificity, fp, fn, cust_predict"
   ]
  },
  {
   "cell_type": "code",
   "execution_count": 831,
   "metadata": {
    "collapsed": false
   },
   "outputs": [
    {
     "data": {
      "image/png": "[encoded data removed]",
      "text/plain": [
       "<matplotlib.figure.Figure at 0x11978b810>"
      ]
     },
     "metadata": {},
     "output_type": "display_data"
    }
   ],
   "source": [
    "sens = []\n",
    "spec = []\n",
    "fps = []\n",
    "fns = []\n",
    "increments = []\n",
    "\n",
    "#tune our probabilities\n",
    "for each in range(1, 6):\n",
    "    log_prob = 0.01*each\n",
    "    sensitivity, specificity, fp, fn, predictions = tune_specificity(x_test, y_test, log_prob)\n",
    "    sens.append(sensitivity)\n",
    "    spec.append(specificity)\n",
    "    fps.append(fp)\n",
    "    fns.append(fn)\n",
    "    increments.append(log_prob)\n",
    "    \n",
    "#graph statistics based on probability tuning\n",
    "plt.plot(increments, sens, c='b', label='sensitivity')\n",
    "plt.plot(increments, spec, c='r', label='specificity')\n",
    "plt.plot(increments, fps, c='g', label='Type I')\n",
    "plt.plot(increments, fns, c='y', label='Type II')\n",
    "plt.xlabel('Probability values')\n",
    "plt.ylabel('Accuracy and error rates')\n",
    "plt.title(\"Accuracy and error rates as a function of a logistic probability score\")\n",
    "plt.legend()\n",
    "plt.show()"
   ]
  },
  {
   "cell_type": "code",
   "execution_count": 832,
   "metadata": {
    "collapsed": false
   },
   "outputs": [
    {
     "name": "stdout",
     "output_type": "stream",
     "text": [
      "--------------------- True Negative : True Positive-----\n",
      "--------------------------------------------------------\n",
      "At probability 0.01 -         0.316 : 0.791\n",
      "At probability 0.02 -         0.592 : 0.598\n",
      "At probability 0.03 -         0.738 : 0.414\n",
      "At probability 0.04 -         0.829 : 0.316\n",
      "At probability 0.05 -         0.881 : 0.275\n"
     ]
    }
   ],
   "source": [
    "print \"--------------------- True Negative : True Positive-----\"\n",
    "print \"--------------------------------------------------------\"\n",
    "\n",
    "for each in range(len(increments)):\n",
    "    print \"At probability\", increments[each], \"-        \", spec[each],\":\",sens[each]"
   ]
  },
  {
   "cell_type": "markdown",
   "metadata": {},
   "source": [
    "## Best Result:"
   ]
  },
  {
   "cell_type": "code",
   "execution_count": 833,
   "metadata": {
    "collapsed": false
   },
   "outputs": [
    {
     "name": "stdout",
     "output_type": "stream",
     "text": [
      "--------------------- True Negative : True Positive---\n",
      "--------------------------------------------------------\n",
      "At probability 0.025 -         0.675 : 0.5\n"
     ]
    }
   ],
   "source": [
    "sensitivity, specificity, fp, fn, predictions = tune_specificity(x_test, y_test, 0.025)\n",
    "print \"--------------------- True Negative : True Positive---\"\n",
    "print \"--------------------------------------------------------\"\n",
    "print \"At probability 0.025 -        \", specificity,\":\",sensitivity"
   ]
  },
  {
   "cell_type": "markdown",
   "metadata": {},
   "source": [
    "## Analysis and Iteration #2\n",
    "Wanting to see if we could do any better with a different model, I tried subsampling the data so we had an equal number of positive and negative responses. It didn't work very well, but you can see code and discussion in Appendix D."
   ]
  },
  {
   "cell_type": "markdown",
   "metadata": {},
   "source": [
    "## Analysis and Iteration #3\n",
    "Nope. No better with subsampling. So we have a pretty good estimator here... VERY close to our benchmarks. Let's move forward with that."
   ]
  },
  {
   "cell_type": "markdown",
   "metadata": {},
   "source": [
    "## Final Implementation"
   ]
  },
  {
   "cell_type": "code",
   "execution_count": 836,
   "metadata": {
    "collapsed": false
   },
   "outputs": [],
   "source": [
    "def flu_predict(x_test):\n",
    "    #drop duplicative/unnecessary columns\n",
    "    cols = [2,3,9,11,16,17,20,21,25,26,27,28,29,30,36,37,42,43,48,49,57,59]\n",
    "    x_test.drop(x_test.columns[cols],axis=1,inplace=True)\n",
    "\n",
    "    #fill blank entries\n",
    "    x_test.fillna(0, inplace=True)\n",
    "\n",
    "    # Create a new data frame to store one-hot encoding of attributes\n",
    "    flu_data_expanded = pd.DataFrame({}) \n",
    "\n",
    "    # Iterate over all attributes\n",
    "    for column in x_test.columns:\n",
    "        # Check if attribute is categorical: has less than 8 unique values,\n",
    "        # or is string values (column has type 'object')\n",
    "        if len(x_test[column].unique()) < 8 or x_test[column].dtype == np.dtype('object'):\n",
    "            # use one-hot encoding for this column\n",
    "            encoding = pd.get_dummies(x_test[column])\n",
    "            # append expanded attribute to data frame\n",
    "            flu_data_expanded = pd.concat([flu_data_expanded, encoding], axis=1)\n",
    "        else:\n",
    "            flu_data_expanded = pd.concat([flu_data_expanded, x_test[[column]]], axis=1)\n",
    "    \n",
    "    #fit our custom probability model\n",
    "    y_pred = []\n",
    "    for i in range(len(flu_data_expanded)):\n",
    "        exp = np.sum((flu_data_expanded.iloc[i].values * best_logreg.coef_)) + best_logreg.intercept_\n",
    "        pred = 1 / (1 + math.exp(-exp))\n",
    "        if pred <= 0.25:\n",
    "            y_pred.append(0)\n",
    "        else:\n",
    "            y_pred.append(1)\n",
    "            \n",
    "    return y_pred"
   ]
  },
  {
   "cell_type": "code",
   "execution_count": 844,
   "metadata": {
    "collapsed": false,
    "scrolled": false
   },
   "outputs": [],
   "source": [
    "flu_data2 = pd.read_csv('flu_test_no_y.csv', delimiter=',', header=0)\n",
    "\n",
    "predictions = flu_predict(flu_data2)\n",
    "ids = []\n",
    "for each in range(len(flu_data2)):\n",
    "    ids.append(flu_data2.iloc[each, 0])\n",
    "    \n",
    "#export a file\n",
    "with io.FileIO(\"preds.txt\", \"w\") as file:\n",
    "    file.write(\"index,label\\n\")\n",
    "    for each in range(1, (len(predictions)+1)):\n",
    "            file.write(str(ids[(each-1)]) + \",\" + str(predictions[(each-1)]) + \"\\n\")"
   ]
  },
  {
   "cell_type": "markdown",
   "metadata": {},
   "source": [
    "---"
   ]
  },
  {
   "cell_type": "markdown",
   "metadata": {},
   "source": [
    "# Part II: Diagnosing Strains of the Semian Flu\n",
    "\n",
    "From a public health perspective, we want to balance the cost of vaccinations, early interventions and the cost of treating flu complications of unvaccinated people. \n",
    "\n",
    "There are two different strains of the flu: strain 1 has a cheaper early intervention as well as a cheaper treatment for flu complications, but patients with strain 1 has a higher rate of developing complications if treated with the wrong intervention. Strain 2 has a more expensive early intervention as well as a more costly treatment for flu complications, but patients with strain 2 has a lower rate of developing complications if treated with the wrong intervention. With no intervention, flu patients develop complications at the same rate regardless of the strain. \n",
    "\n",
    "**Your task:** build a model to predict if a given patient has the flu and identify the flu strain. The state government of MA will use your model to inform public health policies: we will vaccinate people you've identified as healthy and apply corresponding interventions to patients with different strains of the flu. We have provided you with a function to compute the total expected cost of this policy decision that takes into account the cost of the vaccine, the interventions and the cost of the treatments for flu complications resulting from misdiagnosing patients. Your goal is to make sure your model produces a public health policy with the lowest associated expected cost.\n",
    "\n",
    "**The deliverable:** a function called `flu_predict` which satisfies:\n",
    "\n",
    "- input: `x_test`, a set of medical predictors for a group of patients\n",
    "- output: `y_pred`, a set of labels, one for each patient; 1 for healthy, 2 for infected with strain 1, and 3 for infected with strain 2.\n",
    "\n",
    "The MA state government will use your model to diagnose sets of future patients (held by us). You can expect that there will be an increase in the number of flu patients in any groups of patients in the future.\n",
    "\n",
    "We provide you with some benchmarks for comparison.\n",
    "\n",
    "**Three Baseline Models:** \n",
    "- expected cost on observed data: \\$6,818,206.0, \\$7,035,735.0, \\$8,297,197.5\n",
    "- time to build: 1 min\n",
    "\n",
    "**Reasonable Model:** \n",
    "- expected cost on observed data: $6,300,000\n",
    "- time to build: 20 min\n",
    "\n",
    "**Grading:**\n",
    "Your grade will be based on:\n",
    "1. your model's ability to out-perform our benchmarks\n",
    "2. your ability to carefully and thoroughly follow the data science pipeline (see lecture slides for definition)\n",
    "3. the extend to which all choices are reasonable and defensible by methods you have learned in this class"
   ]
  },
  {
   "cell_type": "code",
   "execution_count": 560,
   "metadata": {
    "collapsed": true
   },
   "outputs": [],
   "source": [
    "#--------  cost\n",
    "# A function that computes the expected cost of the public healthy policy based on the \n",
    "# classifications generated by your model\n",
    "# Input: \n",
    "#      y_true (true class labels: 0, 1, 2)\n",
    "#      y_pred (predicted class labels: 0, 1, 2)\n",
    "# Returns: \n",
    "#      total_cost (expected total cost)\n",
    "\n",
    "def cost(y_true, y_pred):\n",
    "    cost_of_treatment_1 = 29500\n",
    "    cost_of_treatment_2 = 45000\n",
    "    cost_of_intervention_1 = 4150\n",
    "    cost_of_intervention_2 = 4250\n",
    "    cost_of_vaccine = 15\n",
    "    \n",
    "    prob_complications_untreated = 0.65\n",
    "    prob_complications_1 = 0.30\n",
    "    prob_complications_2 = 0.15\n",
    "    \n",
    "    trials = 1000\n",
    "    \n",
    "    \n",
    "    intervention_cost = cost_of_intervention_1 * len(y_pred[y_pred==1]) + cost_of_intervention_2 * len(y_pred[y_pred==2])\n",
    "\n",
    "    vaccine_cost = cost_of_vaccine * len(y_pred[y_pred==0])\n",
    "    \n",
    "    false_neg_1 = ((y_true == 1) & (y_pred == 2)).sum()\n",
    "    false_neg_2 = ((y_true == 2) & (y_pred == 1)).sum()\n",
    "    \n",
    "    untreated_1 = ((y_true == 1) & (y_pred == 0)).sum()    \n",
    "    untreated_2 = ((y_true == 2) & (y_pred == 0)).sum()\n",
    "    \n",
    "    false_neg_1_cost = np.random.binomial(1, prob_complications_1, (false_neg_1, trials)) * cost_of_treatment_1\n",
    "    false_neg_2_cost = np.random.binomial(1, prob_complications_2, (false_neg_2, trials)) * cost_of_treatment_2\n",
    "    untreated_1_cost = np.random.binomial(1, prob_complications_untreated, (untreated_1, trials)) * cost_of_treatment_1\n",
    "    untreated_2_cost = np.random.binomial(1, prob_complications_untreated, (untreated_2, trials)) * cost_of_treatment_2\n",
    "    \n",
    "    false_neg_1_cost = false_neg_1_cost.sum(axis=0)\n",
    "    expected_false_neg_1_cost = false_neg_1_cost.mean()\n",
    "    \n",
    "    false_neg_2_cost = false_neg_2_cost.sum(axis=0)\n",
    "    expected_false_neg_2_cost = false_neg_2_cost.mean()\n",
    "    \n",
    "    untreated_1_cost = untreated_1_cost.sum(axis=0)\n",
    "    expected_untreated_1_cost = untreated_1_cost.mean()\n",
    "    \n",
    "    untreated_2_cost = untreated_2_cost.sum(axis=0)\n",
    "    expected_untreated_2_cost = untreated_2_cost.mean()\n",
    "    \n",
    "    total_cost = vaccine_cost + intervention_cost + expected_false_neg_1_cost + expected_false_neg_2_cost + expected_untreated_1_cost + expected_untreated_2_cost\n",
    "    \n",
    "    return total_cost"
   ]
  },
  {
   "cell_type": "markdown",
   "metadata": {},
   "source": [
    "## Import and explore data"
   ]
  },
  {
   "cell_type": "code",
   "execution_count": 858,
   "metadata": {
    "collapsed": false
   },
   "outputs": [
    {
     "name": "stdout",
     "output_type": "stream",
     "text": [
      "In the dataset, there are 5246 entries, with 76 datapoints each.\n",
      "-------------------------\n",
      "There are 4936 people with no flu in the data set\n",
      "There are 227 people with no type 1 flu in the data set, with prevalence 0.043\n",
      "There are 83 people with no type 2 flu in the data set, with prevalence 0.016\n"
     ]
    }
   ],
   "source": [
    "flu_data = pd.read_csv('flu_train.csv', delimiter=',', header=0)\n",
    "flu_data2 = pd.read_csv('flu_test_no_y.csv', delimiter=',', header=0)\n",
    "\n",
    "x = flu_data.iloc[:, :-2]\n",
    "y = flu_data.iloc[:, -1]\n",
    "x2 = flu_data2.iloc[:, :-2]\n",
    "types = y.value_counts()\n",
    "\n",
    "print \"In the dataset, there are\", flu_data.shape[0], \"entries, with\", flu_data.shape[1], \"datapoints each.\"\n",
    "print \"-------------------------\"\n",
    "print \"There are\", types[1], \"people with no flu in the data set\"\n",
    "print \"There are\", types[2], \"people with no type 1 flu in the data set, with prevalence\", round(types[2]/float(len(flu_data)), 3)\n",
    "print \"There are\", types[3], \"people with no type 2 flu in the data set, with prevalence\", round(types[3]/float(len(flu_data)), 3)"
   ]
  },
  {
   "cell_type": "code",
   "execution_count": 859,
   "metadata": {
    "collapsed": false
   },
   "outputs": [],
   "source": [
    "x = flu_data.iloc[:, :-2]\n",
    "\n",
    "#drop duplicative/unnecessary data\n",
    "cols = [2,3,9,11,16,17,20,21,25,26,27,28,29,36,37,42,43,48,49,57,59]\n",
    "x.drop(x.columns[cols],axis=1,inplace=True)\n",
    "\n",
    "#fill empty cells\n",
    "x.fillna(0, inplace=True)\n",
    "\n",
    "# Create a new data frame to store one-hot encoding of attributes\n",
    "flu_data_expanded = pd.DataFrame({}) \n",
    "\n",
    "# Iterate over all attributes\n",
    "for column in x.columns:\n",
    "    # Check if attribute is categorical: has less than 8 unique values,\n",
    "    # or is string values (column has type 'object')\n",
    "    if len(x[column].unique()) < 8 or x[column].dtype == np.dtype('object'):\n",
    "        # use one-hot encoding for this column\n",
    "        encoding = pd.get_dummies(x[column])\n",
    "        # append expanded attribute to data frame\n",
    "        flu_data_expanded = pd.concat([flu_data_expanded, encoding], axis=1)\n",
    "    else:\n",
    "        flu_data_expanded = pd.concat([flu_data_expanded, x[[column]]], axis=1)"
   ]
  },
  {
   "cell_type": "code",
   "execution_count": 860,
   "metadata": {
    "collapsed": false
   },
   "outputs": [],
   "source": [
    "#split data\n",
    "x_train = flu_data_expanded.iloc[:525, :]\n",
    "y_train = y.iloc[:525]\n",
    "x_val = flu_data_expanded.iloc[525:1050, :]\n",
    "y_val = y.iloc[525:1050]\n",
    "x_test = flu_data_expanded.iloc[1050:, :]\n",
    "y_test = y.iloc[1050:]"
   ]
  },
  {
   "cell_type": "markdown",
   "metadata": {},
   "source": [
    "What's the best we can possibly do?"
   ]
  },
  {
   "cell_type": "code",
   "execution_count": 861,
   "metadata": {
    "collapsed": false
   },
   "outputs": [
    {
     "data": {
      "text/plain": [
       "1368840.0"
      ]
     },
     "execution_count": 861,
     "metadata": {},
     "output_type": "execute_result"
    }
   ],
   "source": [
    "ychange = y - 1\n",
    "cost(ychange, ychange)"
   ]
  },
  {
   "cell_type": "markdown",
   "metadata": {},
   "source": [
    "## Checkpoint\n",
    "So the best we can possibly do is to charge $1,368,840 with a perfect predictive model on the training set. Let's just fit a super-naive model and see how we do."
   ]
  },
  {
   "cell_type": "code",
   "execution_count": 862,
   "metadata": {
    "collapsed": false
   },
   "outputs": [
    {
     "name": "stdout",
     "output_type": "stream",
     "text": [
      "86412111.5\n"
     ]
    }
   ],
   "source": [
    "from sklearn.ensemble import AdaBoostClassifier\n",
    "AdaBoost = AdaBoostClassifier()\n",
    "boost_fit = AdaBoost.fit(x_train, y_train)\n",
    "predictions = AdaBoost.predict(flu_data_expanded)\n",
    "predictions = predictions - 1\n",
    "print cost(y, predictions)\n",
    "cost_weighting.append(cost(y, predictions))\n",
    "ensemble['boost'] = predictions"
   ]
  },
  {
   "cell_type": "markdown",
   "metadata": {},
   "source": [
    "## Analyze and iterate\n",
    "So being out $86mil is not that good. Let's check out how our previous estimator does on this dataset when we combine binary estimators...\n",
    "\n",
    "One thing to justify - in the cases where we have ambiguous results (one 1, one 2 and one 3 vote), we'll assume that there is no flu since this is statistically the most likely scenario and our model does introduce some false positives."
   ]
  },
  {
   "cell_type": "code",
   "execution_count": 863,
   "metadata": {
    "collapsed": true
   },
   "outputs": [],
   "source": [
    "def custom_fit(x, model):\n",
    "    cust_predict = []\n",
    "\n",
    "    for i in range(len(x)):\n",
    "        exp = np.sum((x.iloc[i].values * model.coef_)) + model.intercept_\n",
    "        pred = 1 / (1 + math.exp(-exp))\n",
    "        if pred <= 0.025:\n",
    "            cust_predict.append(0)\n",
    "        else:\n",
    "            cust_predict.append(1)\n",
    "    \n",
    "    return cust_predict"
   ]
  },
  {
   "cell_type": "code",
   "execution_count": 864,
   "metadata": {
    "collapsed": false
   },
   "outputs": [
    {
     "name": "stdout",
     "output_type": "stream",
     "text": [
      "    12  13  23  pred\n",
      "0    1   0   1     1\n",
      "1    1   0   1     1\n",
      "2    1   0   1     1\n",
      "3    1   0   1     1\n",
      "4    0   0   1     1\n",
      "5    0   1   1     3\n",
      "6    0   0   1     1\n",
      "7    0   0   1     1\n",
      "8    1   0   1     1\n",
      "9    0   0   1     1\n",
      "10   1   1   1     3\n",
      "11   1   0   1     1\n",
      "12   1   0   1     1\n",
      "13   1   0   1     1\n",
      "14   0   0   1     1\n",
      "15   1   0   1     1\n",
      "16   1   0   1     1\n",
      "17   0   0   1     1\n",
      "18   1   1   1     3\n",
      "19   1   0   1     1\n",
      "20   1   0   1     1\n",
      "21   1   0   1     1\n",
      "22   1   0   1     1\n",
      "23   0   0   1     1\n",
      "24   0   0   1     1\n"
     ]
    }
   ],
   "source": [
    "binary_pred = pd.DataFrame({}) \n",
    "\n",
    "#ignore 3's\n",
    "x12_binary = x_train[y_train != 3]\n",
    "y12_binary = y_train[y_train != 3]\n",
    "y12_binary = y12_binary-1\n",
    "\n",
    "#fit custom logistic regression without 3's\n",
    "logreg12 = LogisticRegression(C=(10**-3))\n",
    "logreg12.fit(x12_binary, y12_binary)\n",
    "predict12 = custom_fit(flu_data_expanded, logreg12)\n",
    "binary_pred['12'] = predict12\n",
    "\n",
    "#ignore 2's\n",
    "x13_binary = x_train[y_train != 2]\n",
    "y13_binary = y_train[y_train != 2]\n",
    "for each in range(len(y13_binary)):\n",
    "    if y13_binary.iloc[each] == 1:\n",
    "        y13_binary.iloc[each] = 0\n",
    "    if y13_binary.iloc[each] == 3:\n",
    "        y13_binary.iloc[each] = 1\n",
    "\n",
    "#fit custom logistic regression without 2's\n",
    "logreg13 = LogisticRegression(C=(10**-3))\n",
    "logreg13.fit(x13_binary, y13_binary)\n",
    "predict13 = custom_fit(flu_data_expanded, logreg13)\n",
    "binary_pred['13'] = predict13\n",
    "\n",
    "#ignore 1's\n",
    "x23_binary = x_train[y_train != 1]\n",
    "y23_binary = y_train[y_train != 1]\n",
    "for each in range(len(y23_binary)):\n",
    "    if y23_binary.iloc[each] == 2:\n",
    "        y23_binary.iloc[each] = 0\n",
    "    if y23_binary.iloc[each] == 3:\n",
    "        y23_binary.iloc[each] = 1\n",
    "\n",
    "#fit custom logistic regression without 1's\n",
    "logreg23 = LogisticRegression(C=(10**-3))\n",
    "logreg23.fit(x23_binary, y23_binary)\n",
    "predict23 = custom_fit(flu_data_expanded, logreg23)\n",
    "binary_pred['23'] = predict23\n",
    "\n",
    "predictions = []\n",
    "#Make our predictions\n",
    "for each in range(len(binary_pred)):\n",
    "    if binary_pred.iloc[each, 0] == 0 and binary_pred.iloc[each, 1] == 0 and binary_pred.iloc[each, 2] == 0:\n",
    "        predictions.append(1)\n",
    "    if binary_pred.iloc[each, 0] == 0 and binary_pred.iloc[each, 1] == 0 and binary_pred.iloc[each, 2] == 1:\n",
    "        predictions.append(1)\n",
    "    if binary_pred.iloc[each, 0] == 0 and binary_pred.iloc[each, 1] == 1 and binary_pred.iloc[each, 2] == 0:\n",
    "        predictions.append(1)\n",
    "    if binary_pred.iloc[each, 0] == 0 and binary_pred.iloc[each, 1] == 1 and binary_pred.iloc[each, 2] == 1:\n",
    "        predictions.append(3)\n",
    "    if binary_pred.iloc[each, 0] == 1 and binary_pred.iloc[each, 1] == 0 and binary_pred.iloc[each, 2] == 0:\n",
    "        predictions.append(2)\n",
    "    if binary_pred.iloc[each, 0] == 1 and binary_pred.iloc[each, 1] == 0 and binary_pred.iloc[each, 2] == 1:\n",
    "        predictions.append(1)\n",
    "    if binary_pred.iloc[each, 0] == 1 and binary_pred.iloc[each, 1] == 1 and binary_pred.iloc[each, 2] == 0:\n",
    "        predictions.append(2)\n",
    "    if binary_pred.iloc[each, 0] == 1 and binary_pred.iloc[each, 1] == 1 and binary_pred.iloc[each, 2] == 1:\n",
    "        predictions.append(3)\n",
    "\n",
    "preds = pd.Series(predictions)\n",
    "binary_pred['pred'] = preds\n",
    "print binary_pred.iloc[:25, :]"
   ]
  },
  {
   "cell_type": "markdown",
   "metadata": {},
   "source": [
    "We have our predictions... how does our model do."
   ]
  },
  {
   "cell_type": "code",
   "execution_count": 865,
   "metadata": {
    "collapsed": false
   },
   "outputs": [
    {
     "name": "stdout",
     "output_type": "stream",
     "text": [
      "97415902.5\n"
     ]
    }
   ],
   "source": [
    "ensemble = pd.DataFrame({}) \n",
    "cost_weighting = []\n",
    "preds_alter = preds - 1\n",
    "print cost(y, preds_alter)\n",
    "cost_weighting.append(cost(y, preds_alter))\n",
    "\n",
    "ensemble['logreg'] = preds_alter"
   ]
  },
  {
   "cell_type": "markdown",
   "metadata": {},
   "source": [
    "## Analyze and iterate part 2\n",
    "Ouch... what we see here is that our model from the previous problem doesn't do a spectacular job. We'll keep it in the mix, for now because what we're going to do is fit a bunch of different models. If one of them works really well, we'll use that one but if we don't get a really good one, we can just use all of our different models as an \"ensemble\", take a majority vote, and hopefully perform much better."
   ]
  },
  {
   "cell_type": "code",
   "execution_count": 866,
   "metadata": {
    "collapsed": false
   },
   "outputs": [
    {
     "name": "stdout",
     "output_type": "stream",
     "text": [
      "92941533.5\n",
      "13\n"
     ]
    }
   ],
   "source": [
    "from sklearn.discriminant_analysis import LinearDiscriminantAnalysis\n",
    "costs = []\n",
    "\n",
    "for each in range(1, 20):\n",
    "    LDA = LinearDiscriminantAnalysis(n_components = each)\n",
    "    lda_fit = LDA.fit(x_train, y_train)\n",
    "    predictions = LDA.predict(flu_data_expanded)\n",
    "    predictions = predictions - 1\n",
    "    costs.append(cost(y, predictions))\n",
    "\n",
    "min_index = costs.index(min(costs))\n",
    "LDA = LinearDiscriminantAnalysis(n_components = min_index)\n",
    "lda_fit = LDA.fit(x_train, y_train)\n",
    "predictions = LDA.predict(flu_data_expanded)\n",
    "predictions = predictions - 1\n",
    "print cost(y, predictions)\n",
    "cost_weighting.append(cost(y, predictions))\n",
    "ensemble['lda'] = predictions\n",
    "print min_index"
   ]
  },
  {
   "cell_type": "code",
   "execution_count": 867,
   "metadata": {
    "collapsed": false
   },
   "outputs": [
    {
     "name": "stdout",
     "output_type": "stream",
     "text": [
      "101396457.5\n",
      "0\n"
     ]
    }
   ],
   "source": [
    "from sklearn.discriminant_analysis import QuadraticDiscriminantAnalysis\n",
    "costs = []\n",
    "\n",
    "for each in range(-5, 6):\n",
    "    reg = 10**each\n",
    "    QDA = QuadraticDiscriminantAnalysis(reg_param=reg)\n",
    "    qda_fit = QDA.fit(x_train, y_train)\n",
    "    predictions = QDA.predict(flu_data_expanded)\n",
    "    predictions = predictions - 1\n",
    "    costs.append(cost(y, predictions))\n",
    " \n",
    "min_index = costs.index(min(costs))\n",
    "QDA = QuadraticDiscriminantAnalysis(reg_param = (min_index-5))\n",
    "qda_fit = QDA.fit(x_train, y_train)\n",
    "predictions = QDA.predict(flu_data_expanded)\n",
    "predictions = predictions - 1\n",
    "print cost(y, predictions)\n",
    "cost_weighting.append(cost(y, predictions))\n",
    "ensemble['qda'] = predictions\n",
    "print min_index"
   ]
  },
  {
   "cell_type": "code",
   "execution_count": null,
   "metadata": {
    "collapsed": false
   },
   "outputs": [],
   "source": [
    "kernels = ['linear', 'rbf', 'sigmoid']\n",
    "K_costs = []\n",
    "C_costs = []\n",
    "\n",
    "for each in range(len(kernels)):\n",
    "    SVM = SVC(kernel = kernels[each])\n",
    "    svc_fit = SVM.fit(x_train, y_train)\n",
    "    predictions = SVM.predict(flu_data_expanded)\n",
    "    predictions = predictions - 1\n",
    "    K_costs.append(cost(y, predictions))\n",
    "\n",
    "min_kernel = K_costs.index(min(K_costs))\n",
    "for each in range(-5, 6):\n",
    "    C = 10**each\n",
    "    SVM = SVC(kernel = kernels[min_kernel], C=C)\n",
    "    svc_fit = SVM.fit(x_train, y_train)\n",
    "    predictions = SVM.predict(flu_data_expanded)\n",
    "    predictions = predictions - 1\n",
    "    C_costs.append(cost(y, predictions))\n",
    "    \n",
    "min_C = C_costs.index(min(C_costs))\n",
    "C = 10**(min_C-5)\n",
    "SVM = SVC(kernel = kernels[min_kernel], C=C)\n",
    "svc_fit = SVM.fit(x_train, y_train)\n",
    "predictions = SVM.predict(flu_data_expanded)\n",
    "predictions = predictions - 1   \n",
    "print cost(y, predictions)\n",
    "cost_weighting.append(cost(y, predictions))\n",
    "ensemble['svc'] = predictions\n",
    "print min_kernel, min_C"
   ]
  },
  {
   "cell_type": "code",
   "execution_count": 741,
   "metadata": {
    "collapsed": false
   },
   "outputs": [
    {
     "name": "stdout",
     "output_type": "stream",
     "text": [
      "56897745.5\n"
     ]
    }
   ],
   "source": [
    "D_costs = []\n",
    "F_costs = []\n",
    "\n",
    "\n",
    "for each in range(1, 50):\n",
    "    dt = DecisionTree(max_depth = each)\n",
    "    dt_fit = dt.fit(x_train, y_train)\n",
    "    predictions = dt.predict(flu_data_expanded)\n",
    "    predictions = predictions - 1\n",
    "    D_costs.append(cost(y, predictions))\n",
    "\n",
    "min_depth = D_costs.index(min(D_costs))\n",
    "for each in range(1, 20):\n",
    "    dt = DecisionTree(max_depth = min_depth, max_features = each)\n",
    "    dt_fit = dt.fit(x_train, y_train)\n",
    "    predictions = dt.predict(flu_data_expanded)\n",
    "    predictions = predictions - 1\n",
    "    F_costs.append(cost(y, predictions))\n",
    "    \n",
    "min_feat = F_costs.index(min(F_costs))\n",
    "dt = DecisionTree(max_depth = min_depth, max_features = min_feat)\n",
    "dt_fit = dt.fit(x_train, y_train)\n",
    "predictions = dt.predict(flu_data_expanded)\n",
    "predictions = predictions - 1   \n",
    "print cost(y, predictions)\n",
    "cost_weighting.append(cost(y, predictions))\n",
    "ensemble['dt'] = predictions\n",
    "print min_depth, min_feat"
   ]
  },
  {
   "cell_type": "code",
   "execution_count": 738,
   "metadata": {
    "collapsed": false
   },
   "outputs": [
    {
     "name": "stdout",
     "output_type": "stream",
     "text": [
      "97131041.0\n"
     ]
    }
   ],
   "source": [
    "costs = []\n",
    "\n",
    "for each in range(2, 25):\n",
    "    rf = RandomForest(n_estimators = each)\n",
    "    rf_fit = rf.fit(x_train, y_train)\n",
    "    predictions = rf.predict(flu_data_expanded)\n",
    "    predictions = predictions - 1\n",
    "    costs.append(cost(y, predictions))\n",
    "\n",
    "min_index = costs.index(min(costs))\n",
    "rf = RandomForest(n_estimators = min_index)\n",
    "rf_fit = rf.fit(x_train, y_train)\n",
    "predictions = rf.predict(flu_data_expanded)\n",
    "predictions = predictions - 1\n",
    "print cost(y, predictions)\n",
    "cost_weighting.append(cost(y, predictions))\n",
    "ensemble['rf'] = predictions\n",
    "print min_index"
   ]
  },
  {
   "cell_type": "code",
   "execution_count": 756,
   "metadata": {
    "collapsed": false
   },
   "outputs": [
    {
     "name": "stdout",
     "output_type": "stream",
     "text": [
      "86355607.5\n"
     ]
    }
   ],
   "source": [
    "from sklearn.ensemble import AdaBoostClassifier\n",
    "AdaBoost = AdaBoostClassifier()\n",
    "boost_fit = AdaBoost.fit(x_train, y_train)\n",
    "predictions = AdaBoost.predict(flu_data_expanded)\n",
    "predictions = predictions - 1\n",
    "print cost(y, predictions)\n",
    "cost_weighting.append(cost(y, predictions))\n",
    "ensemble['boost'] = predictions"
   ]
  },
  {
   "cell_type": "code",
   "execution_count": 742,
   "metadata": {
    "collapsed": false
   },
   "outputs": [
    {
     "name": "stdout",
     "output_type": "stream",
     "text": [
      "    logreg  lda  qda  svc  majvote  dt  rf  boost\n",
      "0        0    0    0    0        0   0   0      1\n",
      "1        0    0    0    0        0   0   1      1\n",
      "2        0    0    0    0        0   0   0      1\n",
      "3        0    0    0    0        0   0   0      0\n",
      "4        0    0    0    0        0   0   0      0\n",
      "5        0    0    0    0        0   0   0      0\n",
      "6        0    0    0    0        0   0   0      0\n",
      "7        0    0    0    0        0   0   0      0\n",
      "8        0    1    0    0        0   0   0      0\n",
      "9        0    0    0    0        0   0   0      0\n",
      "10       2    0    0    0        0   0   0      0\n",
      "11       0    0    0    0        0   0   0      1\n",
      "12       0    0    0    0        0   0   0      0\n",
      "13       0    0    0    0        0   0   0      0\n",
      "14       0    0    0    0        0   0   0      0\n",
      "15       0    0    0    0        0   0   0      0\n",
      "16       0    0    0    0        0   0   0      0\n",
      "17       0    0    0    0        0   0   0      0\n",
      "18       2    0    0    0        0   0   0      1\n",
      "19       2    0    0    0        0   0   0      0\n",
      "70255710.5\n"
     ]
    }
   ],
   "source": [
    "prediction = []\n",
    "for i in range(len(ensemble)):\n",
    "    counts = np.bincount(ensemble.iloc[i, :])\n",
    "    prediction.append(np.argmax(counts))\n",
    "ensemble['majvote'] = prediction\n",
    "print ensemble[:20]\n",
    "\n",
    "print cost(y_test, ensemble.iloc[:, -1])"
   ]
  },
  {
   "cell_type": "markdown",
   "metadata": {},
   "source": [
    "## Final Implementation"
   ]
  },
  {
   "cell_type": "code",
   "execution_count": 853,
   "metadata": {
    "collapsed": true
   },
   "outputs": [],
   "source": [
    "def flu_predict2(x_test):\n",
    "    #drop duplicative/unnecessary columns\n",
    "    cols = [2,3,9,11,16,17,20,21,25,26,27,28,29,36,37,42,43,48,49,57,59]\n",
    "    x_test.drop(x_test.columns[cols],axis=1,inplace=True)\n",
    "\n",
    "    #fill blank entries\n",
    "    x_test.fillna(0, inplace=True)\n",
    "\n",
    "    # Create a new data frame to store one-hot encoding of attributes\n",
    "    flu_data_expanded = pd.DataFrame({}) \n",
    "\n",
    "    # Iterate over all attributes\n",
    "    for column in x_test.columns:\n",
    "        # Check if attribute is categorical: has less than 8 unique values,\n",
    "        # or is string values (column has type 'object')\n",
    "        if len(x_test[column].unique()) < 8 or x_test[column].dtype == np.dtype('object'):\n",
    "            # use one-hot encoding for this column\n",
    "            encoding = pd.get_dummies(x_test[column])\n",
    "            # append expanded attribute to data frame\n",
    "            flu_data_expanded = pd.concat([flu_data_expanded, encoding], axis=1)\n",
    "        else:\n",
    "            flu_data_expanded = pd.concat([flu_data_expanded, x_test[[column]]], axis=1)\n",
    "            \n",
    "    #Fit Logistic Regression\n",
    "    ensemble = pd.DataFrame({})\n",
    "    costs = []\n",
    "    \n",
    "    LogReg = LogisticRegression()\n",
    "    LR_fit = LogReg.fit(x_train, y_train)\n",
    "    predictions = LogReg.predict(flu_data_expanded)\n",
    "    predictions = predictions - 1\n",
    "    ensemble['logreg'] = predictions\n",
    "    \n",
    "    #Fit LDA\n",
    "    from sklearn.discriminant_analysis import LinearDiscriminantAnalysis\n",
    "\n",
    "    LDA = LinearDiscriminantAnalysis(n_components = 13)\n",
    "    lda_fit = LDA.fit(x_train, y_train)\n",
    "    predictions = LDA.predict(flu_data_expanded)\n",
    "    predictions = predictions - 1\n",
    "    cost_weighting.append(cost(y, predictions))\n",
    "    ensemble['lda'] = predictions\n",
    "    \n",
    "    #fit QDA\n",
    "    from sklearn.discriminant_analysis import QuadraticDiscriminantAnalysis\n",
    "\n",
    "    min_index = costs.index(min(costs))\n",
    "    QDA = QuadraticDiscriminantAnalysis(reg_param = (10**-5))\n",
    "    qda_fit = QDA.fit(x_train, y_train)\n",
    "    predictions = QDA.predict(flu_data_expanded)\n",
    "    predictions = predictions - 1\n",
    "    cost_weighting.append(cost(y, predictions))\n",
    "    ensemble['qda'] = predictions\n",
    "    \n",
    "    #fit SVC\n",
    "    SVM = SVC(kernel = kernels[min_kernel], C=C)\n",
    "    svc_fit = SVM.fit(x_train, y_train)\n",
    "    predictions = SVM.predict(flu_data_expanded)\n",
    "    predictions = predictions - 1   \n",
    "    cost_weighting.append(cost(y, predictions))\n",
    "    ensemble['svc'] = predictions\n",
    "    \n",
    "    #fit Decision Tree\n",
    "    D_costs = []\n",
    "    F_costs = []\n",
    "\n",
    "\n",
    "    for each in range(1, 50):\n",
    "        dt = DecisionTree(max_depth = each)\n",
    "        dt_fit = dt.fit(x_train, y_train)\n",
    "        predictions = dt.predict(flu_data_expanded)\n",
    "        predictions = predictions - 1\n",
    "        D_costs.append(cost(y, predictions))\n",
    "\n",
    "    min_depth = D_costs.index(min(D_costs))\n",
    "    for each in range(1, 20):\n",
    "        dt = DecisionTree(max_depth = min_depth, max_features = each)\n",
    "        dt_fit = dt.fit(x_train, y_train)\n",
    "        predictions = dt.predict(flu_data_expanded)\n",
    "        predictions = predictions - 1\n",
    "        F_costs.append(cost(y, predictions))\n",
    "\n",
    "    min_feat = F_costs.index(min(F_costs))\n",
    "    dt = DecisionTree(max_depth = min_depth, max_features = min_feat)\n",
    "    dt_fit = dt.fit(x_train, y_train)\n",
    "    predictions = dt.predict(flu_data_expanded)\n",
    "    predictions = predictions - 1   \n",
    "    cost_weighting.append(cost(y, predictions))\n",
    "    ensemble['dt'] = predictions\n",
    "    \n",
    "    #fit Random Forest\n",
    "    costs = []\n",
    "    for each in range(2, 25):\n",
    "        rf = RandomForest(n_estimators = each)\n",
    "        rf_fit = rf.fit(x_train, y_train)\n",
    "        predictions = rf.predict(flu_data_expanded)\n",
    "        predictions = predictions - 1\n",
    "        costs.append(cost(y, predictions))\n",
    "\n",
    "    min_index = costs.index(min(costs))\n",
    "    rf = RandomForest(n_estimators = min_index)\n",
    "    rf_fit = rf.fit(x_train, y_train)\n",
    "    predictions = rf.predict(flu_data_expanded)\n",
    "    predictions = predictions - 1\n",
    "    cost_weighting.append(cost(y, predictions))\n",
    "    ensemble['rf'] = predictions\n",
    "    \n",
    "    #fit AdaBoost\n",
    "    from sklearn.ensemble import AdaBoostClassifier\n",
    "    AdaBoost = AdaBoostClassifier()\n",
    "    boost_fit = AdaBoost.fit(x_train, y_train)\n",
    "    predictions = AdaBoost.predict(flu_data_expanded)\n",
    "    predictions = predictions - 1\n",
    "    cost_weighting.append(cost(y, predictions))\n",
    "    ensemble['boost'] = predictions\n",
    "    \n",
    "    #make a prediction\n",
    "    prediction = []\n",
    "    for i in range(len(ensemble)):\n",
    "        counts = np.bincount(ensemble.iloc[i, :])\n",
    "        prediction.append(np.argmax(counts))\n",
    "    ensemble['majvote'] = prediction\n",
    "\n",
    "    return ensemble['majvote']"
   ]
  },
  {
   "cell_type": "code",
   "execution_count": 854,
   "metadata": {
    "collapsed": false
   },
   "outputs": [
    {
     "ename": "ValueError",
     "evalue": "operands could not be broadcast together with shapes (5246,) (1533,) ",
     "output_type": "error",
     "traceback": [
      "\u001b[0;31m---------------------------------------------------------------------------\u001b[0m",
      "\u001b[0;31mValueError\u001b[0m                                Traceback (most recent call last)",
      "\u001b[0;32m<ipython-input-854-199db4b78426>\u001b[0m in \u001b[0;36m<module>\u001b[0;34m()\u001b[0m\n\u001b[1;32m      1\u001b[0m \u001b[0mflu_data2\u001b[0m \u001b[0;34m=\u001b[0m \u001b[0mpd\u001b[0m\u001b[0;34m.\u001b[0m\u001b[0mread_csv\u001b[0m\u001b[0;34m(\u001b[0m\u001b[0;34m'flu_test_no_y.csv'\u001b[0m\u001b[0;34m,\u001b[0m \u001b[0mdelimiter\u001b[0m\u001b[0;34m=\u001b[0m\u001b[0;34m','\u001b[0m\u001b[0;34m,\u001b[0m \u001b[0mheader\u001b[0m\u001b[0;34m=\u001b[0m\u001b[0;36m0\u001b[0m\u001b[0;34m)\u001b[0m\u001b[0;34m\u001b[0m\u001b[0m\n\u001b[1;32m      2\u001b[0m \u001b[0;34m\u001b[0m\u001b[0m\n\u001b[0;32m----> 3\u001b[0;31m \u001b[0mpredictions\u001b[0m \u001b[0;34m=\u001b[0m \u001b[0mflu_predict2\u001b[0m\u001b[0;34m(\u001b[0m\u001b[0mflu_data2\u001b[0m\u001b[0;34m)\u001b[0m\u001b[0;34m\u001b[0m\u001b[0m\n\u001b[0m\u001b[1;32m      4\u001b[0m \u001b[0mids\u001b[0m \u001b[0;34m=\u001b[0m \u001b[0;34m[\u001b[0m\u001b[0;34m]\u001b[0m\u001b[0;34m\u001b[0m\u001b[0m\n\u001b[1;32m      5\u001b[0m \u001b[0;32mfor\u001b[0m \u001b[0meach\u001b[0m \u001b[0;32min\u001b[0m \u001b[0mrange\u001b[0m\u001b[0;34m(\u001b[0m\u001b[0mlen\u001b[0m\u001b[0;34m(\u001b[0m\u001b[0mflu_data2\u001b[0m\u001b[0;34m)\u001b[0m\u001b[0;34m)\u001b[0m\u001b[0;34m:\u001b[0m\u001b[0;34m\u001b[0m\u001b[0m\n",
      "\u001b[0;32m<ipython-input-853-a1b2d72460b0>\u001b[0m in \u001b[0;36mflu_predict2\u001b[0;34m(x_test)\u001b[0m\n\u001b[1;32m     41\u001b[0m         \u001b[0mpredictions\u001b[0m \u001b[0;34m=\u001b[0m \u001b[0mLDA\u001b[0m\u001b[0;34m.\u001b[0m\u001b[0mpredict\u001b[0m\u001b[0;34m(\u001b[0m\u001b[0mflu_data_expanded\u001b[0m\u001b[0;34m)\u001b[0m\u001b[0;34m\u001b[0m\u001b[0m\n\u001b[1;32m     42\u001b[0m         \u001b[0mpredictions\u001b[0m \u001b[0;34m=\u001b[0m \u001b[0mpredictions\u001b[0m \u001b[0;34m-\u001b[0m \u001b[0;36m1\u001b[0m\u001b[0;34m\u001b[0m\u001b[0m\n\u001b[0;32m---> 43\u001b[0;31m         \u001b[0mcosts\u001b[0m\u001b[0;34m.\u001b[0m\u001b[0mappend\u001b[0m\u001b[0;34m(\u001b[0m\u001b[0mcost\u001b[0m\u001b[0;34m(\u001b[0m\u001b[0my\u001b[0m\u001b[0;34m,\u001b[0m \u001b[0mpredictions\u001b[0m\u001b[0;34m)\u001b[0m\u001b[0;34m)\u001b[0m\u001b[0;34m\u001b[0m\u001b[0m\n\u001b[0m\u001b[1;32m     44\u001b[0m \u001b[0;34m\u001b[0m\u001b[0m\n\u001b[1;32m     45\u001b[0m     \u001b[0mmin_index\u001b[0m \u001b[0;34m=\u001b[0m \u001b[0mcosts\u001b[0m\u001b[0;34m.\u001b[0m\u001b[0mindex\u001b[0m\u001b[0;34m(\u001b[0m\u001b[0mmin\u001b[0m\u001b[0;34m(\u001b[0m\u001b[0mcosts\u001b[0m\u001b[0;34m)\u001b[0m\u001b[0;34m)\u001b[0m\u001b[0;34m\u001b[0m\u001b[0m\n",
      "\u001b[0;32m<ipython-input-560-6d4e07d76e18>\u001b[0m in \u001b[0;36mcost\u001b[0;34m(y_true, y_pred)\u001b[0m\n\u001b[1;32m     26\u001b[0m     \u001b[0mvaccine_cost\u001b[0m \u001b[0;34m=\u001b[0m \u001b[0mcost_of_vaccine\u001b[0m \u001b[0;34m*\u001b[0m \u001b[0mlen\u001b[0m\u001b[0;34m(\u001b[0m\u001b[0my_pred\u001b[0m\u001b[0;34m[\u001b[0m\u001b[0my_pred\u001b[0m\u001b[0;34m==\u001b[0m\u001b[0;36m0\u001b[0m\u001b[0;34m]\u001b[0m\u001b[0;34m)\u001b[0m\u001b[0;34m\u001b[0m\u001b[0m\n\u001b[1;32m     27\u001b[0m \u001b[0;34m\u001b[0m\u001b[0m\n\u001b[0;32m---> 28\u001b[0;31m     \u001b[0mfalse_neg_1\u001b[0m \u001b[0;34m=\u001b[0m \u001b[0;34m(\u001b[0m\u001b[0;34m(\u001b[0m\u001b[0my_true\u001b[0m \u001b[0;34m==\u001b[0m \u001b[0;36m1\u001b[0m\u001b[0;34m)\u001b[0m \u001b[0;34m&\u001b[0m \u001b[0;34m(\u001b[0m\u001b[0my_pred\u001b[0m \u001b[0;34m==\u001b[0m \u001b[0;36m2\u001b[0m\u001b[0;34m)\u001b[0m\u001b[0;34m)\u001b[0m\u001b[0;34m.\u001b[0m\u001b[0msum\u001b[0m\u001b[0;34m(\u001b[0m\u001b[0;34m)\u001b[0m\u001b[0;34m\u001b[0m\u001b[0m\n\u001b[0m\u001b[1;32m     29\u001b[0m     \u001b[0mfalse_neg_2\u001b[0m \u001b[0;34m=\u001b[0m \u001b[0;34m(\u001b[0m\u001b[0;34m(\u001b[0m\u001b[0my_true\u001b[0m \u001b[0;34m==\u001b[0m \u001b[0;36m2\u001b[0m\u001b[0;34m)\u001b[0m \u001b[0;34m&\u001b[0m \u001b[0;34m(\u001b[0m\u001b[0my_pred\u001b[0m \u001b[0;34m==\u001b[0m \u001b[0;36m1\u001b[0m\u001b[0;34m)\u001b[0m\u001b[0;34m)\u001b[0m\u001b[0;34m.\u001b[0m\u001b[0msum\u001b[0m\u001b[0;34m(\u001b[0m\u001b[0;34m)\u001b[0m\u001b[0;34m\u001b[0m\u001b[0m\n\u001b[1;32m     30\u001b[0m \u001b[0;34m\u001b[0m\u001b[0m\n",
      "\u001b[0;32m//anaconda/lib/python2.7/site-packages/pandas/core/ops.pyc\u001b[0m in \u001b[0;36mwrapper\u001b[0;34m(self, other)\u001b[0m\n\u001b[1;32m    834\u001b[0m                       is_integer_dtype(np.asarray(other)) else fill_bool)\n\u001b[1;32m    835\u001b[0m             return filler(self._constructor(\n\u001b[0;32m--> 836\u001b[0;31m                 \u001b[0mna_op\u001b[0m\u001b[0;34m(\u001b[0m\u001b[0mself\u001b[0m\u001b[0;34m.\u001b[0m\u001b[0mvalues\u001b[0m\u001b[0;34m,\u001b[0m \u001b[0mother\u001b[0m\u001b[0;34m)\u001b[0m\u001b[0;34m,\u001b[0m\u001b[0;34m\u001b[0m\u001b[0m\n\u001b[0m\u001b[1;32m    837\u001b[0m                 index=self.index)).__finalize__(self)\n\u001b[1;32m    838\u001b[0m \u001b[0;34m\u001b[0m\u001b[0m\n",
      "\u001b[0;32m//anaconda/lib/python2.7/site-packages/pandas/core/ops.pyc\u001b[0m in \u001b[0;36mna_op\u001b[0;34m(x, y)\u001b[0m\n\u001b[1;32m    783\u001b[0m     \u001b[0;32mdef\u001b[0m \u001b[0mna_op\u001b[0m\u001b[0;34m(\u001b[0m\u001b[0mx\u001b[0m\u001b[0;34m,\u001b[0m \u001b[0my\u001b[0m\u001b[0;34m)\u001b[0m\u001b[0;34m:\u001b[0m\u001b[0;34m\u001b[0m\u001b[0m\n\u001b[1;32m    784\u001b[0m         \u001b[0;32mtry\u001b[0m\u001b[0;34m:\u001b[0m\u001b[0;34m\u001b[0m\u001b[0m\n\u001b[0;32m--> 785\u001b[0;31m             \u001b[0mresult\u001b[0m \u001b[0;34m=\u001b[0m \u001b[0mop\u001b[0m\u001b[0;34m(\u001b[0m\u001b[0mx\u001b[0m\u001b[0;34m,\u001b[0m \u001b[0my\u001b[0m\u001b[0;34m)\u001b[0m\u001b[0;34m\u001b[0m\u001b[0m\n\u001b[0m\u001b[1;32m    786\u001b[0m         \u001b[0;32mexcept\u001b[0m \u001b[0mTypeError\u001b[0m\u001b[0;34m:\u001b[0m\u001b[0;34m\u001b[0m\u001b[0m\n\u001b[1;32m    787\u001b[0m             \u001b[0;32mif\u001b[0m \u001b[0misinstance\u001b[0m\u001b[0;34m(\u001b[0m\u001b[0my\u001b[0m\u001b[0;34m,\u001b[0m \u001b[0mlist\u001b[0m\u001b[0;34m)\u001b[0m\u001b[0;34m:\u001b[0m\u001b[0;34m\u001b[0m\u001b[0m\n",
      "\u001b[0;31mValueError\u001b[0m: operands could not be broadcast together with shapes (5246,) (1533,) "
     ]
    }
   ],
   "source": [
    "flu_data2 = pd.read_csv('flu_test_no_y.csv', delimiter=',', header=0)\n",
    "\n",
    "predictions = flu_predict2(flu_data2)\n",
    "ids = []\n",
    "for each in range(len(flu_data2)):\n",
    "    ids.append(flu_data2.iloc[each, 0])\n",
    "    \n",
    "#export a file\n",
    "with io.FileIO(\"preds.txt\", \"w\") as file:\n",
    "    file.write(\"index,label\\n\")\n",
    "    for each in range(1, (len(predictions)+1)):\n",
    "            file.write(str(ids[(each-1)]) + \",\" + str(predictions[(each-1)]) + \"\\n\")"
   ]
  },
  {
   "cell_type": "markdown",
   "metadata": {},
   "source": [
    "# Appendices\n",
    "\n",
    "## Appendix A - Dropped Columns\n",
    "- Age\n",
    "- AgeDecade\n",
    "- HHIncome\n",
    "- Poverty\n",
    "- Length\n",
    "- HeadCircumference\n",
    "- BMI Category\n",
    "- BMI WHO\n",
    "- Urine Volume 2\n",
    "- Urine Flow 2\n",
    "- Little Interest\n",
    "- Depressed\n",
    "- Physically Active\n",
    "- Alcohol year\n",
    "\n",
    "## Appendix B - Testing the Get_Stats function"
   ]
  },
  {
   "cell_type": "code",
   "execution_count": 244,
   "metadata": {
    "collapsed": false
   },
   "outputs": [
    {
     "name": "stdout",
     "output_type": "stream",
     "text": [
      "(0.667, 0.5, 0.5, 0.333)\n"
     ]
    }
   ],
   "source": [
    "#test get_stats\n",
    "test = [1, 1, 0, 0, 1]\n",
    "actual = pd.DataFrame([0, 1, 0, 1, 1])\n",
    "\n",
    "print get_stats(test, actual)"
   ]
  },
  {
   "cell_type": "markdown",
   "metadata": {},
   "source": [
    "## Appendix C - Get Bad Data function"
   ]
  },
  {
   "cell_type": "code",
   "execution_count": 228,
   "metadata": {
    "collapsed": true
   },
   "outputs": [],
   "source": [
    "def find_bad_data(x):\n",
    "    nan_indices = []\n",
    "    inf_indices = []\n",
    "    for i in range(x.shape[0]):\n",
    "        for j in range(x.shape[1]):\n",
    "            if np.isnan(x.iloc[i,j]):\n",
    "                nan_indices.append('['+`i`+','+`j`+']')\n",
    "            if np.isinf(x.iloc[i,j]):\n",
    "                inf_indices.append('['+`i`+','+`j`+']')\n",
    "    print nan_indices\n",
    "    print \"-------------------------\"\n",
    "    print inf_indices"
   ]
  },
  {
   "cell_type": "markdown",
   "metadata": {},
   "source": [
    "## Appendix D - Part 1 Analysis and Iteration #2\n",
    "So, we're doing okay with this new model. Around 0.025 probability we can get both 50% true positive and 50% true negative, and tweak things up or down from there. But I'd like to see what would happen if we sub-sample our data... let's see if we can do better."
   ]
  },
  {
   "cell_type": "code",
   "execution_count": 457,
   "metadata": {
    "collapsed": false
   },
   "outputs": [],
   "source": [
    "subtrain1 = flu_data_expanded[y == 1]\n",
    "subtrain2 = flu_data_expanded[y != 1]\n",
    "\n",
    "n = len(subtrain1)\n",
    "subtrain3 = subtrain2[:n]\n",
    "\n",
    "lists = [subtrain1, subtrain3]\n",
    "x_concat = pd.concat(lists, axis = 0)\n",
    "\n",
    "y_subtrain = y[y == 1]\n",
    "y_subtrain2 = y[y != 1]\n",
    "y_subtrain2 = y_subtrain2[:n]\n",
    "\n",
    "lists = [y_subtrain, y_subtrain2]\n",
    "y_concat = pd.concat(lists, axis=0)"
   ]
  },
  {
   "cell_type": "code",
   "execution_count": 459,
   "metadata": {
    "collapsed": false
   },
   "outputs": [
    {
     "name": "stdout",
     "output_type": "stream",
     "text": [
      "--------------------- True Negative : True Positive---\n",
      "--------------------------------------------------------\n",
      "At probability 0.01 -         0.068 : 0.794\n",
      "At probability 0.02 -         0.245 : 0.613\n",
      "At probability 0.03 -         0.435 : 0.458\n",
      "At probability 0.04 -         0.571 : 0.358\n",
      "At probability 0.05 -         0.677 : 0.319\n",
      "At probability 0.06 -         0.771 : 0.274\n",
      "At probability 0.07 -         0.826 : 0.242\n",
      "At probability 0.08 -         0.861 : 0.219\n",
      "At probability 0.09 -         0.874 : 0.194\n",
      "At probability 0.1 -         0.919 : 0.187\n"
     ]
    }
   ],
   "source": [
    "sens = []\n",
    "spec = []\n",
    "fps = []\n",
    "fns = []\n",
    "increments = []\n",
    "for each in range(1, 11):\n",
    "    log_prob = 0.01*each\n",
    "    sensitivity, specificity, fp, fn, predictions = tune_specificity(x_concat, y_concat, log_prob)\n",
    "    sens.append(sensitivity)\n",
    "    spec.append(specificity)\n",
    "    fps.append(fp)\n",
    "    fns.append(fn)\n",
    "    increments.append(log_prob)\n",
    "    \n",
    "print \"--------------------- True Negative : True Positive---\"\n",
    "print \"--------------------------------------------------------\"\n",
    "\n",
    "for each in range(len(increments)):\n",
    "    print \"At probability\", increments[each], \"-        \", spec[each],\":\",sens[each]"
   ]
  },
  {
   "cell_type": "markdown",
   "metadata": {},
   "source": [
    "## Appendix E - What we tried in part 1"
   ]
  },
  {
   "cell_type": "markdown",
   "metadata": {},
   "source": [
    "### KNN"
   ]
  },
  {
   "cell_type": "code",
   "execution_count": 454,
   "metadata": {
    "collapsed": false,
    "scrolled": true
   },
   "outputs": [
    {
     "name": "stdout",
     "output_type": "stream",
     "text": [
      "The sensitivity (True Positive) rate of the model is: 0.0\n",
      "The specificity (True Negative) rate of the model is: 1.0\n"
     ]
    }
   ],
   "source": [
    "from sklearn.neighbors import KNeighborsClassifier as KNN\n",
    "KNN = KNN(n_neighbors = 5)\n",
    "KNN_fit = KNN.fit(x_train, y_train)\n",
    "predictions = KNN.predict(x_test)\n",
    "sensitivity, specificity, fp, fn = get_stats(predictions, y_test)\n",
    "print \"The sensitivity (True Positive) rate of the model is:\", sensitivity\n",
    "print \"The specificity (True Negative) rate of the model is:\", specificity"
   ]
  },
  {
   "cell_type": "markdown",
   "metadata": {},
   "source": [
    "### Random Forest"
   ]
  },
  {
   "cell_type": "code",
   "execution_count": 455,
   "metadata": {
    "collapsed": false,
    "scrolled": false
   },
   "outputs": [
    {
     "name": "stdout",
     "output_type": "stream",
     "text": [
      "The sensitivity (True Positive) rate of the model is: 0.074\n",
      "The specificity (True Negative) rate of the model is: 0.962\n"
     ]
    }
   ],
   "source": [
    "rf = RandomForest(n_estimators = 1, max_depth = 10)\n",
    "rf_fit = rf.fit(x_train, y_train)\n",
    "predictions = rf.predict(x_test)\n",
    "sensitivity, specificity, fp, fn = get_stats(predictions, y_test)\n",
    "print \"The sensitivity (True Positive) rate of the model is:\", sensitivity\n",
    "print \"The specificity (True Negative) rate of the model is:\", specificity"
   ]
  },
  {
   "cell_type": "markdown",
   "metadata": {},
   "source": [
    "### AdaBoost"
   ]
  },
  {
   "cell_type": "code",
   "execution_count": 456,
   "metadata": {
    "collapsed": false
   },
   "outputs": [
    {
     "name": "stdout",
     "output_type": "stream",
     "text": [
      "The sensitivity (True Positive) rate of the model is: 0.025\n",
      "The specificity (True Negative) rate of the model is: 0.99\n"
     ]
    }
   ],
   "source": [
    "from sklearn.ensemble import AdaBoostClassifier\n",
    "AdaBoost = AdaBoostClassifier()\n",
    "boost_fit = AdaBoost.fit(x_train, y_train)\n",
    "predictions = AdaBoost.predict(x_test)\n",
    "sensitivity, specificity, fp, fn = get_stats(predictions, y_test)\n",
    "print \"The sensitivity (True Positive) rate of the model is:\", sensitivity\n",
    "print \"The specificity (True Negative) rate of the model is:\", specificity"
   ]
  }
 ],
 "metadata": {
  "anaconda-cloud": {},
  "kernelspec": {
   "display_name": "Python [Root]",
   "language": "python",
   "name": "Python [Root]"
  },
  "language_info": {
   "codemirror_mode": {
    "name": "ipython",
    "version": 2
   },
   "file_extension": ".py",
   "mimetype": "text/x-python",
   "name": "python",
   "nbconvert_exporter": "python",
   "pygments_lexer": "ipython2",
   "version": "2.7.12"
  }
 },
 "nbformat": 4,
 "nbformat_minor": 0
}
