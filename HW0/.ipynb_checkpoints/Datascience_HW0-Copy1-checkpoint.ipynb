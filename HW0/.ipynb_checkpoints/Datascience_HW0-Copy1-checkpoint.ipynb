{
 "cells": [
  {
   "cell_type": "markdown",
   "metadata": {},
   "source": [
    "# CS 109A/AC 209A/STAT 121A Data Science: Homework 0\n",
    "**Harvard University**<br>\n",
    "**Fall 2016**<br>\n",
    "**Instructors: W. Pan, P. Protopapas, K. Rader**"
   ]
  },
  {
   "cell_type": "markdown",
   "metadata": {},
   "source": [
    "Import libraries"
   ]
  },
  {
   "cell_type": "code",
   "execution_count": 5,
   "metadata": {
    "collapsed": false
   },
   "outputs": [],
   "source": [
    "import numpy as np\n",
    "import matplotlib\n",
    "import matplotlib.pyplot as plt\n",
    "import random\n",
    "from mpl_toolkits.mplot3d import Axes3D\n",
    "from bs4 import BeautifulSoup\n",
    "import urllib\n",
    "%matplotlib inline"
   ]
  },
  {
   "cell_type": "markdown",
   "metadata": {},
   "source": [
    "## Problem 1: Processing Tabular Data from File\n",
    "\n",
    "In this problem, we practice reading csv formatted data and doing some very simple data exploration."
   ]
  },
  {
   "cell_type": "markdown",
   "metadata": {},
   "source": [
    "### Part (a): Reading CSV Data with Numpy\n",
    "\n",
    "Open the file $\\mathtt{dataset}$\\_$\\mathtt{HW0.txt}$, containing birth biometrics as well as maternal data for a number of U.S. births, and inspect the csv formatting of the data. Load the data, without the column headers, into an numpy array. \n",
    "\n",
    "Do some preliminary explorations of the data by printing out the dimensions as well as the first three rows of the array. Finally, for each column, print out the range of the values. \n",
    "\n",
    "<b>Prettify your output</b>, add in some text and formatting to make sure your outputs are readable (e.g. \"36x4\" is less readable than \"array dimensions: 36x4\")."
   ]
  },
  {
   "cell_type": "code",
   "execution_count": 30,
   "metadata": {
    "collapsed": false
   },
   "outputs": [
    {
     "name": "stdout",
     "output_type": "stream",
     "text": [
      "The array has the dimensions (rows, columns):\n",
      "(400, 3)\n",
      "... and the first three rows are:\n",
      "[[  2.9694893    1.97915605  16.        ]\n",
      " [  4.03896294   3.5556812   16.        ]\n",
      " [  5.30264328   3.3856329   15.        ]]\n",
      "The ranges of each column are as follows:\n",
      "Column 0 min is 2.96742562601\n",
      "Column 0 max is 9.02194194628\n",
      "Column 1 min is 0.479154166011\n",
      "Column 1 max is 6.64873007157\n",
      "Column 2 min is 15.0\n",
      "Column 2 max is 49.0\n"
     ]
    }
   ],
   "source": [
    "# So start by importing our data\n",
    "data = np.loadtxt('dataset_HW0.txt', delimiter=',', skiprows=1)\n",
    "\n",
    "# Let's print the dimensions...\n",
    "print \"The array has the dimensions (rows, columns):\"\n",
    "print data.shape\n",
    "\n",
    "# and the first three rows...\n",
    "print \"... and the first three rows are:\"\n",
    "print data[:3, :]\n",
    "\n",
    "# and the range for each of the columns\n",
    "print \"The ranges of each column are as follows:\"\n",
    "for columns in range(3):\n",
    "    range_list = data[:, columns]\n",
    "    print \"Column\", columns, \"min is\", min(range_list)\n",
    "    print \"Column\", columns, \"max is\", max(range_list)"
   ]
  },
  {
   "cell_type": "markdown",
   "metadata": {},
   "source": [
    "### Part (b): Simple Data Statistics\n",
    "\n",
    "Compute the mean birth weight and mean femur length for the entire dataset. Now, we want to split the birth data into three groups based on the mother's age:\n",
    "\n",
    "1. Group I: ages 0-17\n",
    "2. Group II: ages 18-34\n",
    "3. Group III: ages 35-50\n",
    "\n",
    "For each maternal age group, compute the mean birth weight and mean femure length. \n",
    "\n",
    "<b>Prettify your output.</b>\n",
    "\n",
    "Compare the group means with each other and with the overall mean, what can you conclude?"
   ]
  },
  {
   "cell_type": "code",
   "execution_count": 55,
   "metadata": {
    "collapsed": false
   },
   "outputs": [
    {
     "name": "stdout",
     "output_type": "stream",
     "text": [
      "The mean birth weight is:\n",
      "3.82759083154\n",
      "The mean femur length is:\n",
      "27.06\n",
      "The mean birth weights for each group are:\n",
      "3.50680640853 for group 1,\n",
      "4.0043330551 for group 2, and\n",
      "3.79489080744 for group 3.\n",
      "The mean femur length for each group are:\n",
      "15.64 for group 1,\n",
      "25.355 for group 2, and\n",
      "41.89 for group 3.\n"
     ]
    }
   ],
   "source": [
    "# Calculating the mean birth weight and femur length for the whole dataset\n",
    "print \"The mean birth weight is:\"\n",
    "print data[:,1].mean()\n",
    "print \"The mean femur length is:\"\n",
    "print data[:,2].mean()\n",
    "\n",
    "# Let's create arrays out of our three groups\n",
    "group1 = data[data[:,2] < 18]\n",
    "# print group1[:10, :] # A bit of code to check we did this right...\n",
    "\n",
    "group2 = data[(data[:,2] >= 18) & (data[:,2] < 35)]\n",
    "# print group2[:10, :] # A bit of code to check we did this right...\n",
    "\n",
    "group3 = data[data[:,2] >= 35]\n",
    "# print group3[:10, :] # A bit of code to check we did this right...\n",
    "\n",
    "print \"The mean birth weights for each group are:\"\n",
    "print group1[:,1].mean(), \"for group 1,\"\n",
    "print group2[:,1].mean(), \"for group 2, and\"\n",
    "print group3[:,1].mean(), \"for group 3.\"\n",
    "\n",
    "print \"The mean femur length for each group are:\"\n",
    "print group1[:,2].mean(), \"for group 1,\"\n",
    "print group2[:,2].mean(), \"for group 2, and\"\n",
    "print group3[:,2].mean(), \"for group 3.\"\n",
    "\n",
    "# It looks like as the maternal age increases, the birth weights don't seem to differ in any \n",
    "# discernable way, but the femur length increases.\n"
   ]
  },
  {
   "cell_type": "markdown",
   "metadata": {},
   "source": [
    "### Part (c): Simple Data Visualization\n",
    "\n",
    "Visualize the data using a 3-D scatter plot. How does your visual analysis compare with the stats you've computed in Part (b)?"
   ]
  },
  {
   "cell_type": "code",
   "execution_count": 69,
   "metadata": {
    "collapsed": false
   },
   "outputs": [
    {
     "data": {
      "text/plain": [
       "<mpl_toolkits.mplot3d.art3d.Path3DCollection at 0x1114057d0>"
      ]
     },
     "execution_count": 69,
     "metadata": {},
     "output_type": "execute_result"
    },
    {
     "data": {
      "image/png": "[encoded data removed]",
      "text/plain": [
       "<matplotlib.figure.Figure at 0x1107fe410>"
      ]
     },
     "metadata": {},
     "output_type": "display_data"
    }
   ],
   "source": [
    "fig = plt.figure()\n",
    "fig1 = fig.add_subplot(111, projection='3d')\n",
    "fig1.scatter([data[:,0]], [data[:,1]], [data[:,2]])"
   ]
  },
  {
   "cell_type": "markdown",
   "metadata": {},
   "source": [
    "### Part (d): Simple Data Visualization (Continued)\n",
    "\n",
    "Visualize two data attributes at a time,\n",
    "\n",
    "1. maternal age against birth weight\n",
    "2. maternal age against femur length\n",
    "3. birth weight against femur length\n",
    "\n",
    "using 2-D scatter plots.\n",
    "\n",
    "Compare your visual analysis with your analysis from Part (b) and (c)."
   ]
  },
  {
   "cell_type": "code",
   "execution_count": null,
   "metadata": {
    "collapsed": true
   },
   "outputs": [],
   "source": []
  },
  {
   "cell_type": "markdown",
   "metadata": {},
   "source": [
    "### Part (e): More Data Visualization\n",
    "\n",
    "Finally, we want to visualize the data by maternal age group. Plot the data again using a 3-D scatter plot, this time, color the points in the plot according to the age group of the mother (e.g. use red, blue, green to represent group I, II and III respectively).\n",
    "\n",
    "Compare your visual analysis with your analysis from Part (a) - (c)."
   ]
  },
  {
   "cell_type": "code",
   "execution_count": null,
   "metadata": {
    "collapsed": true
   },
   "outputs": [],
   "source": []
  },
  {
   "cell_type": "markdown",
   "metadata": {},
   "source": [
    "## Problem 2: Processing Web Data\n",
    "\n",
    "In this problem we practice some basic web-scrapping using Beautiful Soup."
   ]
  },
  {
   "cell_type": "markdown",
   "metadata": {},
   "source": [
    "### Part (a): Opening and Reading Webpages\n",
    "\n",
    "Open and load the page (Kafka's The Metamorphosis) at \n",
    "\n",
    "$\\mathtt{http://www.gutenberg.org/files/5200/5200-h/5200-h.htm}$\n",
    "\n",
    "into a BeautifulSoup object. \n",
    "\n",
    "The object we obtain is a parse tree (a data structure representing all tags and relationship between tags) of the html file. To concretely visualize this object, print out the first 1000 characters of a representation of the parse tree using the $\\mathtt{prettify()}$ function."
   ]
  },
  {
   "cell_type": "code",
   "execution_count": null,
   "metadata": {
    "collapsed": true
   },
   "outputs": [],
   "source": []
  },
  {
   "cell_type": "markdown",
   "metadata": {},
   "source": [
    "### Part (b): Exploring the Parsed HTML\n",
    "\n",
    "Explore the nested data structure you obtain in Part (a) by printing out the following:\n",
    "\n",
    "1. the content of the head tag\n",
    "2. the text of the head tag\n",
    "3. each child of the head tag\n",
    "2. the text of the title tag\n",
    "3. the text of the preamble (pre) tag\n",
    "4. the text of the first paragraph (p) tag"
   ]
  },
  {
   "cell_type": "code",
   "execution_count": null,
   "metadata": {
    "collapsed": true
   },
   "outputs": [],
   "source": []
  },
  {
   "cell_type": "markdown",
   "metadata": {},
   "source": [
    "### Part (c): Extracting Text\n",
    "\n",
    "Now we want to extract the text of The Metamorphosis and do some simple analysis. Beautiful Soup provides a way to extract all text from a webpage via the $\\mathtt{get}$_$\\mathtt{text()}$ function. \n",
    "\n",
    "Print the first and last 5000 characters of the text returned by $\\mathtt{get}$_$\\mathtt{text()}$. Is this the content of the novela? Where is the content of The Metamorphosis stored in the BeautifulSoup object?"
   ]
  },
  {
   "cell_type": "code",
   "execution_count": null,
   "metadata": {
    "collapsed": true
   },
   "outputs": [],
   "source": []
  },
  {
   "cell_type": "markdown",
   "metadata": {},
   "source": [
    "### Part (d): Extracting Text (Continued)\n",
    "\n",
    "Using the $\\mathtt{find}$_$\\mathtt{all()}$ function, extract the text of all $\\mathtt{p}$ tags and concatenate the result into a single string. Print out the first 1000 characters of the string as a sanity check."
   ]
  },
  {
   "cell_type": "code",
   "execution_count": null,
   "metadata": {
    "collapsed": true
   },
   "outputs": [],
   "source": []
  },
  {
   "cell_type": "markdown",
   "metadata": {},
   "source": [
    "### Part (e): Sentence and Word Count\n",
    "\n",
    "Count the number of words in The Metamorphosis. Compute the average word length and plot a histogram of word lengths.\n",
    "\n",
    "Count the number of sentences in The Metamorphosis. Compute the average sentence length and plot a histogram of sentence lengths.\n",
    "\n",
    "**Hint**: You'll need to pre-process the text in order to obtain the correct word/sentence length and count. "
   ]
  },
  {
   "cell_type": "code",
   "execution_count": null,
   "metadata": {
    "collapsed": true
   },
   "outputs": [],
   "source": []
  },
  {
   "cell_type": "markdown",
   "metadata": {},
   "source": [
    "## Problem 3: Data from Simulations\n",
    "\n",
    "In this problem we practice generating data by setting up a simulation of a simple phenomenon, a queue. \n",
    "\n",
    "Suppose we're interested in simulating a queue that forms in front of a small Bank of America branch with one teller, where the customers arrive one at a time.\n",
    "\n",
    "We want to study the queue length and customer waiting time."
   ]
  },
  {
   "cell_type": "markdown",
   "metadata": {},
   "source": [
    "### Part (a): Simulating Arrival and Service Time\n",
    "\n",
    "Assume that gaps between consecutive arrivals are uniformly distributed over the interval of 1 to 20 minutes (i.e. any two times between 1 minute and 6 minutes are equally likely). \n",
    "\n",
    "Assume that the service times are uniform over the interval of 5 to 15 minutes. \n",
    "\n",
    "Generate the arrival and service times for 100 customers, using the $\\mathtt{uniform()}$ function from the $\\mathtt{random}$ library."
   ]
  },
  {
   "cell_type": "code",
   "execution_count": null,
   "metadata": {
    "collapsed": false
   },
   "outputs": [],
   "source": []
  },
  {
   "cell_type": "markdown",
   "metadata": {},
   "source": [
    "### Part (b): Simulating the Queue\n",
    "\n",
    "Write function that computes the average queue length and the average customer wait time, given the arrival times and the service times."
   ]
  },
  {
   "cell_type": "code",
   "execution_count": null,
   "metadata": {
    "collapsed": true
   },
   "outputs": [],
   "source": []
  },
  {
   "cell_type": "markdown",
   "metadata": {},
   "source": [
    "### Part (c): Average Queue Length and Wait Time\n",
    "\n",
    "Run your simulation 500 times and report the mean and std of the average wait time and queue length for 100 customers. What do these statistics mean?\n",
    "\n",
    "Explain why is isn't sufficient to run our simulation **once** and report the average wait time/queue length we obtain."
   ]
  },
  {
   "cell_type": "code",
   "execution_count": null,
   "metadata": {
    "collapsed": true
   },
   "outputs": [],
   "source": []
  },
  {
   "cell_type": "markdown",
   "metadata": {},
   "source": [
    "## Problem 4 (Challenge Problem): More Web Scrapping\n",
    "\n",
    "In this problem we practice extracting tabular web data. Open and read the webpage at\n",
    "\n",
    "$\\mathtt{http://www.thisismoney.co.uk/money/news/article-2928285/Economy-tables-GDP-rates-inflation-history-unemployment.html}$\n",
    "\n",
    "Extract the Inflation History table and load it into a numpy array.\n",
    "\n",
    "Generate a line graph representing the trend of consumer price index vs time (in months)."
   ]
  },
  {
   "cell_type": "code",
   "execution_count": null,
   "metadata": {
    "collapsed": true
   },
   "outputs": [],
   "source": []
  }
 ],
 "metadata": {
  "kernelspec": {
   "display_name": "Python [Root]",
   "language": "python",
   "name": "Python [Root]"
  },
  "language_info": {
   "codemirror_mode": {
    "name": "ipython",
    "version": 2
   },
   "file_extension": ".py",
   "mimetype": "text/x-python",
   "name": "python",
   "nbconvert_exporter": "python",
   "pygments_lexer": "ipython2",
   "version": "2.7.12"
  }
 },
 "nbformat": 4,
 "nbformat_minor": 0
}
