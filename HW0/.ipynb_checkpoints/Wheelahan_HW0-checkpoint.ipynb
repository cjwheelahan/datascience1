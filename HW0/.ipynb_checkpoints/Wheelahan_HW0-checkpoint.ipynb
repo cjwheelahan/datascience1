{
 "cells": [
  {
   "cell_type": "markdown",
   "metadata": {},
   "source": [
    "# CS 109A/AC 209A/STAT 121A Data Science: Homework 0\n",
    "**Harvard University**<br>\n",
    "**Fall 2016**<br>\n",
    "**Instructors: W. Pan, P. Protopapas, K. Rader**"
   ]
  },
  {
   "cell_type": "markdown",
   "metadata": {},
   "source": [
    "Import libraries"
   ]
  },
  {
   "cell_type": "code",
   "execution_count": 184,
   "metadata": {
    "collapsed": false
   },
   "outputs": [],
   "source": [
    "import numpy as np\n",
    "import matplotlib\n",
    "import matplotlib.pyplot as plt\n",
    "import random\n",
    "from mpl_toolkits.mplot3d import Axes3D\n",
    "from bs4 import BeautifulSoup\n",
    "import urllib\n",
    "%matplotlib inline"
   ]
  },
  {
   "cell_type": "markdown",
   "metadata": {},
   "source": [
    "## Problem 1: Processing Tabular Data from File\n",
    "\n",
    "In this problem, we practice reading csv formatted data and doing some very simple data exploration."
   ]
  },
  {
   "cell_type": "markdown",
   "metadata": {},
   "source": [
    "### Part (a): Reading CSV Data with Numpy\n",
    "\n",
    "Open the file $\\mathtt{dataset}$\\_$\\mathtt{HW0.txt}$, containing birth biometrics as well as maternal data for a number of U.S. births, and inspect the csv formatting of the data. Load the data, without the column headers, into an numpy array. \n",
    "\n",
    "Do some preliminary explorations of the data by printing out the dimensions as well as the first three rows of the array. Finally, for each column, print out the range of the values. \n",
    "\n",
    "<b>Prettify your output</b>, add in some text and formatting to make sure your outputs are readable (e.g. \"36x4\" is less readable than \"array dimensions: 36x4\")."
   ]
  },
  {
   "cell_type": "code",
   "execution_count": 185,
   "metadata": {
    "collapsed": false,
    "scrolled": true
   },
   "outputs": [
    {
     "name": "stdout",
     "output_type": "stream",
     "text": [
      "The array has the dimensions (rows, columns):\n",
      "(400, 3)\n",
      "... and the first three rows are:\n",
      "[[  2.9694893    1.97915605  16.        ]\n",
      " [  4.03896294   3.5556812   16.        ]\n",
      " [  5.30264328   3.3856329   15.        ]]\n",
      "The ranges of each column are as follows:\n",
      "Column 0 min is 2.96742562601\n",
      "Column 0 max is 9.02194194628\n",
      "Column 1 min is 0.479154166011\n",
      "Column 1 max is 6.64873007157\n",
      "Column 2 min is 15.0\n",
      "Column 2 max is 49.0\n"
     ]
    }
   ],
   "source": [
    "# So start by importing our data\n",
    "data = np.loadtxt('dataset_HW0.txt', delimiter=',', skiprows=1)\n",
    "\n",
    "# Let's print the dimensions...\n",
    "print \"The array has the dimensions (rows, columns):\"\n",
    "print data.shape\n",
    "\n",
    "# and the first three rows...\n",
    "print \"... and the first three rows are:\"\n",
    "print data[:3, :]\n",
    "\n",
    "# and the range for each of the columns\n",
    "print \"The ranges of each column are as follows:\"\n",
    "for columns in range(3):\n",
    "    range_list = data[:, columns]\n",
    "    print \"Column\", columns, \"min is\", min(range_list)\n",
    "    print \"Column\", columns, \"max is\", max(range_list)"
   ]
  },
  {
   "cell_type": "markdown",
   "metadata": {},
   "source": [
    "### Part (b): Simple Data Statistics\n",
    "\n",
    "Compute the mean birth weight and mean femur length for the entire dataset. Now, we want to split the birth data into three groups based on the mother's age:\n",
    "\n",
    "1. Group I: ages 0-17\n",
    "2. Group II: ages 18-34\n",
    "3. Group III: ages 35-50\n",
    "\n",
    "For each maternal age group, compute the mean birth weight and mean femure length. \n",
    "\n",
    "<b>Prettify your output.</b>\n",
    "\n",
    "Compare the group means with each other and with the overall mean, what can you conclude?"
   ]
  },
  {
   "cell_type": "code",
   "execution_count": 186,
   "metadata": {
    "collapsed": false
   },
   "outputs": [
    {
     "name": "stdout",
     "output_type": "stream",
     "text": [
      "The mean birth weight is:\n",
      "3.82759083154\n",
      "The mean femur length is:\n",
      "27.06\n",
      "The mean birth weights for each group are:\n",
      "3.50680640853 for group 1,\n",
      "4.0043330551 for group 2, and\n",
      "3.79489080744 for group 3.\n",
      "The mean femur length for each group are:\n",
      "15.64 for group 1,\n",
      "25.355 for group 2, and\n",
      "41.89 for group 3.\n"
     ]
    }
   ],
   "source": [
    "# Calculating the mean birth weight and femur length for the whole dataset\n",
    "print \"The mean birth weight is:\"\n",
    "print data[:,1].mean()\n",
    "print \"The mean femur length is:\"\n",
    "print data[:,2].mean()\n",
    "\n",
    "# Let's create arrays out of our three groups\n",
    "group1 = data[data[:,2] < 18]\n",
    "# print group1[:10, :] # A bit of code to check we did this right...\n",
    "\n",
    "group2 = data[(data[:,2] >= 18) & (data[:,2] < 35)]\n",
    "# print group2[:10, :] # A bit of code to check we did this right...\n",
    "\n",
    "group3 = data[data[:,2] >= 35]\n",
    "# print group3[:10, :] # A bit of code to check we did this right...\n",
    "\n",
    "print \"The mean birth weights for each group are:\"\n",
    "print group1[:,1].mean(), \"for group 1,\"\n",
    "print group2[:,1].mean(), \"for group 2, and\"\n",
    "print group3[:,1].mean(), \"for group 3.\"\n",
    "\n",
    "print \"The mean femur length for each group are:\"\n",
    "print group1[:,2].mean(), \"for group 1,\"\n",
    "print group2[:,2].mean(), \"for group 2, and\"\n",
    "print group3[:,2].mean(), \"for group 3.\"\n",
    "\n",
    "# It looks like as the maternal age increases, the birth weights don't seem to differ in any \n",
    "# discernable way, but the femur length increases.\n"
   ]
  },
  {
   "cell_type": "markdown",
   "metadata": {},
   "source": [
    "### Part (c): Simple Data Visualization\n",
    "\n",
    "Visualize the data using a 3-D scatter plot. How does your visual analysis compare with the stats you've computed in Part (b)?"
   ]
  },
  {
   "cell_type": "code",
   "execution_count": 4,
   "metadata": {
    "collapsed": false
   },
   "outputs": [
    {
     "data": {
      "text/plain": [
       "<mpl_toolkits.mplot3d.art3d.Path3DCollection at 0x10d0786d0>"
      ]
     },
     "execution_count": 4,
     "metadata": {},
     "output_type": "execute_result"
    },
    {
     "data": {
      "image/png": "[encoded data removed]",
      "text/plain": [
       "<matplotlib.figure.Figure at 0x10d063d10>"
      ]
     },
     "metadata": {},
     "output_type": "display_data"
    }
   ],
   "source": [
    "# Let's create a 3d plot of mother's age vs. femur length vs. birth weight\n",
    "fig3d = plt.figure()\n",
    "fig3d = fig3d.add_subplot(111, projection='3d')\n",
    "fig3d.scatter([data[:,0]], [data[:,1]], [data[:,2]])\n",
    "\n",
    "# So in this graph, there doesn't seem to be any discernable pattern other than just\n",
    "# a cloud of data. It's kind of hard to look at and interpret data in this format, though..."
   ]
  },
  {
   "cell_type": "markdown",
   "metadata": {},
   "source": [
    "### Part (d): Simple Data Visualization (Continued)\n",
    "\n",
    "Visualize two data attributes at a time,\n",
    "\n",
    "1. maternal age against birth weight\n",
    "2. maternal age against femur length\n",
    "3. birth weight against femur length\n",
    "\n",
    "using 2-D scatter plots.\n",
    "\n",
    "Compare your visual analysis with your analysis from Part (b) and (c)."
   ]
  },
  {
   "cell_type": "code",
   "execution_count": 5,
   "metadata": {
    "collapsed": false
   },
   "outputs": [
    {
     "data": {
      "text/plain": [
       "<matplotlib.collections.PathCollection at 0x103b476d0>"
      ]
     },
     "execution_count": 5,
     "metadata": {},
     "output_type": "execute_result"
    },
    {
     "data": {
      "image/png": "[encoded data removed]",
      "text/plain": [
       "<matplotlib.figure.Figure at 0x10d0fea50>"
      ]
     },
     "metadata": {},
     "output_type": "display_data"
    },
    {
     "data": {
      "image/png": "[encoded data removed]",
      "text/plain": [
       "<matplotlib.figure.Figure at 0x10d494910>"
      ]
     },
     "metadata": {},
     "output_type": "display_data"
    },
    {
     "data": {
      "image/png": "[encoded data removed]",
      "text/plain": [
       "<matplotlib.figure.Figure at 0x10d56e9d0>"
      ]
     },
     "metadata": {},
     "output_type": "display_data"
    }
   ],
   "source": [
    "# Plotting mother's age vs birth weight\n",
    "fig2 = plt.figure()\n",
    "ma_age_v_bw = fig2.add_subplot(111)\n",
    "ma_age_v_bw.scatter([data[:,0]], [data[:,2]])\n",
    "\n",
    "# Plotting maternal age vs. femur length\n",
    "fig3 = plt.figure()\n",
    "ma_age_v_fl = fig3.add_subplot(111)\n",
    "ma_age_v_fl.scatter([data[:,1]], [data[:,2]])\n",
    "\n",
    "# Plotting birth weight vs. femur length\n",
    "fig4 = plt.figure()\n",
    "ma_bw_v_fl = fig4.add_subplot(111)\n",
    "ma_bw_v_fl.scatter([data[:,0]], [data[:,1]])\n",
    "\n",
    "# Interesting... the first two plots look very similar. There is a large cluster of births to mothers\n",
    "# aged 15-17, which (at least visually) tend to plot lower in both birth weight and femur length, but\n",
    "# from what we saw earlier, we know that visual trends can be deceiving. The third plot, however,\n",
    "# seems to be much more trendy (shows a discernable trend, trendy... not Pokemon Go, trendy). There\n",
    "# appears to be a strong positive correlation between femur length and birth weight."
   ]
  },
  {
   "cell_type": "markdown",
   "metadata": {},
   "source": [
    "### Part (e): More Data Visualization\n",
    "\n",
    "Finally, we want to visualize the data by maternal age group. Plot the data again using a 3-D scatter plot, this time, color the points in the plot according to the age group of the mother (e.g. use red, blue, green to represent group I, II and III respectively).\n",
    "\n",
    "Compare your visual analysis with your analysis from Part (a) - (c)."
   ]
  },
  {
   "cell_type": "code",
   "execution_count": 6,
   "metadata": {
    "collapsed": false
   },
   "outputs": [
    {
     "data": {
      "text/plain": [
       "<mpl_toolkits.mplot3d.art3d.Path3DCollection at 0x110721a50>"
      ]
     },
     "execution_count": 6,
     "metadata": {},
     "output_type": "execute_result"
    },
    {
     "data": {
      "image/png": "[encoded data removed]",
      "text/plain": [
       "<matplotlib.figure.Figure at 0x10d0fef90>"
      ]
     },
     "metadata": {},
     "output_type": "display_data"
    }
   ],
   "source": [
    "# Let's do the 3d plot again, this time with color for each of the 3 groups\n",
    "fig3d_v2 = plt.figure()\n",
    "fig3d_v2 = fig3d_v2.add_subplot(111, projection='3d')\n",
    "fig3d_v2.scatter([group1[:,0]], [group1[:,1]], [group1[:,2]], c='red')\n",
    "fig3d_v2.scatter([group2[:,0]], [group2[:,1]], [group2[:,2]], c='green')\n",
    "fig3d_v2.scatter([group3[:,0]], [group3[:,1]], [group3[:,2]], c='orange')\n",
    "\n",
    "# Again, it's kind of hard to tell what's going on here, except to see that the data\n",
    "# is now in 3 bands for the 3 age groups."
   ]
  },
  {
   "cell_type": "markdown",
   "metadata": {},
   "source": [
    "## Problem 2: Processing Web Data\n",
    "\n",
    "In this problem we practice some basic web-scrapping using Beautiful Soup."
   ]
  },
  {
   "cell_type": "markdown",
   "metadata": {},
   "source": [
    "### Part (a): Opening and Reading Webpages\n",
    "\n",
    "Open and load the page (Kafka's The Metamorphosis) at \n",
    "\n",
    "$\\mathtt{http://www.gutenberg.org/files/5200/5200-h/5200-h.htm}$\n",
    "\n",
    "into a BeautifulSoup object. \n",
    "\n",
    "The object we obtain is a parse tree (a data structure representing all tags and relationship between tags) of the html file. To concretely visualize this object, print out the first 1000 characters of a representation of the parse tree using the $\\mathtt{prettify()}$ function."
   ]
  },
  {
   "cell_type": "code",
   "execution_count": 187,
   "metadata": {
    "collapsed": false
   },
   "outputs": [
    {
     "name": "stdout",
     "output_type": "stream",
     "text": [
      "<!DOCTYPE HTML PUBLIC \"-//W3C//DTD HTML 4.01 Transitional//EN\">\n",
      "<html>\n",
      " <head>\n",
      "  <title>\n",
      "   Metamorphosis by Franz Kafka\n",
      "  </title>\n",
      "  <meta content=\"text/html; charset=utf-8\" http-equiv=\"Content-Type\"/>\n",
      " </head>\n",
      " <body>\n",
      "  <pre>\r\n",
      "\r\n",
      "The Project Gutenberg EBook of Metamorphosis, by Franz Kafka\r\n",
      "Translated by David Wyllie.\r\n",
      "\r\n",
      "This eBook is for the use of anyone anywhere at no cost and with\r\n",
      "almost no restrictions whatsoever.  You may copy it, give it away or\r\n",
      "re-use it under the terms of the Project Gutenberg License included\r\n",
      "with this eBook or online at www.gutenberg.net\r\n",
      "\r\n",
      "** This is a COPYRIGHTED Project Gutenberg eBook, Details Below **\r\n",
      "**     Please follow the copyright guidelines in this file.     **\r\n",
      "\r\n",
      "\r\n",
      "Title: Metamorphosis\r\n",
      "\r\n",
      "Author: Franz Kafka\r\n",
      "\r\n",
      "Translator: David Wyllie\r\n",
      "\r\n",
      "Release Date: August 16, 2005 [EBook #5200]\r\n",
      "First posted: May 13, 2002\r\n",
      "Last updated: May 20, 2012\r\n",
      "\r\n",
      "Language: English\r\n",
      "\r\n",
      "Character set encoding: ISO-8859-1\r\n",
      "\r\n",
      "*** START OF THIS PROJECT GUTENBERG EBOOK ME\n"
     ]
    }
   ],
   "source": [
    "# Now for some webscraping\n",
    "\n",
    "# Let's load a webpage...\n",
    "page = urllib.urlopen(\"http://www.gutenberg.org/files/5200/5200-h/5200-h.htm\").read()\n",
    "\n",
    "# plunk it into a Beautiful Soup object,\n",
    "kafkaesque = BeautifulSoup(page, \"lxml\")\n",
    "\n",
    "# and print the first 1000 characters\n",
    "print kafkaesque.prettify()[0:1000]"
   ]
  },
  {
   "cell_type": "markdown",
   "metadata": {},
   "source": [
    "### Part (b): Exploring the Parsed HTML\n",
    "\n",
    "Explore the nested data structure you obtain in Part (a) by printing out the following:\n",
    "\n",
    "1. the content of the head tag\n",
    "2. the text of the head tag\n",
    "3. each child of the head tag\n",
    "2. the text of the title tag\n",
    "3. the text of the preamble (pre) tag\n",
    "4. the text of the first paragraph (p) tag"
   ]
  },
  {
   "cell_type": "code",
   "execution_count": 189,
   "metadata": {
    "collapsed": false
   },
   "outputs": [
    {
     "name": "stdout",
     "output_type": "stream",
     "text": [
      "The Head contents are:\n",
      "[u'\\n', <title>Metamorphosis by Franz Kafka</title>, u'\\n', <meta content=\"text/html; charset=unicode-escape\" http-equiv=\"Content-Type\"/>, u'\\n']\n",
      "The head text is:\n",
      "<head>\n",
      "<title>Metamorphosis by Franz Kafka</title>\n",
      "<meta content=\"text/html; charset=utf-8\" http-equiv=\"Content-Type\"/>\n",
      "</head>\n",
      "Here is the text of each child of the head tag:\n",
      "None\n",
      "title\n",
      "None\n",
      "meta\n",
      "None\n",
      "The Title is:\n",
      "Metamorphosis by Franz Kafka\n",
      "The 'pre' tags contain:\n",
      "\r\n",
      "\r\n",
      "The Project Gutenberg EBook of Metamorphosis, by Franz Kafka\r\n",
      "Translated by David Wyllie.\r\n",
      "\r\n",
      "This eBook is for the use of anyone anywhere at no cost and with\r\n",
      "almost no restrictions whatsoever.  You may copy it, give it away or\r\n",
      "re-use it under the terms of the Project Gutenberg License included\r\n",
      "with this eBook or online at www.gutenberg.net\r\n",
      "\r\n",
      "** This is a COPYRIGHTED Project Gutenberg eBook, Details Below **\r\n",
      "**     Please follow the copyright guidelines in this file.     **\r\n",
      "\r\n",
      "\r\n",
      "Title: Metamorphosis\r\n",
      "\r\n",
      "Author: Franz Kafka\r\n",
      "\r\n",
      "Translator: David Wyllie\r\n",
      "\r\n",
      "Release Date: August 16, 2005 [EBook #5200]\r\n",
      "First posted: May 13, 2002\r\n",
      "Last updated: May 20, 2012\r\n",
      "\r\n",
      "Language: English\r\n",
      "\r\n",
      "Character set encoding: ISO-8859-1\r\n",
      "\r\n",
      "*** START OF THIS PROJECT GUTENBERG EBOOK METAMORPHOSIS ***\r\n",
      "\r\n",
      "\r\n",
      "\r\n",
      "\r\n",
      "\r\n",
      "\r\n",
      "Copyright (C) 2002 by David Wyllie.\r\n",
      "\r\n",
      "\r\n",
      "\n",
      "The first p tag says:\n",
      "One morning, when Gregor Samsa woke from troubled dreams, he found\r\n",
      "himself transformed in his bed into a horrible vermin.  He lay on\r\n",
      "his armour-like back, and if he lifted his head a little he could\r\n",
      "see his brown belly, slightly domed and divided by arches into stiff\r\n",
      "sections.  The bedding was hardly able to cover it and seemed ready\r\n",
      "to slide off any moment.  His many legs, pitifully thin compared\r\n",
      "with the size of the rest of him, waved about helplessly as he\r\n",
      "looked.\n"
     ]
    }
   ],
   "source": [
    "# HW0.2b.1\n",
    "print \"The Head contents are:\"\n",
    "print kafkaesque.head.contents\n",
    "\n",
    "# HW0.2b.2\n",
    "print \"The head text is:\"\n",
    "print kafkaesque.head\n",
    "\n",
    "# HW0.2b.3\n",
    "print \"Here is the text of each child of the head tag:\"\n",
    "for tag in kafkaesque.head.children:\n",
    "    print tag.name\n",
    "\n",
    "# HW0.2b.4\n",
    "print \"The Title is:\"\n",
    "print kafkaesque.title.string\n",
    "\n",
    "# HW0.2b.5\n",
    "print \"The 'pre' tags contain:\"\n",
    "print kafkaesque.pre.string\n",
    "\n",
    "# HW0.2b.6\n",
    "print \"The first p tag says:\"\n",
    "print kafkaesque.p.string"
   ]
  },
  {
   "cell_type": "markdown",
   "metadata": {},
   "source": [
    "### Part (c): Extracting Text\n",
    "\n",
    "Now we want to extract the text of The Metamorphosis and do some simple analysis. Beautiful Soup provides a way to extract all text from a webpage via the $\\mathtt{get}$_$\\mathtt{text()}$ function. \n",
    "\n",
    "Print the first and last 5000 characters of the text returned by $\\mathtt{get}$_$\\mathtt{text()}$. Is this the content of the novela? Where is the content of The Metamorphosis stored in the BeautifulSoup object?"
   ]
  },
  {
   "cell_type": "code",
   "execution_count": 190,
   "metadata": {
    "collapsed": false
   },
   "outputs": [
    {
     "name": "stdout",
     "output_type": "stream",
     "text": [
      "\n",
      "\n",
      "Metamorphosis by Franz Kafka\n",
      "\n",
      "\n",
      "\n",
      "\r\n",
      "\r\n",
      "The Project Gutenberg EBook of Metamorphosis, by Franz Kafka\r\n",
      "Translated by David Wyllie.\r\n",
      "\r\n",
      "This eBook is for the use of anyone anywhere at no cost and with\r\n",
      "almost no restrictions whatsoever.  You may copy it, give it away or\r\n",
      "re-use it under the terms of the Project Gutenberg License included\r\n",
      "with this eBook or online at www.gutenberg.net\r\n",
      "\r\n",
      "** This is a COPYRIGHTED Project Gutenberg eBook, Details Below **\r\n",
      "**     Please follow the copyright guidelines in this file.     **\r\n",
      "\r\n",
      "\r\n",
      "Title: Metamorphosis\r\n",
      "\r\n",
      "Author: Franz Kafka\r\n",
      "\r\n",
      "Translator: David Wyllie\r\n",
      "\r\n",
      "Release Date: August 16, 2005 [EBook #5200]\r\n",
      "First posted: May 13, 2002\r\n",
      "Last updated: May 20, 2012\r\n",
      "\r\n",
      "Language: English\r\n",
      "\r\n",
      "Character set encoding: ISO-8859-1\r\n",
      "\r\n",
      "*** START OF THIS PROJECT GUTENBERG EBOOK METAMORPHOSIS ***\r\n",
      "\r\n",
      "\r\n",
      "\r\n",
      "\r\n",
      "\r\n",
      "\r\n",
      "Copyright (C) 2002 by David Wyllie.\r\n",
      "\r\n",
      "\r\n",
      "\n",
      "\r\n",
      "  Metamorphosis\r\n",
      "  Franz Kafka\n",
      "Translated by David Wyllie\n",
      "I\n",
      "One morning, when Gregor Samsa woke from troubled dreams, he found\r\n",
      "himself transformed in his bed into a horrible vermin.  He lay on\r\n",
      "his armour-like back, and if he lifted his head a little he could\r\n",
      "see his brown belly, slightly domed and divided by arches into stiff\r\n",
      "sections.  The bedding was hardly able to cover it and seemed ready\r\n",
      "to slide off any moment.  His many legs, pitifully thin compared\r\n",
      "with the size of the rest of him, waved about helplessly as he\r\n",
      "looked.\n",
      "\"What's happened to me?\" he thought.  It wasn't a dream.  His room,\r\n",
      "a proper human room although a little too small, lay peacefully\r\n",
      "between its four familiar walls.  A collection of textile samples\r\n",
      "lay spread out on the table - Samsa was a travelling salesman - and\r\n",
      "above it there hung a picture that he had recently cut out of an\r\n",
      "illustrated magazine and housed in a nice, gilded frame.  It showed\r\n",
      "a lady fitted out with a fur hat and fur boa who sat upright,\r\n",
      "raising a heavy fur muff that covered the whole of her lower arm\r\n",
      "towards the viewer.\n",
      "Gregor then turned to look out the window at the dull weather.\r\n",
      "Drops of rain could be heard hitting the pane, which made him feel\r\n",
      "quite sad.  \"How about if I sleep a little bit longer and forget all\r\n",
      "this nonsense\", he thought, but that was something he was unable to\r\n",
      "do because he was used to sleeping on his right, and in his present\r\n",
      "state couldn't get into that position.  However hard he threw\r\n",
      "himself onto his right, he always rolled back to where he was.  He\r\n",
      "must have tried it a hundred times, shut his eyes so that he\r\n",
      "wouldn't have to look at the floundering legs, and only stopped when\r\n",
      "he began to feel a mild, dull pain there that he had never felt\r\n",
      "before.\n",
      "\"Oh, God\", he thought, \"what a strenuous career it is that I've\r\n",
      "chosen! Travelling day in and day out.  Doing business like this\r\n",
      "takes much more effort than doing your own business at home, and on\r\n",
      "top of that there's the curse of travelling, worries about making\r\n",
      "train connections, bad and irregular food, contact with different\r\n",
      "people all the time so that you can never get to know anyone or\r\n",
      "become friendly with them.  It can all go to Hell!\"  He felt a\r\n",
      "slight itch up on his belly; pushed himself slowly up on his back\r\n",
      "towards the headboard so that he could lift his head better; found\r\n",
      "where the itch was, and saw that it was covered with lots of little\r\n",
      "white spots which he didn't know what to make of; and when he tried\r\n",
      "to feel the place with one of his legs he drew it quickly back\r\n",
      "because as soon as he touched it he was overcome by a cold shudder.\n",
      "He slid back into his former position.  \"Getting up early all the\r\n",
      "time\", he thought, \"it makes you stupid.  You've got to get enough\r\n",
      "sleep.  Other travelling salesmen live a life of luxury.  For\r\n",
      "instance, whenever I go back to the guest house during the morning\r\n",
      "to copy out the contract, these gentlemen are always still sitting\r\n",
      "there eating their breakfasts.  I ought to just try that with my\r\n",
      "boss; I'd get kicked out on the spot.  But who knows, maybe that\r\n",
      "would be the best thing for me.  If I didn't have my parents to\r\n",
      "think about I'd have given in my notice a long time ago, I'd have\r\n",
      "gone up to the boss and told him just what I think, tell him\r\n",
      "everything I would, let him know just what I feel.  He'd fall right\r\n",
      "off his desk! And it's a funny sort of business to be sitting up\r\n",
      "there at your desk, talking down at your subordinates from up there,\r\n",
      "especially when you have to go right up close because the boss is\r\n",
      "hard of hearing.  Well, there's still some hope; once I've got the\r\n",
      "money together to pay off my parents' debt to him - another five or\r\n",
      "six years I suppose - that's definitely what I'll do.  That's when\r\n",
      "I'll make the big change.  First of all though, I've got to get up,\r\n",
      "my train leaves at five.\"\n",
      "And he looked over at the alarm clock, ticking on the chest of\r\n",
      "drawers.  \"God in Heaven!\" he thought.  It was half past six and the\r\n",
      "hands were quietly moving forwards, it was even later than half\r\n",
      "past, more like quarter to seven.  Had the alarm clo\n",
      "\n",
      "Project Gutenberg-tm work, and (c) any Defect you cause.\r\n",
      "\r\n",
      "\r\n",
      "Section  2.  Information about the Mission of Project Gutenberg-tm\r\n",
      "\r\n",
      "Project Gutenberg-tm is synonymous with the free distribution of\r\n",
      "electronic works in formats readable by the widest variety of computers\r\n",
      "including obsolete, old, middle-aged and new computers.  It exists\r\n",
      "because of the efforts of hundreds of volunteers and donations from\r\n",
      "people in all walks of life.\r\n",
      "\r\n",
      "Volunteers and financial support to provide volunteers with the\r\n",
      "assistance they need, is critical to reaching Project Gutenberg-tm's\r\n",
      "goals and ensuring that the Project Gutenberg-tm collection will\r\n",
      "remain freely available for generations to come.  In 2001, the Project\r\n",
      "Gutenberg Literary Archive Foundation was created to provide a secure\r\n",
      "and permanent future for Project Gutenberg-tm and future generations.\r\n",
      "To learn more about the Project Gutenberg Literary Archive Foundation\r\n",
      "and how your efforts and donations can help, see Sections 3 and 4\r\n",
      "and the Foundation web page at http://www.pglaf.org.\r\n",
      "\r\n",
      "\r\n",
      "Section 3.  Information about the Project Gutenberg Literary Archive\r\n",
      "Foundation\r\n",
      "\r\n",
      "The Project Gutenberg Literary Archive Foundation is a non profit\r\n",
      "501(c)(3) educational corporation organized under the laws of the\r\n",
      "state of Mississippi and granted tax exempt status by the Internal\r\n",
      "Revenue Service.  The Foundation's EIN or federal tax identification\r\n",
      "number is 64-6221541.  Its 501(c)(3) letter is posted at\r\n",
      "http://pglaf.org/fundraising.  Contributions to the Project Gutenberg\r\n",
      "Literary Archive Foundation are tax deductible to the full extent\r\n",
      "permitted by U.S. federal laws and your state's laws.\r\n",
      "\r\n",
      "The Foundation's principal office is located at 4557 Melan Dr. S.\r\n",
      "Fairbanks, AK, 99712., but its volunteers and employees are scattered\r\n",
      "throughout numerous locations.  Its business office is located at\r\n",
      "809 North 1500 West, Salt Lake City, UT 84116, (801) 596-1887, email\r\n",
      "business@pglaf.org.  Email contact links and up to date contact\r\n",
      "information can be found at the Foundation's web site and official\r\n",
      "page at http://pglaf.org\r\n",
      "\r\n",
      "For additional contact information:\r\n",
      "     Dr. Gregory B. Newby\r\n",
      "     Chief Executive and Director\r\n",
      "     gbnewby@pglaf.org\r\n",
      "\r\n",
      "Section 4.  Information about Donations to the Project Gutenberg\r\n",
      "Literary Archive Foundation\r\n",
      "\r\n",
      "Project Gutenberg-tm depends upon and cannot survive without wide\r\n",
      "spread public support and donations to carry out its mission of\r\n",
      "increasing the number of public domain and licensed works that can be\r\n",
      "freely distributed in machine readable form accessible by the widest\r\n",
      "array of equipment including outdated equipment.  Many small donations\r\n",
      "($1 to $5,000) are particularly important to maintaining tax exempt\r\n",
      "status with the IRS.\r\n",
      "\r\n",
      "The Foundation is committed to complying with the laws regulating\r\n",
      "charities and charitable donations in all 50 states of the United\r\n",
      "States.  Compliance requirements are not uniform and it takes a\r\n",
      "considerable effort, much paperwork and many fees to meet and keep up\r\n",
      "with these requirements.  We do not solicit donations in locations\r\n",
      "where we have not received written confirmation of compliance.  To\r\n",
      "SEND DONATIONS or determine the status of compliance for any\r\n",
      "particular state visit http://pglaf.org\r\n",
      "\r\n",
      "While we cannot and do not solicit contributions from states where we\r\n",
      "have not met the solicitation requirements, we know of no prohibition\r\n",
      "against accepting unsolicited donations from donors in such states who\r\n",
      "approach us with offers to donate.\r\n",
      "\r\n",
      "International donations are gratefully accepted, but we cannot make\r\n",
      "any statements concerning tax treatment of donations received from\r\n",
      "outside the United States.  U.S. laws alone swamp our small staff.\r\n",
      "\r\n",
      "Please check the Project Gutenberg Web pages for current donation\r\n",
      "methods and addresses.  Donations are accepted in a number of other\r\n",
      "ways including including checks, online payments and credit card\r\n",
      "donations.  To donate, please visit: http://pglaf.org/donate\r\n",
      "\r\n",
      "\r\n",
      "Section 5.  General Information About Project Gutenberg-tm electronic\r\n",
      "works.\r\n",
      "\r\n",
      "Professor Michael S. Hart is the originator of the Project Gutenberg-tm\r\n",
      "concept of a library of electronic works that could be freely shared\r\n",
      "with anyone.  For thirty years, he produced and distributed Project\r\n",
      "Gutenberg-tm eBooks with only a loose network of volunteer support.\r\n",
      "\r\n",
      "Project Gutenberg-tm eBooks are often created from several printed\r\n",
      "editions, all of which are confirmed as Public Domain in the U.S.\r\n",
      "unless a copyright notice is included.  Thus, we do not necessarily\r\n",
      "keep eBooks in compliance with any particular paper edition.\r\n",
      "\r\n",
      "Most people start at our Web site which has the main PG search facility:\r\n",
      "\r\n",
      "http://www.gutenberg.net\r\n",
      "\r\n",
      "This Web site includes information about Project Gutenberg-tm,\r\n",
      "including how to make donations to the Project Gutenberg Literary\r\n",
      "Archive Foundation, how to help produce our new eBooks, and how to\r\n",
      "subscribe to our email newsletter to hear about new eBooks.\r\n",
      "\r\n",
      "\r\n",
      "\r\n",
      "\n",
      "\n",
      "\n",
      "\n"
     ]
    }
   ],
   "source": [
    "# Printing the first and last 5000 characters of the webpage\n",
    "print kafkaesque.get_text()[:5000]\n",
    "print kafkaesque.get_text()[-5000:]\n",
    "\n",
    "# Unfortunately, this doesn't look like the actual beginning and end of the text. This is the title of the\n",
    "# webpage plus the beginning and end of what actually shows on the webpage. The content of the book is\n",
    "# stored inside the \"body\" HTML-tag of the page."
   ]
  },
  {
   "cell_type": "markdown",
   "metadata": {},
   "source": [
    "### Part (d): Extracting Text (Continued)\n",
    "\n",
    "Using the $\\mathtt{find}$_$\\mathtt{all()}$ function, extract the text of all $\\mathtt{p}$ tags and concatenate the result into a single string. Print out the first 1000 characters of the string as a sanity check."
   ]
  },
  {
   "cell_type": "code",
   "execution_count": 191,
   "metadata": {
    "collapsed": false
   },
   "outputs": [
    {
     "name": "stdout",
     "output_type": "stream",
     "text": [
      "One morning, when Gregor Samsa woke from troubled dreams, he found\r\n",
      "himself transformed in his bed into a horrible vermin.  He lay on\r\n",
      "his armour-like back, and if he lifted his head a little he could\r\n",
      "see his brown belly, slightly domed and divided by arches into stiff\r\n",
      "sections.  The bedding was hardly able to cover it and seemed ready\r\n",
      "to slide off any moment.  His many legs, pitifully thin compared\r\n",
      "with the size of the rest of him, waved about helplessly as he\r\n",
      "looked.\"What's happened to me?\" he thought.  It wasn't a dream.  His room,\r\n",
      "a proper human room although a little too small, lay peacefully\r\n",
      "between its four familiar walls.  A collection of textile samples\r\n",
      "lay spread out on the table - Samsa was a travelling salesman - and\r\n",
      "above it there hung a picture that he had recently cut out of an\r\n",
      "illustrated magazine and housed in a nice, gilded frame.  It showed\r\n",
      "a lady fitted out with a fur hat and fur boa who sat upright,\r\n",
      "raising a heavy fur muff that covered the whole of her\n"
     ]
    }
   ],
   "source": [
    "# using find_all to extract the p-tags\n",
    "p_string = kafkaesque.find_all('p')\n",
    "text_string = ''\n",
    "\n",
    "# loop through each iteration of the p tag and append it to 'text_string'\n",
    "for each in p_string:\n",
    "    text_string += each.string\n",
    "\n",
    "# and printing the first 1000 chars\n",
    "print text_string[:1000]\n"
   ]
  },
  {
   "cell_type": "markdown",
   "metadata": {},
   "source": [
    "### Part (e): Sentence and Word Count\n",
    "\n",
    "Count the number of words in The Metamorphosis. Compute the average word length and plot a histogram of word lengths.\n",
    "\n",
    "Count the number of sentences in The Metamorphosis. Compute the average sentence length and plot a histogram of sentence lengths.\n",
    "\n",
    "**Hint**: You'll need to pre-process the text in order to obtain the correct word/sentence length and count. "
   ]
  },
  {
   "cell_type": "code",
   "execution_count": 192,
   "metadata": {
    "collapsed": false
   },
   "outputs": [
    {
     "name": "stdout",
     "output_type": "stream",
     "text": [
      "21991 is the word count.\n",
      "21991 is still the word count.\n",
      "4.38233822928 is the average word length.\n",
      "738 is the sentence count.\n",
      "738 is still the sentence count.\n",
      "162.555555556 is the average sentence length.\n",
      "A histogram of word and sentence lengths looks like this:\n"
     ]
    },
    {
     "data": {
      "text/plain": [
       "(array([ 199.,  283.,  146.,   64.,   20.,   13.,    5.,    4.,    2.,    2.]),\n",
       " array([   0. ,   87.3,  174.6,  261.9,  349.2,  436.5,  523.8,  611.1,\n",
       "         698.4,  785.7,  873. ]),\n",
       " <a list of 10 Patch objects>)"
      ]
     },
     "execution_count": 192,
     "metadata": {},
     "output_type": "execute_result"
    },
    {
     "data": {
      "image/png": "[encoded data removed]",
      "text/plain": [
       "<matplotlib.figure.Figure at 0x10f7d2e90>"
      ]
     },
     "metadata": {},
     "output_type": "display_data"
    },
    {
     "data": {
      "image/png": "[encoded data removed]",
      "text/plain": [
       "<matplotlib.figure.Figure at 0x112a50a90>"
      ]
     },
     "metadata": {},
     "output_type": "display_data"
    }
   ],
   "source": [
    "# We're gonna create a new list and put each word of the novella as a separate index in that list\n",
    "print len(text_string.split()), \"is the word count.\" #sanity check\n",
    "kafka_list= []\n",
    "for each in text_string.split():\n",
    "    kafka_list.append(each)\n",
    "\n",
    "# and we'll print the length of that list, which gives us the word count of the novella\n",
    "print len(kafka_list), \"is still the word count.\"\n",
    "\n",
    "# initialize some variables\n",
    "word_length = []\n",
    "word_length_tot = 0.00\n",
    "\n",
    "# then loop through and create a list of word lengths to graph later, and a total word count\n",
    "for each in kafka_list:\n",
    "    word_length_tot += len(each)\n",
    "    word_length.append(len(each))\n",
    "    \n",
    "# this will print the average word length\n",
    "print word_length_tot/len(kafka_list), \"is the average word length.\"\n",
    "\n",
    "# and we'll plot a histogram of the word length list\n",
    "word_fig = plt.figure()\n",
    "word_length_fig = word_fig.add_subplot(111)\n",
    "word_length_fig.hist(word_length)\n",
    "\n",
    "# And now to do the same code blocks for sentence lengths\n",
    "print len(text_string.split('.')), \"is the sentence count.\" #sanity check\n",
    "sentence_list= []\n",
    "for each in text_string.split('.'):\n",
    "    sentence_list.append(each)\n",
    "print len(sentence_list), \"is still the sentence count.\"\n",
    "sentence_length = []\n",
    "sentence_length_tot = 0.00\n",
    "for each in sentence_list:\n",
    "    sentence_length_tot += len(each)\n",
    "    sentence_length.append(len(each))\n",
    "print sentence_length_tot/len(sentence_list), \"is the average sentence length.\"\n",
    "# and plot...\n",
    "sentence_fig = plt.figure()\n",
    "sentence_length_fig = sentence_fig.add_subplot(111)\n",
    "print \"A histogram of word and sentence lengths looks like this:\"\n",
    "sentence_length_fig.hist(sentence_length)"
   ]
  },
  {
   "cell_type": "markdown",
   "metadata": {},
   "source": [
    "## Problem 3: Data from Simulations\n",
    "\n",
    "In this problem we practice generating data by setting up a simulation of a simple phenomenon, a queue. \n",
    "\n",
    "Suppose we're interested in simulating a queue that forms in front of a small Bank of America branch with one teller, where the customers arrive one at a time.\n",
    "\n",
    "We want to study the queue length and customer waiting time."
   ]
  },
  {
   "cell_type": "markdown",
   "metadata": {},
   "source": [
    "### Part (a): Simulating Arrival and Service Time\n",
    "\n",
    "Assume that gaps between consecutive arrivals are uniformly distributed over the interval of 1 to 20 minutes (i.e. any two times between 1 minute and 6 minutes are equally likely). \n",
    "\n",
    "Assume that the service times are uniform over the interval of 5 to 15 minutes. \n",
    "\n",
    "Generate the arrival and service times for 100 customers, using the $\\mathtt{uniform()}$ function from the $\\mathtt{random}$ library."
   ]
  },
  {
   "cell_type": "code",
   "execution_count": 104,
   "metadata": {
    "collapsed": false
   },
   "outputs": [],
   "source": [
    "# This function will generate a list of 100 arrival intervals\n",
    "def arr_generator():\n",
    "    arrival_intervals = []\n",
    "    arr_interval = 0\n",
    "\n",
    "    for foo in range(100):\n",
    "        arr_interval = np.random.randint(1,21)\n",
    "        arrival_intervals.append(arr_interval)\n",
    "        \n",
    "    return arrival_intervals\n",
    "\n",
    "# This function will generate a list of 100 service intervals\n",
    "def serv_generator():\n",
    "    service_intervals = []\n",
    "    serv_interval = 0\n",
    "    \n",
    "    for foo in range(100):\n",
    "        serv_interval = np.random.randint(5,16)\n",
    "        service_intervals.append(serv_interval)\n",
    "    \n",
    "    return service_intervals\n",
    "\n",
    "### debug ###\n",
    "#    print arrival_intervals\n",
    "#    print service_intervals"
   ]
  },
  {
   "cell_type": "markdown",
   "metadata": {},
   "source": [
    "### Part (b): Simulating the Queue\n",
    "\n",
    "Write function that computes the average queue length and the average customer wait time, given the arrival times and the service times."
   ]
  },
  {
   "cell_type": "code",
   "execution_count": 193,
   "metadata": {
    "collapsed": false,
    "scrolled": true
   },
   "outputs": [
    {
     "data": {
      "text/plain": [
       "(3, 1)"
      ]
     },
     "execution_count": 193,
     "metadata": {},
     "output_type": "execute_result"
    }
   ],
   "source": [
    "def simulation():\n",
    "    \n",
    "# Initialize our variables...\n",
    "    service_intervals = serv_generator()\n",
    "    arrival_intervals = arr_generator()\n",
    "    queue = []\n",
    "    time = 0\n",
    "    wait_times = [0]\n",
    "    queue_len = []\n",
    "    customer_counter = 0\n",
    "    serv_counter = 0\n",
    "    arr_time = 0\n",
    "    waiting = 0.0\n",
    "    length = 0.0\n",
    "    last_serv = arrival_intervals[0]\n",
    "    \n",
    "# These next few initializations are for debugging\n",
    "#    service_intervals = [5, 14, 9, 9, 9, 13, 6, 6, 8, 11]\n",
    "#    arrival_intervals = [5, 5, 17, 10, 17, 10, 1, 8, 7, 10]\n",
    "#    print arrival_intervals\n",
    "#    print service_intervals\n",
    "\n",
    "# For the list we have, we're going to iterate over each of our list items\n",
    "    while serv_counter < len(service_intervals):\n",
    "\n",
    "# This block is what we do when we still have list items, and a customer arrives\n",
    "        if customer_counter < len(arrival_intervals):\n",
    "            if time == arr_time + arrival_intervals[customer_counter]:\n",
    "                \n",
    "# We'll add their arrival time to the time tracker, append their arrival time to the queue, update the average \n",
    "# queue length list and iterate the customer number.\n",
    "                arr_time += arrival_intervals[customer_counter]\n",
    "                if len(queue) == 0: # just in case the queue is empty, we need to reset the last_served variable\n",
    "                    last_serv = time\n",
    "                queue.append(arr_time)\n",
    "                queue_len.append(len(queue))\n",
    "                customer_counter += 1\n",
    "                \n",
    "# This block is what we do when we still have list items, and a customer's service is complete\n",
    "# Make sure there's still someone in the queue and check that it's time for a completed service        \n",
    "        if len(queue) > 0: \n",
    "            if time == last_serv + service_intervals[serv_counter]: \n",
    "                \n",
    "                # append the wait time if appropriate, or add 0 if there's nobody in the queue\n",
    "                if len(queue) == 1:\n",
    "                    wait_times.append(0)\n",
    "                else:\n",
    "                    wait_times.append(time - arr_time)\n",
    "                \n",
    "                queue.pop(0) # pop them out of the queue\n",
    "                last_serv = time # increase the last_serv variable\n",
    "                serv_counter += 1 # iterate the service counter\n",
    "                \n",
    "\n",
    "### Debugging Statements ###        \n",
    "#        print \"At minute\", time, \"there is/are\", len(queue), \"people in line.\"\n",
    "#        print queue\n",
    "#        print wait_times\n",
    "#        print queue_len\n",
    "#        print serv_counter\n",
    "\n",
    "        time += 1 #iterate the time counter\n",
    "\n",
    "# This group of statements is the post-processing to calculate avg wait time and queue length\n",
    "    wait_times.pop(-1) # The code above will add an extra 0 at the end of the wait times... we just need to nix that\n",
    "    waiting = sum(wait_times) / len(wait_times)\n",
    "    length = sum(queue_len) / len(queue_len)\n",
    "\n",
    "#    print \"The average wait time is\", waiting, \"minutes.\"\n",
    "#    print \"The average queue length when a new person joins is\", length/len(queue_len), \"people.\"\n",
    "#    print \"*** The queue length is inclusive of the person joining and the person currently being served ***\"\n",
    "    return waiting, length\n",
    "\n",
    "simulation()"
   ]
  },
  {
   "cell_type": "markdown",
   "metadata": {},
   "source": [
    "### Part (c): Average Queue Length and Wait Time\n",
    "\n",
    "Run your simulation 500 times and report the mean and std of the average wait time and queue length for 100 customers. What do these statistics mean?\n",
    "\n",
    "Explain why is isn't sufficient to run our simulation **once** and report the average wait time/queue length we obtain."
   ]
  },
  {
   "cell_type": "code",
   "execution_count": 202,
   "metadata": {
    "collapsed": false
   },
   "outputs": [
    {
     "name": "stdout",
     "output_type": "stream",
     "text": [
      "2.676 is the mean of the wait times\n",
      "1.59217586968 is the standard deviation of the wait times\n",
      "1.664 is the mean of the queue lengths\n",
      "0.781731411675 is the standard deviation of the queue lengths\n"
     ]
    }
   ],
   "source": [
    "### The following three functions are from the statistics module of Python 3.4 ###\n",
    "def mean(data):\n",
    "    \"\"\"Return the sample arithmetic mean of data.\"\"\"\n",
    "    n = len(data)\n",
    "    return sum(data)/float(n)\n",
    "\n",
    "def _ss(data):\n",
    "    \"\"\"Return sum of square deviations of sequence data.\"\"\"\n",
    "    c = mean(data)\n",
    "    ss = sum((x-c)**2 for x in data)\n",
    "    return ss\n",
    "\n",
    "def pstdev(data):\n",
    "    \"\"\"Calculates the population standard deviation.\"\"\"\n",
    "    n = len(data)\n",
    "    if n < 2:\n",
    "        raise ValueError('variance requires at least two data points')\n",
    "    ss = _ss(data)\n",
    "    pvar = ss/n # the population variance\n",
    "    return pvar**0.5\n",
    "\n",
    "### Initialize variables ###\n",
    "function_wait = []\n",
    "function_queue = []\n",
    "f1 = 0\n",
    "f2 = 0\n",
    "wait = 0\n",
    "queue = 0\n",
    "\n",
    "# and just run it 500 times, appending the results into a list\n",
    "for i in range(500):\n",
    "    f1, f2 = simulation()\n",
    "    function_wait.append(f1)\n",
    "    function_queue.append(f2)\n",
    "    \n",
    "# We'll then print the means and stdev of those two lists\n",
    "print mean(function_wait), \"is the mean of the wait times\"\n",
    "print pstdev(function_wait), \"is the standard deviation of the wait times\"\n",
    "print mean(function_queue), \"is the mean of the queue lengths\"\n",
    "print pstdev(function_queue), \"is the standard deviation of the queue lengths\"\n",
    "\n",
    "# The mean is just the average of the list. The standard deviation is essentially the average difference an observation\n",
    "# can be expected to have from the average. We need to run this simulation a bunch of times to achieve statistical\n",
    "# significance. We may get 6 for the wait time mean of a single trial, but the mean in this case, over 500 is 2.676."
   ]
  },
  {
   "cell_type": "markdown",
   "metadata": {},
   "source": [
    "## Problem 4 (Challenge Problem): More Web Scrapping\n",
    "\n",
    "In this problem we practice extracting tabular web data. Open and read the webpage at\n",
    "\n",
    "$\\mathtt{http://www.thisismoney.co.uk/money/news/article-2928285/Economy-tables-GDP-rates-inflation-history-unemployment.html}$\n",
    "\n",
    "Extract the Inflation History table and load it into a numpy array.\n",
    "\n",
    "Generate a line graph representing the trend of consumer price index vs time (in months)."
   ]
  },
  {
   "cell_type": "code",
   "execution_count": 235,
   "metadata": {
    "collapsed": false,
    "scrolled": false
   },
   "outputs": [
    {
     "name": "stdout",
     "output_type": "stream",
     "text": [
      "130\n"
     ]
    },
    {
     "ename": "ValueError",
     "evalue": "invalid literal for int() with base 10: 'Jul-16'",
     "output_type": "error",
     "traceback": [
      "\u001b[0;31m---------------------------------------------------------------------------\u001b[0m",
      "\u001b[0;31mValueError\u001b[0m                                Traceback (most recent call last)",
      "\u001b[0;32m<ipython-input-235-399459abc12b>\u001b[0m in \u001b[0;36m<module>\u001b[0;34m()\u001b[0m\n\u001b[1;32m     49\u001b[0m \u001b[0;31m# These next two blocks clean the list and turn it into data that can be\u001b[0m\u001b[0;34m\u001b[0m\u001b[0;34m\u001b[0m\u001b[0m\n\u001b[1;32m     50\u001b[0m \u001b[0;32mfor\u001b[0m \u001b[0mitem\u001b[0m \u001b[0;32min\u001b[0m \u001b[0mmonths\u001b[0m\u001b[0;34m:\u001b[0m\u001b[0;34m\u001b[0m\u001b[0m\n\u001b[0;32m---> 51\u001b[0;31m     \u001b[0mclean_months\u001b[0m\u001b[0;34m.\u001b[0m\u001b[0mappend\u001b[0m\u001b[0;34m(\u001b[0m\u001b[0mint\u001b[0m\u001b[0;34m(\u001b[0m\u001b[0mitem\u001b[0m\u001b[0;34m)\u001b[0m\u001b[0;34m)\u001b[0m\u001b[0;34m\u001b[0m\u001b[0m\n\u001b[0m\u001b[1;32m     52\u001b[0m \u001b[0;32mfor\u001b[0m \u001b[0mitem\u001b[0m \u001b[0;32min\u001b[0m \u001b[0minf_list\u001b[0m\u001b[0;34m:\u001b[0m\u001b[0;34m\u001b[0m\u001b[0m\n\u001b[1;32m     53\u001b[0m     \u001b[0mclean_inf_list\u001b[0m\u001b[0;34m.\u001b[0m\u001b[0mappend\u001b[0m\u001b[0;34m(\u001b[0m\u001b[0mfloat\u001b[0m\u001b[0;34m(\u001b[0m\u001b[0mitem\u001b[0m\u001b[0;34m)\u001b[0m\u001b[0;34m)\u001b[0m\u001b[0;34m\u001b[0m\u001b[0m\n",
      "\u001b[0;31mValueError\u001b[0m: invalid literal for int() with base 10: 'Jul-16'"
     ]
    }
   ],
   "source": [
    "from datetime import datetime\n",
    "\n",
    "# Let's load a webpage...\n",
    "page = urllib.urlopen(\"http://www.thisismoney.co.uk/money/news/article-2928285/Economy-tables-GDP-rates_inflation_history-unemployment.html\").read()\n",
    "\n",
    "# plunk it into a Beautiful Soup object,\n",
    "inflation = BeautifulSoup(page, \"lxml\")\n",
    "\n",
    "# Make a list of all our table tags\n",
    "table_list = inflation.find_all('table')\n",
    "\n",
    "# Our 4th table tag is the one we need, Let's make a list of the TD tags in there.\n",
    "td_list = table_list[4].find_all('td')\n",
    "\n",
    "### Initialize ###\n",
    "months = []\n",
    "new_months = []\n",
    "inf_list = []\n",
    "num = len(td_list)\n",
    "index_counter = 0\n",
    "clean_months = []\n",
    "clean_inf_list = []\n",
    "\n",
    "# The next two blocks alternate through our list, and split it into two lists of our months and\n",
    "# our inflation rates\n",
    "for i in range(0, num, 2):\n",
    "    months.append(td_list[i].string)\n",
    "    \n",
    "for j in range(1, num, 2):\n",
    "    inf_list.append(td_list[j].string)\n",
    "\n",
    "### Debug ###\n",
    "# print len(months)\n",
    "\n",
    "# There is some garbage data due to messy tagging on the page... these two blocks strip those rows out.\n",
    "for count in range(len(months)):\n",
    "    if months[count] is None:\n",
    "        index_counter +=1\n",
    "        \n",
    "for count in range(len(months)-index_counter):\n",
    "    if months[count] is None:\n",
    "        del months[count]\n",
    "        del inf_list[count]\n",
    "        \n",
    "# Still a tiny bit of messy data that the previous blocks didn't strip out.        \n",
    "del months[2]\n",
    "del inf_list[2]\n",
    "\n",
    "# These next two blocks clean the list and turn it into data that can be used in numpy\n",
    "# **unfortunately I can't seem to get this block to work and I'm running out of time. Everything else should work though...**\n",
    "########\n",
    "#for item in months:\n",
    "#    clean_months.append(int(item))\n",
    "#for item in inf_list:\n",
    "#    clean_inf_list.append(float(item))\n",
    "########\n",
    "\n",
    "# Create the numpy array and clean it up\n",
    "########\n",
    "# array = np.column_stack([clean_months, clean_inf_list])\n",
    "# array2 = array[1:-3,:] #strip the footers of the table\n",
    "########\n",
    "\n",
    "# Graph it\n",
    "########\n",
    "# infl_fig = plt.figure()\n",
    "# inflate = infl_fig.add_subplot(111)\n",
    "# inflate.plot([array[:,0]], [array[:,1]])\n",
    "########"
   ]
  },
  {
   "cell_type": "code",
   "execution_count": null,
   "metadata": {
    "collapsed": true
   },
   "outputs": [],
   "source": []
  }
 ],
 "metadata": {
  "anaconda-cloud": {},
  "kernelspec": {
   "display_name": "Python [Root]",
   "language": "python",
   "name": "Python [Root]"
  },
  "language_info": {
   "codemirror_mode": {
    "name": "ipython",
    "version": 2
   },
   "file_extension": ".py",
   "mimetype": "text/x-python",
   "name": "python",
   "nbconvert_exporter": "python",
   "pygments_lexer": "ipython2",
   "version": "2.7.12"
  }
 },
 "nbformat": 4,
 "nbformat_minor": 0
}
